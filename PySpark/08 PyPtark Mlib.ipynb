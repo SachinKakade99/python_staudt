{
 "cells": [
  {
   "cell_type": "markdown",
   "id": "4b6b3294",
   "metadata": {},
   "source": [
    "### Pyspark ML"
   ]
  },
  {
   "cell_type": "code",
   "execution_count": 1,
   "id": "71151c54",
   "metadata": {},
   "outputs": [],
   "source": [
    "from pyspark.sql import SparkSession\n",
    "spark = SparkSession.builder.appName('Preactice').getOrCreate()"
   ]
  },
  {
   "cell_type": "code",
   "execution_count": 4,
   "id": "5dda2b09",
   "metadata": {},
   "outputs": [
    {
     "name": "stdout",
     "output_type": "stream",
     "text": [
      "+---------+----+----------+------+\n",
      "|     Name| age|Experience|Salary|\n",
      "+---------+----+----------+------+\n",
      "|    Krish|  31|        10| 30000|\n",
      "|Sudhanshu|  30|         8| 25000|\n",
      "|    Sunny|  29|         4| 20000|\n",
      "|     Paul|  24|         3| 20000|\n",
      "|   Harsha|  21|         1| 15000|\n",
      "|  Shubham|  23|         2| 18000|\n",
      "|   Mahesh|null|      null| 40000|\n",
      "|     null|  34|        10| 38000|\n",
      "|     null|  36|      null|  null|\n",
      "+---------+----+----------+------+\n",
      "\n"
     ]
    }
   ],
   "source": [
    "df = spark.read.csv('test2.csv',header=True, inferSchema=True)\n",
    "df.show()"
   ]
  },
  {
   "cell_type": "code",
   "execution_count": 5,
   "id": "6259429a",
   "metadata": {},
   "outputs": [
    {
     "name": "stdout",
     "output_type": "stream",
     "text": [
      "root\n",
      " |-- Name: string (nullable = true)\n",
      " |-- age: integer (nullable = true)\n",
      " |-- Experience: integer (nullable = true)\n",
      " |-- Salary: integer (nullable = true)\n",
      "\n"
     ]
    }
   ],
   "source": [
    "df.printSchema()"
   ]
  },
  {
   "cell_type": "code",
   "execution_count": 25,
   "id": "96ad4733",
   "metadata": {},
   "outputs": [],
   "source": [
    "df1=df.dropna()"
   ]
  },
  {
   "cell_type": "code",
   "execution_count": 26,
   "id": "c3297447",
   "metadata": {},
   "outputs": [
    {
     "data": {
      "text/plain": [
       "['Name', 'age', 'Experience', 'Salary']"
      ]
     },
     "execution_count": 26,
     "metadata": {},
     "output_type": "execute_result"
    }
   ],
   "source": [
    "df1.columns"
   ]
  },
  {
   "cell_type": "code",
   "execution_count": 14,
   "id": "b8533187",
   "metadata": {},
   "outputs": [],
   "source": [
    "from pyspark.ml.feature import VectorAssembler\n",
    "feture_assembler = VectorAssembler(inputCols=['age','Experience'],outputCol='Independent Feture')"
   ]
  },
  {
   "cell_type": "code",
   "execution_count": 27,
   "id": "128ba894",
   "metadata": {},
   "outputs": [],
   "source": [
    "output = feture_assembler.transform(df1)"
   ]
  },
  {
   "cell_type": "code",
   "execution_count": 29,
   "id": "2a62c728",
   "metadata": {},
   "outputs": [
    {
     "name": "stdout",
     "output_type": "stream",
     "text": [
      "+---------+---+----------+------+------------------+\n",
      "|     Name|age|Experience|Salary|Independent Feture|\n",
      "+---------+---+----------+------+------------------+\n",
      "|    Krish| 31|        10| 30000|       [31.0,10.0]|\n",
      "|Sudhanshu| 30|         8| 25000|        [30.0,8.0]|\n",
      "|    Sunny| 29|         4| 20000|        [29.0,4.0]|\n",
      "|     Paul| 24|         3| 20000|        [24.0,3.0]|\n",
      "|   Harsha| 21|         1| 15000|        [21.0,1.0]|\n",
      "|  Shubham| 23|         2| 18000|        [23.0,2.0]|\n",
      "+---------+---+----------+------+------------------+\n",
      "\n"
     ]
    }
   ],
   "source": [
    "output.show()"
   ]
  },
  {
   "cell_type": "code",
   "execution_count": 31,
   "id": "217543ba",
   "metadata": {},
   "outputs": [
    {
     "data": {
      "text/plain": [
       "['Name', 'age', 'Experience', 'Salary', 'Independent Feture']"
      ]
     },
     "execution_count": 31,
     "metadata": {},
     "output_type": "execute_result"
    }
   ],
   "source": [
    "output.columns"
   ]
  },
  {
   "cell_type": "code",
   "execution_count": 36,
   "id": "4338cfda",
   "metadata": {},
   "outputs": [
    {
     "name": "stdout",
     "output_type": "stream",
     "text": [
      "+------------------+------+\n",
      "|Independent Feture|Salary|\n",
      "+------------------+------+\n",
      "|       [31.0,10.0]| 30000|\n",
      "|        [30.0,8.0]| 25000|\n",
      "|        [29.0,4.0]| 20000|\n",
      "|        [24.0,3.0]| 20000|\n",
      "|        [21.0,1.0]| 15000|\n",
      "|        [23.0,2.0]| 18000|\n",
      "+------------------+------+\n",
      "\n"
     ]
    }
   ],
   "source": [
    "finalDF = output.select('Independent Feture', 'Salary')\n",
    "finalDF.show()"
   ]
  },
  {
   "cell_type": "code",
   "execution_count": 44,
   "id": "0b60512e",
   "metadata": {},
   "outputs": [],
   "source": [
    "from pyspark.ml.regression import LinearRegression\n",
    "# train test splite\n",
    "train_data,test_data = finalDF.randomSplit([0.75,0.25])\n",
    "linear = LinearRegression(featuresCol='Independent Feture',labelCol='Salary')\n",
    "model = linear.fit(train_data)"
   ]
  },
  {
   "cell_type": "code",
   "execution_count": 45,
   "id": "0fc64b22",
   "metadata": {},
   "outputs": [
    {
     "data": {
      "text/plain": [
       "DenseVector([736.8421, 736.8421])"
      ]
     },
     "execution_count": 45,
     "metadata": {},
     "output_type": "execute_result"
    }
   ],
   "source": [
    "model.coefficients"
   ]
  },
  {
   "cell_type": "code",
   "execution_count": 46,
   "id": "44ab2625",
   "metadata": {},
   "outputs": [
    {
     "data": {
      "text/plain": [
       "-175.43859649151398"
      ]
     },
     "execution_count": 46,
     "metadata": {},
     "output_type": "execute_result"
    }
   ],
   "source": [
    "model.intercept"
   ]
  },
  {
   "cell_type": "code",
   "execution_count": 49,
   "id": "ae37fabd",
   "metadata": {},
   "outputs": [
    {
     "name": "stdout",
     "output_type": "stream",
     "text": [
      "+------------------+------+\n",
      "|Independent Feture|Salary|\n",
      "+------------------+------+\n",
      "|        [21.0,1.0]| 15000|\n",
      "|        [29.0,4.0]| 20000|\n",
      "|        [30.0,8.0]| 25000|\n",
      "+------------------+------+\n",
      "\n"
     ]
    }
   ],
   "source": [
    "test_data.show()"
   ]
  },
  {
   "cell_type": "code",
   "execution_count": 47,
   "id": "ae5c73a6",
   "metadata": {},
   "outputs": [
    {
     "name": "stdout",
     "output_type": "stream",
     "text": [
      "+------------------+------+\n",
      "|Independent Feture|Salary|\n",
      "+------------------+------+\n",
      "|        [23.0,2.0]| 18000|\n",
      "|        [24.0,3.0]| 20000|\n",
      "|       [31.0,10.0]| 30000|\n",
      "+------------------+------+\n",
      "\n"
     ]
    }
   ],
   "source": [
    "train_data.show()"
   ]
  },
  {
   "cell_type": "code",
   "execution_count": 48,
   "id": "0b5bfe41",
   "metadata": {},
   "outputs": [],
   "source": [
    "preditions = model.evaluate(test_data)"
   ]
  },
  {
   "cell_type": "code",
   "execution_count": 50,
   "id": "a68a19e4",
   "metadata": {},
   "outputs": [
    {
     "name": "stdout",
     "output_type": "stream",
     "text": [
      "+------------------+------+------------------+\n",
      "|Independent Feture|Salary|        prediction|\n",
      "+------------------+------+------------------+\n",
      "|        [21.0,1.0]| 15000|16035.087719298195|\n",
      "|        [29.0,4.0]| 20000| 24140.35087719302|\n",
      "|        [30.0,8.0]| 25000| 27824.56140350881|\n",
      "+------------------+------+------------------+\n",
      "\n"
     ]
    },
    {
     "name": "stderr",
     "output_type": "stream",
     "text": [
      "C:\\Users\\sachin\\anaconda3\\lib\\site-packages\\pyspark\\sql\\context.py:125: FutureWarning: Deprecated in 3.0.0. Use SparkSession.builder.getOrCreate() instead.\n",
      "  warnings.warn(\n"
     ]
    }
   ],
   "source": [
    "preditions.predictions.show()"
   ]
  },
  {
   "cell_type": "code",
   "execution_count": null,
   "id": "4b27b2f4",
   "metadata": {},
   "outputs": [],
   "source": []
  }
 ],
 "metadata": {
  "kernelspec": {
   "display_name": "Python 3 (ipykernel)",
   "language": "python",
   "name": "python3"
  },
  "language_info": {
   "codemirror_mode": {
    "name": "ipython",
    "version": 3
   },
   "file_extension": ".py",
   "mimetype": "text/x-python",
   "name": "python",
   "nbconvert_exporter": "python",
   "pygments_lexer": "ipython3",
   "version": "3.9.7"
  }
 },
 "nbformat": 4,
 "nbformat_minor": 5
}
