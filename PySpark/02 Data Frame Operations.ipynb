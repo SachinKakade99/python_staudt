{
 "cells": [
  {
   "cell_type": "markdown",
   "id": "2db12a82",
   "metadata": {},
   "source": [
    "#### In file We will Cover\n",
    "- PySpark Dataframe \n",
    "- Reading The Dataset\n",
    "- Checking the Datatypes of the Column(Schema)\n",
    "- Selecting Columns And Indexing\n",
    "- Check Describe option similar to Pandas\n",
    "- Adding Columns\n",
    "- Dropping columns\n",
    "- Renaming Columns"
   ]
  },
  {
   "cell_type": "code",
   "execution_count": 2,
   "id": "cffab23d",
   "metadata": {},
   "outputs": [],
   "source": [
    "from pyspark.sql import SparkSession\n",
    "spark = SparkSession.builder.appName('Practice').getOrCreate()"
   ]
  },
  {
   "cell_type": "code",
   "execution_count": 4,
   "id": "8b207d3a",
   "metadata": {},
   "outputs": [
    {
     "name": "stdout",
     "output_type": "stream",
     "text": [
      "root\n",
      " |-- name: string (nullable = true)\n",
      " |-- age: integer (nullable = true)\n",
      " |-- exp: integer (nullable = true)\n",
      "\n"
     ]
    }
   ],
   "source": [
    "df = spark.read.option('header','true').csv('test1.csv',inferSchema=True)\n",
    "df.printSchema()"
   ]
  },
  {
   "cell_type": "code",
   "execution_count": 5,
   "id": "7bae8e68",
   "metadata": {},
   "outputs": [
    {
     "name": "stdout",
     "output_type": "stream",
     "text": [
      "root\n",
      " |-- name: string (nullable = true)\n",
      " |-- age: integer (nullable = true)\n",
      " |-- exp: integer (nullable = true)\n",
      "\n"
     ]
    }
   ],
   "source": [
    "df = spark.read.csv('test1.csv',header=True,inferSchema=True)\n",
    "df.printSchema()"
   ]
  },
  {
   "cell_type": "code",
   "execution_count": 6,
   "id": "6d2e5ab9",
   "metadata": {},
   "outputs": [
    {
     "name": "stdout",
     "output_type": "stream",
     "text": [
      "+------+---+---+\n",
      "|  name|age|exp|\n",
      "+------+---+---+\n",
      "|sachin| 30|  5|\n",
      "| sagar| 29|  5|\n",
      "|kumood| 32| 10|\n",
      "|kishor| 31|  7|\n",
      "+------+---+---+\n",
      "\n"
     ]
    }
   ],
   "source": [
    "df.show()"
   ]
  },
  {
   "cell_type": "code",
   "execution_count": 7,
   "id": "631a9da6",
   "metadata": {},
   "outputs": [
    {
     "name": "stdout",
     "output_type": "stream",
     "text": [
      "+------+\n",
      "|  name|\n",
      "+------+\n",
      "|sachin|\n",
      "| sagar|\n",
      "|kumood|\n",
      "|kishor|\n",
      "+------+\n",
      "\n"
     ]
    }
   ],
   "source": [
    "df.select('name').show()"
   ]
  },
  {
   "cell_type": "code",
   "execution_count": 8,
   "id": "a0c4bae7",
   "metadata": {},
   "outputs": [
    {
     "name": "stdout",
     "output_type": "stream",
     "text": [
      "+------+---+\n",
      "|  name|exp|\n",
      "+------+---+\n",
      "|sachin|  5|\n",
      "| sagar|  5|\n",
      "|kumood| 10|\n",
      "|kishor|  7|\n",
      "+------+---+\n",
      "\n"
     ]
    }
   ],
   "source": [
    "df.select(['name','exp']).show()"
   ]
  },
  {
   "cell_type": "code",
   "execution_count": 9,
   "id": "f5d98220",
   "metadata": {},
   "outputs": [
    {
     "data": {
      "text/plain": [
       "[('name', 'string'), ('age', 'int'), ('exp', 'int')]"
      ]
     },
     "execution_count": 9,
     "metadata": {},
     "output_type": "execute_result"
    }
   ],
   "source": [
    "df.dtypes"
   ]
  },
  {
   "cell_type": "code",
   "execution_count": 10,
   "id": "e42e1c50",
   "metadata": {},
   "outputs": [
    {
     "data": {
      "text/plain": [
       "DataFrame[summary: string, name: string, age: string, exp: string]"
      ]
     },
     "execution_count": 10,
     "metadata": {},
     "output_type": "execute_result"
    }
   ],
   "source": [
    "df.describe()"
   ]
  },
  {
   "cell_type": "code",
   "execution_count": 11,
   "id": "4b9af7fd",
   "metadata": {},
   "outputs": [
    {
     "name": "stdout",
     "output_type": "stream",
     "text": [
      "+-------+------+------------------+-----------------+\n",
      "|summary|  name|               age|              exp|\n",
      "+-------+------+------------------+-----------------+\n",
      "|  count|     4|                 4|                4|\n",
      "|   mean|  null|              30.5|             6.75|\n",
      "| stddev|  null|1.2909944487358058|2.362907813126304|\n",
      "|    min|kishor|                29|                5|\n",
      "|    max| sagar|                32|               10|\n",
      "+-------+------+------------------+-----------------+\n",
      "\n"
     ]
    }
   ],
   "source": [
    "df.describe().show()"
   ]
  },
  {
   "cell_type": "markdown",
   "id": "41933372",
   "metadata": {},
   "source": [
    "### add the columns"
   ]
  },
  {
   "cell_type": "code",
   "execution_count": 34,
   "id": "2c8005f8",
   "metadata": {},
   "outputs": [
    {
     "name": "stdout",
     "output_type": "stream",
     "text": [
      "+------+---+---+\n",
      "|  name|age|exp|\n",
      "+------+---+---+\n",
      "|sachin| 30|  5|\n",
      "| sagar| 29|  5|\n",
      "|kumood| 32| 10|\n",
      "|kishor| 31|  7|\n",
      "+------+---+---+\n",
      "\n",
      "+------+---+---+-------------+\n",
      "|  name|age|exp|exp after 2yr|\n",
      "+------+---+---+-------------+\n",
      "|sachin| 30|  5|            7|\n",
      "| sagar| 29|  5|            7|\n",
      "|kumood| 32| 10|           12|\n",
      "|kishor| 31|  7|            9|\n",
      "+------+---+---+-------------+\n",
      "\n"
     ]
    }
   ],
   "source": [
    "df1 = df.withColumn('exp after 2yr',df['exp']+2)\n",
    "df.show()\n",
    "df1.show()"
   ]
  },
  {
   "cell_type": "code",
   "execution_count": 35,
   "id": "78c049f4",
   "metadata": {},
   "outputs": [
    {
     "name": "stdout",
     "output_type": "stream",
     "text": [
      "+------+---+---+-------------+\n",
      "|  name|age|exp|exp after 2yr|\n",
      "+------+---+---+-------------+\n",
      "|sachin| 30|  5|            7|\n",
      "| sagar| 29|  5|            7|\n",
      "|kumood| 32| 10|           12|\n",
      "|kishor| 31|  7|            9|\n",
      "+------+---+---+-------------+\n",
      "\n",
      "+------+---+---+\n",
      "|  name|age|exp|\n",
      "+------+---+---+\n",
      "|sachin| 30|  5|\n",
      "| sagar| 29|  5|\n",
      "|kumood| 32| 10|\n",
      "|kishor| 31|  7|\n",
      "+------+---+---+\n",
      "\n"
     ]
    }
   ],
   "source": [
    "df2 = df1.drop('exp after 2yr')\n",
    "df1.show()\n",
    "df2.show()"
   ]
  },
  {
   "cell_type": "code",
   "execution_count": 36,
   "id": "f7a12cfc",
   "metadata": {},
   "outputs": [
    {
     "name": "stdout",
     "output_type": "stream",
     "text": [
      "+------+---+---+-----+\n",
      "|  name|age|exp|exp+2|\n",
      "+------+---+---+-----+\n",
      "|sachin| 30|  5|    7|\n",
      "| sagar| 29|  5|    7|\n",
      "|kumood| 32| 10|   12|\n",
      "|kishor| 31|  7|    9|\n",
      "+------+---+---+-----+\n",
      "\n"
     ]
    }
   ],
   "source": [
    "df1.withColumnRenamed('exp after 2yr','exp+2').show()"
   ]
  },
  {
   "cell_type": "code",
   "execution_count": 37,
   "id": "f3cddbcb",
   "metadata": {},
   "outputs": [
    {
     "name": "stdout",
     "output_type": "stream",
     "text": [
      "+------+---+---+-----+\n",
      "|  name|Age|exp|exp+2|\n",
      "+------+---+---+-----+\n",
      "|sachin| 30|  5|    7|\n",
      "| sagar| 29|  5|    7|\n",
      "|kumood| 32| 10|   12|\n",
      "|kishor| 31|  7|    9|\n",
      "+------+---+---+-----+\n",
      "\n"
     ]
    }
   ],
   "source": [
    "df1.withColumnRenamed('exp after 2yr','exp+2')\\\n",
    ".withColumnRenamed('age','Age').show()"
   ]
  },
  {
   "cell_type": "markdown",
   "id": "6dbca4e2",
   "metadata": {},
   "source": [
    "### add the Row"
   ]
  },
  {
   "cell_type": "code",
   "execution_count": 5,
   "id": "f8d018e1",
   "metadata": {},
   "outputs": [
    {
     "name": "stdout",
     "output_type": "stream",
     "text": [
      "+------+---+---+\n",
      "|  name|age|exp|\n",
      "+------+---+---+\n",
      "|sachin| 30|  5|\n",
      "| sagar| 29|  5|\n",
      "|kumood| 32| 10|\n",
      "|kishor| 31|  7|\n",
      "+------+---+---+\n",
      "\n"
     ]
    }
   ],
   "source": [
    "df.show()"
   ]
  },
  {
   "cell_type": "code",
   "execution_count": null,
   "id": "a62e246f",
   "metadata": {},
   "outputs": [],
   "source": [
    "# need to import to use pyspark\n",
    "from pyspark.sql import Row\n",
    " \n",
    "# need to import for session creation\n",
    "from pyspark.sql import SparkSession\n",
    " \n",
    "# creating the session\n",
    "spark = SparkSession.builder.getOrCreate()\n",
    " \n",
    "# schema creation by passing list\n",
    "df = spark.createDataFrame([\n",
    "    Row(a=1, b=4., c='GFG1', d=date(2000, 8, 1),\n",
    "        e=datetime(2000, 8, 1, 12, 0)),\n",
    "   \n",
    "    Row(a=2, b=8., c='GFG2', d=date(2000, 6, 2),\n",
    "        e=datetime(2000, 6, 2, 12, 0)),\n",
    "   \n",
    "    Row(a=4, b=5., c='GFG3', d=date(2000, 5, 3),\n",
    "        e=datetime(2000, 5, 3, 12, 0))\n",
    "])\n",
    "\n",
    "# PySpark DataFrame with Explicit Schema\n",
    "df = spark.createDataFrame([\n",
    "    (1, 4., 'GFG1', date(2000, 8, 1),\n",
    "     datetime(2000, 8, 1, 12, 0)),\n",
    "   \n",
    "    (2, 8., 'GFG2', date(2000, 6, 2),\n",
    "     datetime(2000, 6, 2, 12, 0)),\n",
    "   \n",
    "    (3, 5., 'GFG3', date(2000, 5, 3),\n",
    "     datetime(2000, 5, 3, 12, 0))\n",
    "], schema='a long, b double, c string, d date, e timestamp')\n",
    "\n",
    "\n",
    "pandas_df = pd.DataFrame({\n",
    "    'a': [1, 2, 3],\n",
    "   \n",
    "    'b': [4., 8., 5.],\n",
    "   \n",
    "    'c': ['GFG1', 'GFG2', 'GFG3'],\n",
    "   \n",
    "    'd': [date(2000, 8, 1), date(2000, 6, 2),\n",
    "          date(2000, 5, 3)],\n",
    "   \n",
    "    'e': [datetime(2000, 8, 1, 12, 0),\n",
    "          datetime(2000, 6, 2, 12, 0),\n",
    "          datetime(2000, 5, 3, 12, 0)]\n",
    "})\n",
    " \n",
    "df = spark.createDataFrame(pandas_df)\n",
    "\n",
    "# pyspark dataframe From RDD\n",
    "rdd = spark.sparkContext.parallelize([\n",
    "    (1, 4., 'GFG1', date(2000, 8, 1), datetime(2000, 8, 1, 12, 0)),\n",
    "    (2, 8., 'GFG2', date(2000, 6, 2), datetime(2000, 6, 2, 12, 0)),\n",
    "    (3, 5., 'GFG3', date(2000, 5, 3), datetime(2000, 5, 3, 12, 0))\n",
    "])\n",
    "df = spark.createDataFrame(rdd, schema=['a', 'b', 'c', 'd', 'e'])"
   ]
  }
 ],
 "metadata": {
  "kernelspec": {
   "display_name": "Python 3 (ipykernel)",
   "language": "python",
   "name": "python3"
  },
  "language_info": {
   "codemirror_mode": {
    "name": "ipython",
    "version": 3
   },
   "file_extension": ".py",
   "mimetype": "text/x-python",
   "name": "python",
   "nbconvert_exporter": "python",
   "pygments_lexer": "ipython3",
   "version": "3.9.7"
  }
 },
 "nbformat": 4,
 "nbformat_minor": 5
}
