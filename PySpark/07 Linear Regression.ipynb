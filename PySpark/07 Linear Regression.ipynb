{
 "cells": [
  {
   "cell_type": "code",
   "execution_count": 3,
   "id": "e1a03072",
   "metadata": {},
   "outputs": [],
   "source": [
    "from pyspark.sql import SparkSession"
   ]
  },
  {
   "cell_type": "code",
   "execution_count": 5,
   "id": "13c3b52b",
   "metadata": {},
   "outputs": [],
   "source": [
    "spark = SparkSession.builder.appName('Practice').getOrCreate()"
   ]
  },
  {
   "cell_type": "code",
   "execution_count": 6,
   "id": "3e2fb235",
   "metadata": {},
   "outputs": [],
   "source": [
    "df = spark.read.csv('tips.csv',header=True,inferSchema=True)"
   ]
  },
  {
   "cell_type": "code",
   "execution_count": 7,
   "id": "5e9be0a6",
   "metadata": {},
   "outputs": [
    {
     "name": "stdout",
     "output_type": "stream",
     "text": [
      "+----------+----+------+------+---+------+----+\n",
      "|total_bill| tip|   sex|smoker|day|  time|size|\n",
      "+----------+----+------+------+---+------+----+\n",
      "|     16.99|1.01|Female|    No|Sun|Dinner|   2|\n",
      "|     10.34|1.66|  Male|    No|Sun|Dinner|   3|\n",
      "|     21.01| 3.5|  Male|    No|Sun|Dinner|   3|\n",
      "|     23.68|3.31|  Male|    No|Sun|Dinner|   2|\n",
      "|     24.59|3.61|Female|    No|Sun|Dinner|   4|\n",
      "|     25.29|4.71|  Male|    No|Sun|Dinner|   4|\n",
      "|      8.77| 2.0|  Male|    No|Sun|Dinner|   2|\n",
      "|     26.88|3.12|  Male|    No|Sun|Dinner|   4|\n",
      "|     15.04|1.96|  Male|    No|Sun|Dinner|   2|\n",
      "|     14.78|3.23|  Male|    No|Sun|Dinner|   2|\n",
      "|     10.27|1.71|  Male|    No|Sun|Dinner|   2|\n",
      "|     35.26| 5.0|Female|    No|Sun|Dinner|   4|\n",
      "|     15.42|1.57|  Male|    No|Sun|Dinner|   2|\n",
      "|     18.43| 3.0|  Male|    No|Sun|Dinner|   4|\n",
      "|     14.83|3.02|Female|    No|Sun|Dinner|   2|\n",
      "|     21.58|3.92|  Male|    No|Sun|Dinner|   2|\n",
      "|     10.33|1.67|Female|    No|Sun|Dinner|   3|\n",
      "|     16.29|3.71|  Male|    No|Sun|Dinner|   3|\n",
      "|     16.97| 3.5|Female|    No|Sun|Dinner|   3|\n",
      "|     20.65|3.35|  Male|    No|Sat|Dinner|   3|\n",
      "+----------+----+------+------+---+------+----+\n",
      "only showing top 20 rows\n",
      "\n"
     ]
    }
   ],
   "source": [
    "df.show()"
   ]
  },
  {
   "cell_type": "code",
   "execution_count": 8,
   "id": "56668541",
   "metadata": {},
   "outputs": [
    {
     "name": "stdout",
     "output_type": "stream",
     "text": [
      "root\n",
      " |-- total_bill: double (nullable = true)\n",
      " |-- tip: double (nullable = true)\n",
      " |-- sex: string (nullable = true)\n",
      " |-- smoker: string (nullable = true)\n",
      " |-- day: string (nullable = true)\n",
      " |-- time: string (nullable = true)\n",
      " |-- size: integer (nullable = true)\n",
      "\n"
     ]
    }
   ],
   "source": [
    "df.printSchema()"
   ]
  },
  {
   "cell_type": "code",
   "execution_count": 9,
   "id": "5d374a26",
   "metadata": {},
   "outputs": [
    {
     "data": {
      "text/plain": [
       "['total_bill', 'tip', 'sex', 'smoker', 'day', 'time', 'size']"
      ]
     },
     "execution_count": 9,
     "metadata": {},
     "output_type": "execute_result"
    }
   ],
   "source": [
    "df.columns"
   ]
  },
  {
   "cell_type": "code",
   "execution_count": 10,
   "id": "b7634843",
   "metadata": {},
   "outputs": [],
   "source": [
    "# Handling Categorical Feature\n",
    "from pyspark.ml.feature import StringIndexer"
   ]
  },
  {
   "cell_type": "code",
   "execution_count": 12,
   "id": "2aadef9a",
   "metadata": {},
   "outputs": [],
   "source": [
    "# for singal column\n",
    "# indexer = StringIndexer(inputCol='sex',outputCol='sex_inx')\n",
    "# for multipal columns\n",
    "indexer = StringIndexer(inputCols=['sex', 'smoker', 'day', 'time'],outputCols=['sex_id', 'smoker_id', 'day_id', 'time_id'])"
   ]
  },
  {
   "cell_type": "code",
   "execution_count": 13,
   "id": "2ff01dc4",
   "metadata": {},
   "outputs": [
    {
     "name": "stdout",
     "output_type": "stream",
     "text": [
      "+----------+----+------+------+---+------+----+------+---------+------+-------+\n",
      "|total_bill| tip|   sex|smoker|day|  time|size|sex_id|smoker_id|day_id|time_id|\n",
      "+----------+----+------+------+---+------+----+------+---------+------+-------+\n",
      "|     16.99|1.01|Female|    No|Sun|Dinner|   2|   1.0|      0.0|   1.0|    0.0|\n",
      "|     10.34|1.66|  Male|    No|Sun|Dinner|   3|   0.0|      0.0|   1.0|    0.0|\n",
      "|     21.01| 3.5|  Male|    No|Sun|Dinner|   3|   0.0|      0.0|   1.0|    0.0|\n",
      "|     23.68|3.31|  Male|    No|Sun|Dinner|   2|   0.0|      0.0|   1.0|    0.0|\n",
      "|     24.59|3.61|Female|    No|Sun|Dinner|   4|   1.0|      0.0|   1.0|    0.0|\n",
      "|     25.29|4.71|  Male|    No|Sun|Dinner|   4|   0.0|      0.0|   1.0|    0.0|\n",
      "|      8.77| 2.0|  Male|    No|Sun|Dinner|   2|   0.0|      0.0|   1.0|    0.0|\n",
      "|     26.88|3.12|  Male|    No|Sun|Dinner|   4|   0.0|      0.0|   1.0|    0.0|\n",
      "|     15.04|1.96|  Male|    No|Sun|Dinner|   2|   0.0|      0.0|   1.0|    0.0|\n",
      "|     14.78|3.23|  Male|    No|Sun|Dinner|   2|   0.0|      0.0|   1.0|    0.0|\n",
      "|     10.27|1.71|  Male|    No|Sun|Dinner|   2|   0.0|      0.0|   1.0|    0.0|\n",
      "|     35.26| 5.0|Female|    No|Sun|Dinner|   4|   1.0|      0.0|   1.0|    0.0|\n",
      "|     15.42|1.57|  Male|    No|Sun|Dinner|   2|   0.0|      0.0|   1.0|    0.0|\n",
      "|     18.43| 3.0|  Male|    No|Sun|Dinner|   4|   0.0|      0.0|   1.0|    0.0|\n",
      "|     14.83|3.02|Female|    No|Sun|Dinner|   2|   1.0|      0.0|   1.0|    0.0|\n",
      "|     21.58|3.92|  Male|    No|Sun|Dinner|   2|   0.0|      0.0|   1.0|    0.0|\n",
      "|     10.33|1.67|Female|    No|Sun|Dinner|   3|   1.0|      0.0|   1.0|    0.0|\n",
      "|     16.29|3.71|  Male|    No|Sun|Dinner|   3|   0.0|      0.0|   1.0|    0.0|\n",
      "|     16.97| 3.5|Female|    No|Sun|Dinner|   3|   1.0|      0.0|   1.0|    0.0|\n",
      "|     20.65|3.35|  Male|    No|Sat|Dinner|   3|   0.0|      0.0|   0.0|    0.0|\n",
      "+----------+----+------+------+---+------+----+------+---------+------+-------+\n",
      "only showing top 20 rows\n",
      "\n"
     ]
    }
   ],
   "source": [
    "trfm_df = indexer.fit(df).transform(df)\n",
    "trfm_df.show()"
   ]
  },
  {
   "cell_type": "code",
   "execution_count": 14,
   "id": "91830d1b",
   "metadata": {},
   "outputs": [
    {
     "data": {
      "text/plain": [
       "['total_bill',\n",
       " 'tip',\n",
       " 'sex',\n",
       " 'smoker',\n",
       " 'day',\n",
       " 'time',\n",
       " 'size',\n",
       " 'sex_id',\n",
       " 'smoker_id',\n",
       " 'day_id',\n",
       " 'time_id']"
      ]
     },
     "execution_count": 14,
     "metadata": {},
     "output_type": "execute_result"
    }
   ],
   "source": [
    "trfm_df.columns"
   ]
  },
  {
   "cell_type": "code",
   "execution_count": 15,
   "id": "39bff526",
   "metadata": {},
   "outputs": [],
   "source": [
    "from pyspark.ml.feature import VectorAssembler"
   ]
  },
  {
   "cell_type": "code",
   "execution_count": 16,
   "id": "83c921dd",
   "metadata": {},
   "outputs": [],
   "source": [
    "featureAssembler = VectorAssembler(inputCols=['total_bill','size',\n",
    " 'sex_id',\n",
    " 'smoker_id',\n",
    " 'day_id',\n",
    " 'time_id'], outputCol='ipFeatures')"
   ]
  },
  {
   "cell_type": "code",
   "execution_count": 17,
   "id": "0c38244d",
   "metadata": {},
   "outputs": [
    {
     "name": "stdout",
     "output_type": "stream",
     "text": [
      "+----------+----+------+------+---+------+----+------+---------+------+-------+--------------------+\n",
      "|total_bill| tip|   sex|smoker|day|  time|size|sex_id|smoker_id|day_id|time_id|          ipFeatures|\n",
      "+----------+----+------+------+---+------+----+------+---------+------+-------+--------------------+\n",
      "|     16.99|1.01|Female|    No|Sun|Dinner|   2|   1.0|      0.0|   1.0|    0.0|[16.99,2.0,1.0,0....|\n",
      "|     10.34|1.66|  Male|    No|Sun|Dinner|   3|   0.0|      0.0|   1.0|    0.0|[10.34,3.0,0.0,0....|\n",
      "|     21.01| 3.5|  Male|    No|Sun|Dinner|   3|   0.0|      0.0|   1.0|    0.0|[21.01,3.0,0.0,0....|\n",
      "|     23.68|3.31|  Male|    No|Sun|Dinner|   2|   0.0|      0.0|   1.0|    0.0|[23.68,2.0,0.0,0....|\n",
      "|     24.59|3.61|Female|    No|Sun|Dinner|   4|   1.0|      0.0|   1.0|    0.0|[24.59,4.0,1.0,0....|\n",
      "|     25.29|4.71|  Male|    No|Sun|Dinner|   4|   0.0|      0.0|   1.0|    0.0|[25.29,4.0,0.0,0....|\n",
      "|      8.77| 2.0|  Male|    No|Sun|Dinner|   2|   0.0|      0.0|   1.0|    0.0|[8.77,2.0,0.0,0.0...|\n",
      "|     26.88|3.12|  Male|    No|Sun|Dinner|   4|   0.0|      0.0|   1.0|    0.0|[26.88,4.0,0.0,0....|\n",
      "|     15.04|1.96|  Male|    No|Sun|Dinner|   2|   0.0|      0.0|   1.0|    0.0|[15.04,2.0,0.0,0....|\n",
      "|     14.78|3.23|  Male|    No|Sun|Dinner|   2|   0.0|      0.0|   1.0|    0.0|[14.78,2.0,0.0,0....|\n",
      "|     10.27|1.71|  Male|    No|Sun|Dinner|   2|   0.0|      0.0|   1.0|    0.0|[10.27,2.0,0.0,0....|\n",
      "|     35.26| 5.0|Female|    No|Sun|Dinner|   4|   1.0|      0.0|   1.0|    0.0|[35.26,4.0,1.0,0....|\n",
      "|     15.42|1.57|  Male|    No|Sun|Dinner|   2|   0.0|      0.0|   1.0|    0.0|[15.42,2.0,0.0,0....|\n",
      "|     18.43| 3.0|  Male|    No|Sun|Dinner|   4|   0.0|      0.0|   1.0|    0.0|[18.43,4.0,0.0,0....|\n",
      "|     14.83|3.02|Female|    No|Sun|Dinner|   2|   1.0|      0.0|   1.0|    0.0|[14.83,2.0,1.0,0....|\n",
      "|     21.58|3.92|  Male|    No|Sun|Dinner|   2|   0.0|      0.0|   1.0|    0.0|[21.58,2.0,0.0,0....|\n",
      "|     10.33|1.67|Female|    No|Sun|Dinner|   3|   1.0|      0.0|   1.0|    0.0|[10.33,3.0,1.0,0....|\n",
      "|     16.29|3.71|  Male|    No|Sun|Dinner|   3|   0.0|      0.0|   1.0|    0.0|[16.29,3.0,0.0,0....|\n",
      "|     16.97| 3.5|Female|    No|Sun|Dinner|   3|   1.0|      0.0|   1.0|    0.0|[16.97,3.0,1.0,0....|\n",
      "|     20.65|3.35|  Male|    No|Sat|Dinner|   3|   0.0|      0.0|   0.0|    0.0|(6,[0,1],[20.65,3...|\n",
      "+----------+----+------+------+---+------+----+------+---------+------+-------+--------------------+\n",
      "only showing top 20 rows\n",
      "\n"
     ]
    }
   ],
   "source": [
    "output = featureAssembler.transform(trfm_df)\n",
    "output.show()"
   ]
  },
  {
   "cell_type": "code",
   "execution_count": 18,
   "id": "f23bde70",
   "metadata": {},
   "outputs": [],
   "source": [
    "finel = output.select(['ipFeatures','tip'])"
   ]
  },
  {
   "cell_type": "code",
   "execution_count": 20,
   "id": "ffb810a5",
   "metadata": {},
   "outputs": [
    {
     "name": "stdout",
     "output_type": "stream",
     "text": [
      "+--------------------+----+\n",
      "|          ipFeatures| tip|\n",
      "+--------------------+----+\n",
      "|[16.99,2.0,1.0,0....|1.01|\n",
      "|[10.34,3.0,0.0,0....|1.66|\n",
      "|[21.01,3.0,0.0,0....| 3.5|\n",
      "|[23.68,2.0,0.0,0....|3.31|\n",
      "|[24.59,4.0,1.0,0....|3.61|\n",
      "|[25.29,4.0,0.0,0....|4.71|\n",
      "|[8.77,2.0,0.0,0.0...| 2.0|\n",
      "|[26.88,4.0,0.0,0....|3.12|\n",
      "|[15.04,2.0,0.0,0....|1.96|\n",
      "|[14.78,2.0,0.0,0....|3.23|\n",
      "|[10.27,2.0,0.0,0....|1.71|\n",
      "|[35.26,4.0,1.0,0....| 5.0|\n",
      "|[15.42,2.0,0.0,0....|1.57|\n",
      "|[18.43,4.0,0.0,0....| 3.0|\n",
      "|[14.83,2.0,1.0,0....|3.02|\n",
      "|[21.58,2.0,0.0,0....|3.92|\n",
      "|[10.33,3.0,1.0,0....|1.67|\n",
      "|[16.29,3.0,0.0,0....|3.71|\n",
      "|[16.97,3.0,1.0,0....| 3.5|\n",
      "|(6,[0,1],[20.65,3...|3.35|\n",
      "+--------------------+----+\n",
      "only showing top 20 rows\n",
      "\n"
     ]
    }
   ],
   "source": [
    "finel.show()"
   ]
  },
  {
   "cell_type": "code",
   "execution_count": 21,
   "id": "483f64ea",
   "metadata": {},
   "outputs": [],
   "source": [
    "from pyspark.ml.regression import LinearRegression"
   ]
  },
  {
   "cell_type": "code",
   "execution_count": 23,
   "id": "9397f796",
   "metadata": {},
   "outputs": [],
   "source": [
    "train_data,test_data = finel.randomSplit([0.75,0.25])\n",
    "regreressor = LinearRegression(featuresCol='ipFeatures',labelCol='tip')\n",
    "regreressor = regreressor.fit(train_data)"
   ]
  },
  {
   "cell_type": "code",
   "execution_count": 25,
   "id": "dd79bd8f",
   "metadata": {},
   "outputs": [
    {
     "data": {
      "text/plain": [
       "DenseVector([0.0869, 0.211, -0.0777, -0.1879, 0.1234, -0.2137])"
      ]
     },
     "execution_count": 25,
     "metadata": {},
     "output_type": "execute_result"
    }
   ],
   "source": [
    "regreressor.coefficients"
   ]
  },
  {
   "cell_type": "code",
   "execution_count": 26,
   "id": "059334db",
   "metadata": {},
   "outputs": [
    {
     "data": {
      "text/plain": [
       "0.7506843400532649"
      ]
     },
     "execution_count": 26,
     "metadata": {},
     "output_type": "execute_result"
    }
   ],
   "source": [
    "regreressor.intercept"
   ]
  },
  {
   "cell_type": "code",
   "execution_count": 27,
   "id": "43f0ece6",
   "metadata": {},
   "outputs": [],
   "source": [
    "result = regreressor.evaluate(test_data)"
   ]
  },
  {
   "cell_type": "code",
   "execution_count": 28,
   "id": "a01aeba8",
   "metadata": {},
   "outputs": [
    {
     "name": "stderr",
     "output_type": "stream",
     "text": [
      "C:\\Users\\sachin\\anaconda3\\lib\\site-packages\\pyspark\\sql\\context.py:125: FutureWarning: Deprecated in 3.0.0. Use SparkSession.builder.getOrCreate() instead.\n",
      "  warnings.warn(\n"
     ]
    },
    {
     "name": "stdout",
     "output_type": "stream",
     "text": [
      "+--------------------+----+------------------+\n",
      "|          ipFeatures| tip|        prediction|\n",
      "+--------------------+----+------------------+\n",
      "|(6,[0,1],[13.28,2...|2.72|2.3272236568266216|\n",
      "|(6,[0,1],[16.04,3...|2.24| 2.778152255571271|\n",
      "|(6,[0,1],[16.31,3...| 2.0| 2.801627020030897|\n",
      "|(6,[0,1],[17.59,3...|2.64|2.9129147922839373|\n",
      "|(6,[0,1],[17.78,2...|3.27| 2.718469731153716|\n",
      "|(6,[0,1],[21.7,2.0])| 4.3|3.0592885336786515|\n",
      "|(6,[0,1],[48.27,4...|6.73| 5.791307923298028|\n",
      "|[7.51,2.0,0.0,0.0...| 2.0|1.8585825496907775|\n",
      "|[7.56,2.0,0.0,0.0...|1.44|1.8629297282944122|\n",
      "|[9.94,2.0,0.0,0.0...|1.56|2.1602046688081176|\n",
      "|[10.09,2.0,1.0,1....| 2.0|1.9406417721288283|\n",
      "|[10.27,2.0,0.0,0....|1.71|2.1888960475921047|\n",
      "|[10.29,2.0,1.0,0....| 2.6| 2.112886478217417|\n",
      "|[10.59,2.0,1.0,1....|1.61| 1.827717711737335|\n",
      "|[10.65,2.0,1.0,0....| 1.5|2.0538369251828756|\n",
      "|[12.16,2.0,0.0,1....| 2.2| 2.198363407135433|\n",
      "|[12.46,2.0,0.0,0....| 1.5| 2.626047555839836|\n",
      "|[12.54,2.0,0.0,0....| 2.5|2.3862579561971056|\n",
      "|[12.6,2.0,0.0,1.0...| 1.0| 2.080222732419579|\n",
      "|[12.9,2.0,1.0,1.0...| 1.1| 2.028557363225244|\n",
      "+--------------------+----+------------------+\n",
      "only showing top 20 rows\n",
      "\n"
     ]
    }
   ],
   "source": [
    "result.predictions.show()"
   ]
  },
  {
   "cell_type": "code",
   "execution_count": 29,
   "id": "111b15a0",
   "metadata": {},
   "outputs": [
    {
     "data": {
      "text/plain": [
       "0.556056329073833"
      ]
     },
     "execution_count": 29,
     "metadata": {},
     "output_type": "execute_result"
    }
   ],
   "source": [
    "result.r2"
   ]
  },
  {
   "cell_type": "code",
   "execution_count": 30,
   "id": "50999db7",
   "metadata": {},
   "outputs": [
    {
     "data": {
      "text/plain": [
       "0.7462382570443066"
      ]
     },
     "execution_count": 30,
     "metadata": {},
     "output_type": "execute_result"
    }
   ],
   "source": [
    "result.meanAbsoluteError"
   ]
  },
  {
   "cell_type": "code",
   "execution_count": 31,
   "id": "f0852804",
   "metadata": {},
   "outputs": [
    {
     "data": {
      "text/plain": [
       "1.0913192677714059"
      ]
     },
     "execution_count": 31,
     "metadata": {},
     "output_type": "execute_result"
    }
   ],
   "source": [
    "result.meanSquaredError"
   ]
  },
  {
   "cell_type": "code",
   "execution_count": null,
   "id": "7c6efce0",
   "metadata": {},
   "outputs": [],
   "source": []
  }
 ],
 "metadata": {
  "kernelspec": {
   "display_name": "Python 3",
   "language": "python",
   "name": "python3"
  },
  "language_info": {
   "codemirror_mode": {
    "name": "ipython",
    "version": 3
   },
   "file_extension": ".py",
   "mimetype": "text/x-python",
   "name": "python",
   "nbconvert_exporter": "python",
   "pygments_lexer": "ipython3",
   "version": "3.8.8"
  }
 },
 "nbformat": 4,
 "nbformat_minor": 5
}
