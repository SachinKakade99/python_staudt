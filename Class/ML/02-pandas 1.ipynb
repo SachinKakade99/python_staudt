{
 "cells": [
  {
   "cell_type": "code",
   "execution_count": 1,
   "id": "84f86071",
   "metadata": {},
   "outputs": [
    {
     "name": "stdout",
     "output_type": "stream",
     "text": [
      "Requirement already satisfied: pandas in c:\\users\\kanti\\anaconda3\\lib\\site-packages (1.4.0)\n",
      "Requirement already satisfied: pytz>=2020.1 in c:\\users\\kanti\\anaconda3\\lib\\site-packages (from pandas) (2021.1)\n",
      "Requirement already satisfied: python-dateutil>=2.8.1 in c:\\users\\kanti\\anaconda3\\lib\\site-packages (from pandas) (2.8.1)\n",
      "Requirement already satisfied: numpy>=1.18.5 in c:\\users\\kanti\\anaconda3\\lib\\site-packages (from pandas) (1.20.1)\n",
      "Requirement already satisfied: six>=1.5 in c:\\users\\kanti\\anaconda3\\lib\\site-packages (from python-dateutil>=2.8.1->pandas) (1.15.0)\n",
      "Note: you may need to restart the kernel to use updated packages.\n"
     ]
    }
   ],
   "source": [
    "pip install pandas "
   ]
  },
  {
   "cell_type": "code",
   "execution_count": 2,
   "id": "97a51cab",
   "metadata": {},
   "outputs": [],
   "source": [
    "import pandas as pd"
   ]
  },
  {
   "cell_type": "code",
   "execution_count": 6,
   "id": "d402925e",
   "metadata": {},
   "outputs": [],
   "source": [
    "df = pd.read_csv('C:\\\\Users\\\\kanti\\\\OneDrive\\\\Desktop\\\\emp.csv')"
   ]
  },
  {
   "cell_type": "code",
   "execution_count": null,
   "id": "e900f12b",
   "metadata": {},
   "outputs": [],
   "source": []
  },
  {
   "cell_type": "code",
   "execution_count": 7,
   "id": "cbe47a00",
   "metadata": {},
   "outputs": [
    {
     "data": {
      "text/html": [
       "<div>\n",
       "<style scoped>\n",
       "    .dataframe tbody tr th:only-of-type {\n",
       "        vertical-align: middle;\n",
       "    }\n",
       "\n",
       "    .dataframe tbody tr th {\n",
       "        vertical-align: top;\n",
       "    }\n",
       "\n",
       "    .dataframe thead th {\n",
       "        text-align: right;\n",
       "    }\n",
       "</style>\n",
       "<table border=\"1\" class=\"dataframe\">\n",
       "  <thead>\n",
       "    <tr style=\"text-align: right;\">\n",
       "      <th></th>\n",
       "      <th>id</th>\n",
       "      <th>name</th>\n",
       "      <th>address</th>\n",
       "    </tr>\n",
       "  </thead>\n",
       "  <tbody>\n",
       "    <tr>\n",
       "      <th>0</th>\n",
       "      <td>101</td>\n",
       "      <td>jon</td>\n",
       "      <td>pune</td>\n",
       "    </tr>\n",
       "    <tr>\n",
       "      <th>1</th>\n",
       "      <td>102</td>\n",
       "      <td>justin</td>\n",
       "      <td>mumbai</td>\n",
       "    </tr>\n",
       "    <tr>\n",
       "      <th>2</th>\n",
       "      <td>103</td>\n",
       "      <td>ramesh</td>\n",
       "      <td>bang</td>\n",
       "    </tr>\n",
       "  </tbody>\n",
       "</table>\n",
       "</div>"
      ],
      "text/plain": [
       "    id    name address\n",
       "0  101     jon    pune\n",
       "1  102  justin  mumbai\n",
       "2  103  ramesh    bang"
      ]
     },
     "execution_count": 7,
     "metadata": {},
     "output_type": "execute_result"
    }
   ],
   "source": [
    "df"
   ]
  },
  {
   "cell_type": "code",
   "execution_count": 8,
   "id": "f19a8b40",
   "metadata": {},
   "outputs": [],
   "source": [
    "df1 = pd.read_excel('test.xlsx')"
   ]
  },
  {
   "cell_type": "code",
   "execution_count": 9,
   "id": "691caada",
   "metadata": {},
   "outputs": [
    {
     "data": {
      "text/html": [
       "<div>\n",
       "<style scoped>\n",
       "    .dataframe tbody tr th:only-of-type {\n",
       "        vertical-align: middle;\n",
       "    }\n",
       "\n",
       "    .dataframe tbody tr th {\n",
       "        vertical-align: top;\n",
       "    }\n",
       "\n",
       "    .dataframe thead th {\n",
       "        text-align: right;\n",
       "    }\n",
       "</style>\n",
       "<table border=\"1\" class=\"dataframe\">\n",
       "  <thead>\n",
       "    <tr style=\"text-align: right;\">\n",
       "      <th></th>\n",
       "      <th>Unnamed: 0</th>\n",
       "      <th>date</th>\n",
       "      <th>city</th>\n",
       "      <th>temp</th>\n",
       "      <th>humidity</th>\n",
       "    </tr>\n",
       "  </thead>\n",
       "  <tbody>\n",
       "    <tr>\n",
       "      <th>0</th>\n",
       "      <td>0</td>\n",
       "      <td>2021/1/24</td>\n",
       "      <td>new york</td>\n",
       "      <td>34</td>\n",
       "      <td>35</td>\n",
       "    </tr>\n",
       "    <tr>\n",
       "      <th>1</th>\n",
       "      <td>1</td>\n",
       "      <td>2021/2/25</td>\n",
       "      <td>mumbai</td>\n",
       "      <td>67</td>\n",
       "      <td>67</td>\n",
       "    </tr>\n",
       "    <tr>\n",
       "      <th>2</th>\n",
       "      <td>2</td>\n",
       "      <td>2021/3/26</td>\n",
       "      <td>pune</td>\n",
       "      <td>23</td>\n",
       "      <td>97</td>\n",
       "    </tr>\n",
       "  </tbody>\n",
       "</table>\n",
       "</div>"
      ],
      "text/plain": [
       "   Unnamed: 0       date      city  temp  humidity\n",
       "0           0  2021/1/24  new york    34        35\n",
       "1           1  2021/2/25    mumbai    67        67\n",
       "2           2  2021/3/26      pune    23        97"
      ]
     },
     "execution_count": 9,
     "metadata": {},
     "output_type": "execute_result"
    }
   ],
   "source": [
    "df1"
   ]
  },
  {
   "cell_type": "markdown",
   "id": "2d833539",
   "metadata": {},
   "source": []
  },
  {
   "cell_type": "code",
   "execution_count": 12,
   "id": "1db0047d",
   "metadata": {},
   "outputs": [],
   "source": [
    "df2 = pd.read_excel('test.xlsx')"
   ]
  },
  {
   "cell_type": "markdown",
   "id": "608678cd",
   "metadata": {},
   "source": [
    "## "
   ]
  },
  {
   "cell_type": "code",
   "execution_count": 13,
   "id": "46c49263",
   "metadata": {},
   "outputs": [
    {
     "data": {
      "text/html": [
       "<div>\n",
       "<style scoped>\n",
       "    .dataframe tbody tr th:only-of-type {\n",
       "        vertical-align: middle;\n",
       "    }\n",
       "\n",
       "    .dataframe tbody tr th {\n",
       "        vertical-align: top;\n",
       "    }\n",
       "\n",
       "    .dataframe thead th {\n",
       "        text-align: right;\n",
       "    }\n",
       "</style>\n",
       "<table border=\"1\" class=\"dataframe\">\n",
       "  <thead>\n",
       "    <tr style=\"text-align: right;\">\n",
       "      <th></th>\n",
       "      <th>Unnamed: 0</th>\n",
       "      <th>date</th>\n",
       "      <th>city</th>\n",
       "      <th>temp</th>\n",
       "      <th>humidity</th>\n",
       "    </tr>\n",
       "  </thead>\n",
       "  <tbody>\n",
       "    <tr>\n",
       "      <th>0</th>\n",
       "      <td>0</td>\n",
       "      <td>2021/1/24</td>\n",
       "      <td>new york</td>\n",
       "      <td>34</td>\n",
       "      <td>35</td>\n",
       "    </tr>\n",
       "    <tr>\n",
       "      <th>1</th>\n",
       "      <td>1</td>\n",
       "      <td>2021/2/25</td>\n",
       "      <td>mumbai</td>\n",
       "      <td>67</td>\n",
       "      <td>67</td>\n",
       "    </tr>\n",
       "    <tr>\n",
       "      <th>2</th>\n",
       "      <td>2</td>\n",
       "      <td>2021/3/26</td>\n",
       "      <td>pune</td>\n",
       "      <td>23</td>\n",
       "      <td>97</td>\n",
       "    </tr>\n",
       "  </tbody>\n",
       "</table>\n",
       "</div>"
      ],
      "text/plain": [
       "   Unnamed: 0       date      city  temp  humidity\n",
       "0           0  2021/1/24  new york    34        35\n",
       "1           1  2021/2/25    mumbai    67        67\n",
       "2           2  2021/3/26      pune    23        97"
      ]
     },
     "execution_count": 13,
     "metadata": {},
     "output_type": "execute_result"
    }
   ],
   "source": [
    "df2"
   ]
  },
  {
   "cell_type": "code",
   "execution_count": null,
   "id": "1e0ec13c",
   "metadata": {},
   "outputs": [],
   "source": [
    "csv\n",
    "\n",
    "by using -- csv module\n",
    "by using -- pandas"
   ]
  },
  {
   "cell_type": "code",
   "execution_count": 14,
   "id": "2f3a9e62",
   "metadata": {},
   "outputs": [],
   "source": [
    "# By using Dict"
   ]
  },
  {
   "cell_type": "code",
   "execution_count": 18,
   "id": "b0bfcfb5",
   "metadata": {},
   "outputs": [],
   "source": [
    "emp_data = {\n",
    "    'id':[101,300,40,70,30,60],\n",
    "    'name':['a','b','c','b','g','u'],\n",
    "    'city':['pune','mumbai','chennai','pune','pune','pune']\n",
    "}"
   ]
  },
  {
   "cell_type": "code",
   "execution_count": 19,
   "id": "ab3db4de",
   "metadata": {},
   "outputs": [
    {
     "data": {
      "text/plain": [
       "{'id': [101, 300, 40, 70, 30, 60],\n",
       " 'name': ['a', 'b', 'c', 'b', 'g', 'u'],\n",
       " 'city': ['pune', 'mumbai', 'chennai', 'pune', 'pune', 'pune']}"
      ]
     },
     "execution_count": 19,
     "metadata": {},
     "output_type": "execute_result"
    }
   ],
   "source": [
    "emp_data"
   ]
  },
  {
   "cell_type": "code",
   "execution_count": 20,
   "id": "62c5934a",
   "metadata": {},
   "outputs": [],
   "source": [
    "df5 = pd.DataFrame(emp_data)"
   ]
  },
  {
   "cell_type": "code",
   "execution_count": 21,
   "id": "a00a8134",
   "metadata": {},
   "outputs": [
    {
     "data": {
      "text/html": [
       "<div>\n",
       "<style scoped>\n",
       "    .dataframe tbody tr th:only-of-type {\n",
       "        vertical-align: middle;\n",
       "    }\n",
       "\n",
       "    .dataframe tbody tr th {\n",
       "        vertical-align: top;\n",
       "    }\n",
       "\n",
       "    .dataframe thead th {\n",
       "        text-align: right;\n",
       "    }\n",
       "</style>\n",
       "<table border=\"1\" class=\"dataframe\">\n",
       "  <thead>\n",
       "    <tr style=\"text-align: right;\">\n",
       "      <th></th>\n",
       "      <th>id</th>\n",
       "      <th>name</th>\n",
       "      <th>city</th>\n",
       "    </tr>\n",
       "  </thead>\n",
       "  <tbody>\n",
       "    <tr>\n",
       "      <th>0</th>\n",
       "      <td>101</td>\n",
       "      <td>a</td>\n",
       "      <td>pune</td>\n",
       "    </tr>\n",
       "    <tr>\n",
       "      <th>1</th>\n",
       "      <td>300</td>\n",
       "      <td>b</td>\n",
       "      <td>mumbai</td>\n",
       "    </tr>\n",
       "    <tr>\n",
       "      <th>2</th>\n",
       "      <td>40</td>\n",
       "      <td>c</td>\n",
       "      <td>chennai</td>\n",
       "    </tr>\n",
       "    <tr>\n",
       "      <th>3</th>\n",
       "      <td>70</td>\n",
       "      <td>b</td>\n",
       "      <td>pune</td>\n",
       "    </tr>\n",
       "    <tr>\n",
       "      <th>4</th>\n",
       "      <td>30</td>\n",
       "      <td>g</td>\n",
       "      <td>pune</td>\n",
       "    </tr>\n",
       "    <tr>\n",
       "      <th>5</th>\n",
       "      <td>60</td>\n",
       "      <td>u</td>\n",
       "      <td>pune</td>\n",
       "    </tr>\n",
       "  </tbody>\n",
       "</table>\n",
       "</div>"
      ],
      "text/plain": [
       "    id name     city\n",
       "0  101    a     pune\n",
       "1  300    b   mumbai\n",
       "2   40    c  chennai\n",
       "3   70    b     pune\n",
       "4   30    g     pune\n",
       "5   60    u     pune"
      ]
     },
     "execution_count": 21,
     "metadata": {},
     "output_type": "execute_result"
    }
   ],
   "source": [
    "df5"
   ]
  },
  {
   "cell_type": "code",
   "execution_count": null,
   "id": "1f5be474",
   "metadata": {},
   "outputs": [],
   "source": [
    "df = pd.read_csv('C:\\\\Users\\\\kanti\\\\OneDrive\\\\Desktop\\\\emp.csv')\n",
    "df2 = pd.read_excel('test.xlsx')\n",
    "df5 = pd.DataFrame(emp_data)"
   ]
  },
  {
   "cell_type": "code",
   "execution_count": null,
   "id": "3c0e976e",
   "metadata": {},
   "outputs": [],
   "source": []
  },
  {
   "cell_type": "code",
   "execution_count": 23,
   "id": "018eb107",
   "metadata": {},
   "outputs": [],
   "source": [
    "#tuple list"
   ]
  },
  {
   "cell_type": "code",
   "execution_count": 24,
   "id": "237cbca0",
   "metadata": {},
   "outputs": [],
   "source": [
    "my_list = [\n",
    "    ('1/1/2021','Senior Software Engineer','Arun'),\n",
    "    ('3/6/2021','DS','Rahul'),\n",
    "    ('4/6/2022','ML','Jon')\n",
    "]"
   ]
  },
  {
   "cell_type": "code",
   "execution_count": 25,
   "id": "cd7cd6cb",
   "metadata": {},
   "outputs": [
    {
     "data": {
      "text/plain": [
       "[('1/1/2021', 'Senior Software Engineer', 'Arun'),\n",
       " ('3/6/2021', 'DS', 'Rahul'),\n",
       " ('4/6/2022', 'ML', 'Jon')]"
      ]
     },
     "execution_count": 25,
     "metadata": {},
     "output_type": "execute_result"
    }
   ],
   "source": [
    "my_list"
   ]
  },
  {
   "cell_type": "code",
   "execution_count": 28,
   "id": "7fe3749f",
   "metadata": {},
   "outputs": [],
   "source": [
    "df6 = pd.DataFrame(my_list,columns=['Joining Date','Designation','Name'])"
   ]
  },
  {
   "cell_type": "code",
   "execution_count": 29,
   "id": "9bd78c2c",
   "metadata": {},
   "outputs": [
    {
     "data": {
      "text/html": [
       "<div>\n",
       "<style scoped>\n",
       "    .dataframe tbody tr th:only-of-type {\n",
       "        vertical-align: middle;\n",
       "    }\n",
       "\n",
       "    .dataframe tbody tr th {\n",
       "        vertical-align: top;\n",
       "    }\n",
       "\n",
       "    .dataframe thead th {\n",
       "        text-align: right;\n",
       "    }\n",
       "</style>\n",
       "<table border=\"1\" class=\"dataframe\">\n",
       "  <thead>\n",
       "    <tr style=\"text-align: right;\">\n",
       "      <th></th>\n",
       "      <th>Joining Date</th>\n",
       "      <th>Designation</th>\n",
       "      <th>Name</th>\n",
       "    </tr>\n",
       "  </thead>\n",
       "  <tbody>\n",
       "    <tr>\n",
       "      <th>0</th>\n",
       "      <td>1/1/2021</td>\n",
       "      <td>Senior Software Engineer</td>\n",
       "      <td>Arun</td>\n",
       "    </tr>\n",
       "    <tr>\n",
       "      <th>1</th>\n",
       "      <td>3/6/2021</td>\n",
       "      <td>DS</td>\n",
       "      <td>Rahul</td>\n",
       "    </tr>\n",
       "    <tr>\n",
       "      <th>2</th>\n",
       "      <td>4/6/2022</td>\n",
       "      <td>ML</td>\n",
       "      <td>Jon</td>\n",
       "    </tr>\n",
       "  </tbody>\n",
       "</table>\n",
       "</div>"
      ],
      "text/plain": [
       "  Joining Date               Designation   Name\n",
       "0     1/1/2021  Senior Software Engineer   Arun\n",
       "1     3/6/2021                        DS  Rahul\n",
       "2     4/6/2022                        ML    Jon"
      ]
     },
     "execution_count": 29,
     "metadata": {},
     "output_type": "execute_result"
    }
   ],
   "source": [
    "df6"
   ]
  },
  {
   "cell_type": "code",
   "execution_count": 30,
   "id": "62afe9f3",
   "metadata": {},
   "outputs": [],
   "source": [
    "df6.to_csv('my_listcsv.csv')"
   ]
  },
  {
   "cell_type": "code",
   "execution_count": 31,
   "id": "5c4536b4",
   "metadata": {},
   "outputs": [],
   "source": [
    "df6.to_excel('1.xlsx')"
   ]
  },
  {
   "cell_type": "code",
   "execution_count": 32,
   "id": "9fd151f0",
   "metadata": {},
   "outputs": [
    {
     "data": {
      "text/plain": [
       "{'Joining Date': {0: '1/1/2021', 1: '3/6/2021', 2: '4/6/2022'},\n",
       " 'Designation': {0: 'Senior Software Engineer', 1: 'DS', 2: 'ML'},\n",
       " 'Name': {0: 'Arun', 1: 'Rahul', 2: 'Jon'}}"
      ]
     },
     "execution_count": 32,
     "metadata": {},
     "output_type": "execute_result"
    }
   ],
   "source": [
    "df6.to_dict()"
   ]
  },
  {
   "cell_type": "code",
   "execution_count": null,
   "id": "f0d7f848",
   "metadata": {},
   "outputs": [],
   "source": [
    "csv---> dump -- django\n",
    "\n",
    "file read by using pandas ---> to_dict--dump database"
   ]
  },
  {
   "cell_type": "code",
   "execution_count": 33,
   "id": "e3b6de06",
   "metadata": {},
   "outputs": [],
   "source": [
    "#from list of dict"
   ]
  },
  {
   "cell_type": "code",
   "execution_count": 34,
   "id": "0fdb9e1c",
   "metadata": {},
   "outputs": [],
   "source": [
    "p = [{0: '1/1/2021', 1: '3/6/2021', 2: '4/6/2022'},{0: 'Senior Software Engineer', 1: 'DS', 2: 'ML'}]"
   ]
  },
  {
   "cell_type": "code",
   "execution_count": 35,
   "id": "1c761f19",
   "metadata": {},
   "outputs": [],
   "source": [
    "df7 = pd.DataFrame()"
   ]
  },
  {
   "cell_type": "code",
   "execution_count": 36,
   "id": "6d846f43",
   "metadata": {},
   "outputs": [
    {
     "data": {
      "text/html": [
       "<div>\n",
       "<style scoped>\n",
       "    .dataframe tbody tr th:only-of-type {\n",
       "        vertical-align: middle;\n",
       "    }\n",
       "\n",
       "    .dataframe tbody tr th {\n",
       "        vertical-align: top;\n",
       "    }\n",
       "\n",
       "    .dataframe thead th {\n",
       "        text-align: right;\n",
       "    }\n",
       "</style>\n",
       "<table border=\"1\" class=\"dataframe\">\n",
       "  <thead>\n",
       "    <tr style=\"text-align: right;\">\n",
       "      <th></th>\n",
       "      <th>0</th>\n",
       "      <th>1</th>\n",
       "      <th>2</th>\n",
       "    </tr>\n",
       "  </thead>\n",
       "  <tbody>\n",
       "    <tr>\n",
       "      <th>0</th>\n",
       "      <td>1/1/2021</td>\n",
       "      <td>3/6/2021</td>\n",
       "      <td>4/6/2022</td>\n",
       "    </tr>\n",
       "    <tr>\n",
       "      <th>1</th>\n",
       "      <td>Senior Software Engineer</td>\n",
       "      <td>DS</td>\n",
       "      <td>ML</td>\n",
       "    </tr>\n",
       "  </tbody>\n",
       "</table>\n",
       "</div>"
      ],
      "text/plain": [
       "                          0         1         2\n",
       "0                  1/1/2021  3/6/2021  4/6/2022\n",
       "1  Senior Software Engineer        DS        ML"
      ]
     },
     "execution_count": 36,
     "metadata": {},
     "output_type": "execute_result"
    }
   ],
   "source": [
    "df7"
   ]
  },
  {
   "cell_type": "code",
   "execution_count": 37,
   "id": "9d494c4e",
   "metadata": {},
   "outputs": [],
   "source": [
    "p = [{'name':'arun','role':'it','sal':45000},\n",
    "     {'name':'jon','role':'DS','sal':55000},\n",
    "     {'name':'jacky','role':'ML','sal':55000}\n",
    "    ]"
   ]
  },
  {
   "cell_type": "code",
   "execution_count": 38,
   "id": "b36d65d2",
   "metadata": {},
   "outputs": [],
   "source": [
    "df8 = pd.DataFrame(p)"
   ]
  },
  {
   "cell_type": "code",
   "execution_count": 39,
   "id": "048a222c",
   "metadata": {},
   "outputs": [
    {
     "data": {
      "text/html": [
       "<div>\n",
       "<style scoped>\n",
       "    .dataframe tbody tr th:only-of-type {\n",
       "        vertical-align: middle;\n",
       "    }\n",
       "\n",
       "    .dataframe tbody tr th {\n",
       "        vertical-align: top;\n",
       "    }\n",
       "\n",
       "    .dataframe thead th {\n",
       "        text-align: right;\n",
       "    }\n",
       "</style>\n",
       "<table border=\"1\" class=\"dataframe\">\n",
       "  <thead>\n",
       "    <tr style=\"text-align: right;\">\n",
       "      <th></th>\n",
       "      <th>name</th>\n",
       "      <th>role</th>\n",
       "      <th>sal</th>\n",
       "    </tr>\n",
       "  </thead>\n",
       "  <tbody>\n",
       "    <tr>\n",
       "      <th>0</th>\n",
       "      <td>arun</td>\n",
       "      <td>it</td>\n",
       "      <td>45000</td>\n",
       "    </tr>\n",
       "    <tr>\n",
       "      <th>1</th>\n",
       "      <td>jon</td>\n",
       "      <td>DS</td>\n",
       "      <td>55000</td>\n",
       "    </tr>\n",
       "    <tr>\n",
       "      <th>2</th>\n",
       "      <td>jacky</td>\n",
       "      <td>ML</td>\n",
       "      <td>55000</td>\n",
       "    </tr>\n",
       "  </tbody>\n",
       "</table>\n",
       "</div>"
      ],
      "text/plain": [
       "    name role    sal\n",
       "0   arun   it  45000\n",
       "1    jon   DS  55000\n",
       "2  jacky   ML  55000"
      ]
     },
     "execution_count": 39,
     "metadata": {},
     "output_type": "execute_result"
    }
   ],
   "source": [
    "df8"
   ]
  },
  {
   "cell_type": "code",
   "execution_count": null,
   "id": "e8173670",
   "metadata": {},
   "outputs": [],
   "source": []
  },
  {
   "cell_type": "code",
   "execution_count": null,
   "id": "5ded64a1",
   "metadata": {},
   "outputs": [],
   "source": []
  },
  {
   "cell_type": "code",
   "execution_count": 41,
   "id": "ef118e50",
   "metadata": {},
   "outputs": [],
   "source": [
    "df10 = pd.read_html('https://en.wikipedia.org/wiki/COVID-19_pandemic_in_India')"
   ]
  },
  {
   "cell_type": "code",
   "execution_count": 49,
   "id": "071b6cbd",
   "metadata": {},
   "outputs": [
    {
     "data": {
      "text/plain": [
       "list"
      ]
     },
     "execution_count": 49,
     "metadata": {},
     "output_type": "execute_result"
    }
   ],
   "source": [
    "type(df10)"
   ]
  },
  {
   "cell_type": "code",
   "execution_count": 52,
   "id": "2dbf5c26",
   "metadata": {},
   "outputs": [
    {
     "data": {
      "text/plain": [
       "(11, 6)"
      ]
     },
     "execution_count": 52,
     "metadata": {},
     "output_type": "execute_result"
    }
   ],
   "source": [
    "df10[7].shape"
   ]
  },
  {
   "cell_type": "code",
   "execution_count": null,
   "id": "0bdfc66f",
   "metadata": {},
   "outputs": [],
   "source": []
  },
  {
   "cell_type": "code",
   "execution_count": 54,
   "id": "f21a2077",
   "metadata": {},
   "outputs": [],
   "source": [
    "df12 = pd.read_json('https://api.sampleapis.com/baseball/hitsSingleSeason')"
   ]
  },
  {
   "cell_type": "code",
   "execution_count": 55,
   "id": "a7df6cc6",
   "metadata": {},
   "outputs": [
    {
     "data": {
      "text/html": [
       "<div>\n",
       "<style scoped>\n",
       "    .dataframe tbody tr th:only-of-type {\n",
       "        vertical-align: middle;\n",
       "    }\n",
       "\n",
       "    .dataframe tbody tr th {\n",
       "        vertical-align: top;\n",
       "    }\n",
       "\n",
       "    .dataframe thead th {\n",
       "        text-align: right;\n",
       "    }\n",
       "</style>\n",
       "<table border=\"1\" class=\"dataframe\">\n",
       "  <thead>\n",
       "    <tr style=\"text-align: right;\">\n",
       "      <th></th>\n",
       "      <th>Rank</th>\n",
       "      <th>Player</th>\n",
       "      <th>AgeThatYear</th>\n",
       "      <th>Hits</th>\n",
       "      <th>Year</th>\n",
       "      <th>Bats</th>\n",
       "      <th>id</th>\n",
       "    </tr>\n",
       "  </thead>\n",
       "  <tbody>\n",
       "    <tr>\n",
       "      <th>0</th>\n",
       "      <td>1</td>\n",
       "      <td>Ichiro Suzuki</td>\n",
       "      <td>30</td>\n",
       "      <td>262</td>\n",
       "      <td>2004</td>\n",
       "      <td>L</td>\n",
       "      <td>1</td>\n",
       "    </tr>\n",
       "    <tr>\n",
       "      <th>1</th>\n",
       "      <td>2</td>\n",
       "      <td>George Sisler</td>\n",
       "      <td>27</td>\n",
       "      <td>257</td>\n",
       "      <td>1920</td>\n",
       "      <td>L</td>\n",
       "      <td>2</td>\n",
       "    </tr>\n",
       "    <tr>\n",
       "      <th>2</th>\n",
       "      <td>3</td>\n",
       "      <td>Lefty O'Doul</td>\n",
       "      <td>32</td>\n",
       "      <td>254</td>\n",
       "      <td>1929</td>\n",
       "      <td>L</td>\n",
       "      <td>3</td>\n",
       "    </tr>\n",
       "    <tr>\n",
       "      <th>3</th>\n",
       "      <td></td>\n",
       "      <td>Bill Terry</td>\n",
       "      <td>31</td>\n",
       "      <td>254</td>\n",
       "      <td>1930</td>\n",
       "      <td>L</td>\n",
       "      <td>4</td>\n",
       "    </tr>\n",
       "    <tr>\n",
       "      <th>4</th>\n",
       "      <td>5</td>\n",
       "      <td>Al Simmons</td>\n",
       "      <td>23</td>\n",
       "      <td>253</td>\n",
       "      <td>1925</td>\n",
       "      <td>R</td>\n",
       "      <td>5</td>\n",
       "    </tr>\n",
       "    <tr>\n",
       "      <th>...</th>\n",
       "      <td>...</td>\n",
       "      <td>...</td>\n",
       "      <td>...</td>\n",
       "      <td>...</td>\n",
       "      <td>...</td>\n",
       "      <td>...</td>\n",
       "      <td>...</td>\n",
       "    </tr>\n",
       "    <tr>\n",
       "      <th>529</th>\n",
       "      <td></td>\n",
       "      <td>Paul Waner</td>\n",
       "      <td>26</td>\n",
       "      <td>200</td>\n",
       "      <td>1929</td>\n",
       "      <td>L</td>\n",
       "      <td>530</td>\n",
       "    </tr>\n",
       "    <tr>\n",
       "      <th>530</th>\n",
       "      <td></td>\n",
       "      <td>Billy Werber</td>\n",
       "      <td>26</td>\n",
       "      <td>200</td>\n",
       "      <td>1934</td>\n",
       "      <td>R</td>\n",
       "      <td>531</td>\n",
       "    </tr>\n",
       "    <tr>\n",
       "      <th>531</th>\n",
       "      <td></td>\n",
       "      <td>Bill White</td>\n",
       "      <td>29</td>\n",
       "      <td>200</td>\n",
       "      <td>1963</td>\n",
       "      <td>L</td>\n",
       "      <td>532</td>\n",
       "    </tr>\n",
       "    <tr>\n",
       "      <th>532</th>\n",
       "      <td></td>\n",
       "      <td>Pinky Whitney</td>\n",
       "      <td>24</td>\n",
       "      <td>200</td>\n",
       "      <td>1929</td>\n",
       "      <td>R</td>\n",
       "      <td>533</td>\n",
       "    </tr>\n",
       "    <tr>\n",
       "      <th>533</th>\n",
       "      <td></td>\n",
       "      <td>Ross Youngs</td>\n",
       "      <td>26</td>\n",
       "      <td>200</td>\n",
       "      <td>1923</td>\n",
       "      <td>L</td>\n",
       "      <td>534</td>\n",
       "    </tr>\n",
       "  </tbody>\n",
       "</table>\n",
       "<p>534 rows × 7 columns</p>\n",
       "</div>"
      ],
      "text/plain": [
       "    Rank         Player  AgeThatYear  Hits  Year Bats   id\n",
       "0      1  Ichiro Suzuki           30   262  2004    L    1\n",
       "1      2  George Sisler           27   257  1920    L    2\n",
       "2      3   Lefty O'Doul           32   254  1929    L    3\n",
       "3            Bill Terry           31   254  1930    L    4\n",
       "4      5     Al Simmons           23   253  1925    R    5\n",
       "..   ...            ...          ...   ...   ...  ...  ...\n",
       "529          Paul Waner           26   200  1929    L  530\n",
       "530        Billy Werber           26   200  1934    R  531\n",
       "531          Bill White           29   200  1963    L  532\n",
       "532       Pinky Whitney           24   200  1929    R  533\n",
       "533         Ross Youngs           26   200  1923    L  534\n",
       "\n",
       "[534 rows x 7 columns]"
      ]
     },
     "execution_count": 55,
     "metadata": {},
     "output_type": "execute_result"
    }
   ],
   "source": [
    "df12"
   ]
  },
  {
   "cell_type": "code",
   "execution_count": 56,
   "id": "8c1e9a93",
   "metadata": {},
   "outputs": [],
   "source": [
    "df12.to_csv('apidata.csv')"
   ]
  },
  {
   "cell_type": "code",
   "execution_count": null,
   "id": "8dc9bf66",
   "metadata": {},
   "outputs": [],
   "source": []
  }
 ],
 "metadata": {
  "kernelspec": {
   "display_name": "Python 3",
   "language": "python",
   "name": "python3"
  },
  "language_info": {
   "codemirror_mode": {
    "name": "ipython",
    "version": 3
   },
   "file_extension": ".py",
   "mimetype": "text/x-python",
   "name": "python",
   "nbconvert_exporter": "python",
   "pygments_lexer": "ipython3",
   "version": "3.8.8"
  }
 },
 "nbformat": 4,
 "nbformat_minor": 5
}
