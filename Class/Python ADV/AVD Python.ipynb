{
 "cells": [
  {
   "cell_type": "markdown",
   "id": "df7b876b",
   "metadata": {},
   "source": [
    "## create a class"
   ]
  },
  {
   "cell_type": "code",
   "execution_count": 1,
   "id": "a98a6b23",
   "metadata": {},
   "outputs": [],
   "source": [
    "class InterviewbitEmployee:\n",
    "   def __init__(self, emp_name):\n",
    "       self.emp_name = emp_name\n",
    "       \n",
    "   def introduce(self):\n",
    "       print(\"Hello I am \" + self.emp_name)"
   ]
  },
  {
   "cell_type": "code",
   "execution_count": 3,
   "id": "d136a1bf",
   "metadata": {},
   "outputs": [
    {
     "name": "stdout",
     "output_type": "stream",
     "text": [
      "Mr Employee\n",
      "Hello I am Mr Employee\n"
     ]
    }
   ],
   "source": [
    "# create an object of InterviewbitEmployee class\n",
    "emp_1 = InterviewbitEmployee(\"Mr Employee\")\n",
    "print(emp_1.emp_name)    #print employee name\n",
    "emp_1.introduce()        #introduce the employee\n"
   ]
  },
  {
   "cell_type": "markdown",
   "id": "4bcd44fc",
   "metadata": {},
   "source": [
    "## Inheritance in python"
   ]
  },
  {
   "cell_type": "code",
   "execution_count": 4,
   "id": "2d838ec2",
   "metadata": {},
   "outputs": [
    {
     "name": "stdout",
     "output_type": "stream",
     "text": [
      "I am parent class function\n",
      "I am child class function\n"
     ]
    }
   ],
   "source": [
    "# Single Inheritance\n",
    "# Parent class\n",
    "class ParentClass:\n",
    "    def par_func(self):\n",
    "         print(\"I am parent class function\")\n",
    "\n",
    "# Child class\n",
    "class ChildClass(ParentClass):\n",
    "    def child_func(self):\n",
    "         print(\"I am child class function\")\n",
    "\n",
    "# Driver code\n",
    "obj1 = ChildClass()\n",
    "obj1.par_func()\n",
    "obj1.child_func()"
   ]
  },
  {
   "cell_type": "code",
   "execution_count": 29,
   "id": "40cad7c0",
   "metadata": {},
   "outputs": [
    {
     "name": "stdout",
     "output_type": "stream",
     "text": [
      "parent\n",
      "A name :  parent\n",
      "B name :  intermediate\n",
      "C name :  child\n"
     ]
    }
   ],
   "source": [
    "# Multi-level Inheritance\n",
    "# Parent class\n",
    "class A:\n",
    "   def __init__(self, a_name):\n",
    "       self.a_name = a_name\n",
    "   \n",
    "# Intermediate class\n",
    "class B(A):\n",
    "   def __init__(self, b_name, a_name):\n",
    "       self.b_name = b_name\n",
    "       # invoke constructor of class A\n",
    "       A.__init__(self, a_name)\n",
    "\n",
    "# Child class\n",
    "class C(B):\n",
    "   def __init__(self,c_name, b_name, a_name):\n",
    "       self.c_name = c_name\n",
    "       # invoke constructor of class B\n",
    "       B.__init__(self, b_name, a_name)\n",
    "       \n",
    "   def display_names(self):\n",
    "       print(\"A name : \", self.a_name)\n",
    "       print(\"B name : \", self.b_name)\n",
    "       print(\"C name : \", self.c_name)\n",
    "\n",
    "#  Driver code\n",
    "obj1 = C('child', 'intermediate', 'parent')\n",
    "print(obj1.a_name)\n",
    "obj1.display_names()"
   ]
  },
  {
   "cell_type": "code",
   "execution_count": 8,
   "id": "51e326c8",
   "metadata": {},
   "outputs": [
    {
     "name": "stdout",
     "output_type": "stream",
     "text": [
      "Hi I am first Parent\n",
      "Hi I am second Parent\n"
     ]
    }
   ],
   "source": [
    "# Multiple Inheritance\n",
    "# Parent class1\n",
    "class Parent1:\n",
    "   def parent1_func(self):\n",
    "       print(\"Hi I am first Parent\")\n",
    "\n",
    "# Parent class2\n",
    "class Parent2:\n",
    "   def parent2_func(self):\n",
    "       print(\"Hi I am second Parent\")\n",
    "\n",
    "# Child class\n",
    "class Child(Parent1, Parent2):\n",
    "   def child_func(self):\n",
    "       self.parent1_func()\n",
    "       self.parent2_func()\n",
    "\n",
    "# Driver's code\n",
    "obj1 = Child()\n",
    "obj1.child_func()"
   ]
  },
  {
   "cell_type": "code",
   "execution_count": 9,
   "id": "d98a952e",
   "metadata": {},
   "outputs": [
    {
     "name": "stdout",
     "output_type": "stream",
     "text": [
      "I am from the parent class.\n",
      "I am from the first child.\n",
      "I am from the parent class.\n",
      "I am from the second child.\n"
     ]
    }
   ],
   "source": [
    "# Hierarchical Inheritance\n",
    "# Base class\n",
    "class A:\n",
    "     def a_func(self):\n",
    "         print(\"I am from the parent class.\")\n",
    "\n",
    "# 1st Derived class\n",
    "class B(A):\n",
    "     def b_func(self):\n",
    "         print(\"I am from the first child.\")\n",
    "\n",
    "# 2nd Derived class\n",
    "class C(A):\n",
    "     def c_func(self):\n",
    "         print(\"I am from the second child.\")\n",
    " \n",
    "# Driver's code\n",
    "obj1 = B()\n",
    "obj2 = C()\n",
    "obj1.a_func()\n",
    "obj1.b_func()    #child 1 method\n",
    "obj2.a_func()\n",
    "obj2.c_func()    #child 2 method"
   ]
  },
  {
   "cell_type": "markdown",
   "id": "e0c774b7",
   "metadata": {},
   "source": [
    "## access parent members in the child class"
   ]
  },
  {
   "cell_type": "code",
   "execution_count": 21,
   "id": "580ff1d0",
   "metadata": {},
   "outputs": [
    {
     "name": "stdout",
     "output_type": "stream",
     "text": [
      "Interviewbit 6\n"
     ]
    }
   ],
   "source": [
    "# By using Parent class name\n",
    "class Parent(object):  \n",
    "   # Constructor\n",
    "   def __init__(self, name):\n",
    "       self.name = name    \n",
    " \n",
    "class Child(Parent): \n",
    "   # Constructor\n",
    "   def __init__(self, name, age):\n",
    "       Parent.name = name\n",
    "       self.age = age\n",
    " \n",
    "   def display(self):\n",
    "       print(Parent.name, self.age)\n",
    " \n",
    "# Driver Code\n",
    "obj = Child(\"Interviewbit\", 6)\n",
    "obj.display()"
   ]
  },
  {
   "cell_type": "code",
   "execution_count": 32,
   "id": "b7891573",
   "metadata": {},
   "outputs": [
    {
     "name": "stdout",
     "output_type": "stream",
     "text": [
      "Interviewbit 6\n"
     ]
    }
   ],
   "source": [
    "# By using Super\n",
    "class Parent:  \n",
    "   # Constructor\n",
    "   def __init__(self, name):\n",
    "       self.name = name    \n",
    " \n",
    "class Child(Parent): \n",
    "   # Constructor\n",
    "   def __init__(self, name, age):\n",
    "       #Parent.__init__(self,name)\n",
    "       super(Child, self).__init__(name)\n",
    "       self.age = age\n",
    " \n",
    "   def display(self):\n",
    "       print(self.name, self.age)\n",
    " \n",
    "# Driver Code\n",
    "obj = Child(\"Interviewbit\", 6)\n",
    "obj.display()"
   ]
  },
  {
   "cell_type": "code",
   "execution_count": null,
   "id": "2739a355",
   "metadata": {},
   "outputs": [],
   "source": []
  }
 ],
 "metadata": {
  "kernelspec": {
   "display_name": "Python 3 (ipykernel)",
   "language": "python",
   "name": "python3"
  },
  "language_info": {
   "codemirror_mode": {
    "name": "ipython",
    "version": 3
   },
   "file_extension": ".py",
   "mimetype": "text/x-python",
   "name": "python",
   "nbconvert_exporter": "python",
   "pygments_lexer": "ipython3",
   "version": "3.9.7"
  }
 },
 "nbformat": 4,
 "nbformat_minor": 5
}
