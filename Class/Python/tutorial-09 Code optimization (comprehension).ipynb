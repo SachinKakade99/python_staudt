{
 "cells": [
  {
   "cell_type": "code",
   "execution_count": 1,
   "id": "4ac2dbb0",
   "metadata": {},
   "outputs": [],
   "source": [
    "p = [1,2,3,4,5,6,7]"
   ]
  },
  {
   "cell_type": "code",
   "execution_count": 2,
   "id": "b31f051c",
   "metadata": {},
   "outputs": [],
   "source": [
    "even = []\n",
    "for i in p:\n",
    "    if i%2==0:\n",
    "        even.append(i)"
   ]
  },
  {
   "cell_type": "code",
   "execution_count": 3,
   "id": "b6b28c17",
   "metadata": {},
   "outputs": [
    {
     "data": {
      "text/plain": [
       "[2, 4, 6]"
      ]
     },
     "execution_count": 3,
     "metadata": {},
     "output_type": "execute_result"
    }
   ],
   "source": [
    "even"
   ]
  },
  {
   "cell_type": "markdown",
   "id": "f1f04729",
   "metadata": {},
   "source": [
    "# list compression"
   ]
  },
  {
   "cell_type": "code",
   "execution_count": 4,
   "id": "44bdfb72",
   "metadata": {},
   "outputs": [],
   "source": [
    "\n",
    "neweven = [i for i in p if i%2==0]"
   ]
  },
  {
   "cell_type": "code",
   "execution_count": 5,
   "id": "fcf29674",
   "metadata": {},
   "outputs": [
    {
     "data": {
      "text/plain": [
       "[2, 4, 6]"
      ]
     },
     "execution_count": 5,
     "metadata": {},
     "output_type": "execute_result"
    }
   ],
   "source": [
    "neweven"
   ]
  },
  {
   "cell_type": "code",
   "execution_count": null,
   "id": "94390d2e",
   "metadata": {},
   "outputs": [],
   "source": [
    "[outputvariable for variable in itreable if condition]"
   ]
  },
  {
   "cell_type": "code",
   "execution_count": null,
   "id": "a543d430",
   "metadata": {},
   "outputs": [],
   "source": []
  },
  {
   "cell_type": "code",
   "execution_count": 6,
   "id": "067bed36",
   "metadata": {},
   "outputs": [],
   "source": [
    "py_str = ['python','java','c','c++','hadoop','aws']"
   ]
  },
  {
   "cell_type": "code",
   "execution_count": 7,
   "id": "1836af12",
   "metadata": {},
   "outputs": [],
   "source": [
    "#[6,4......]\n"
   ]
  },
  {
   "cell_type": "code",
   "execution_count": 11,
   "id": "43acfb02",
   "metadata": {},
   "outputs": [],
   "source": [
    "len_str = [len(i) for i in py_str]"
   ]
  },
  {
   "cell_type": "code",
   "execution_count": 12,
   "id": "727c3503",
   "metadata": {},
   "outputs": [
    {
     "data": {
      "text/plain": [
       "[6, 4, 1, 3, 6, 3]"
      ]
     },
     "execution_count": 12,
     "metadata": {},
     "output_type": "execute_result"
    }
   ],
   "source": [
    "len_str"
   ]
  },
  {
   "cell_type": "code",
   "execution_count": 13,
   "id": "a386122d",
   "metadata": {},
   "outputs": [],
   "source": [
    "#email valid\n",
    "#product invalid ----int in list"
   ]
  },
  {
   "cell_type": "code",
   "execution_count": 14,
   "id": "7cd9a9e0",
   "metadata": {},
   "outputs": [],
   "source": [
    "p = ['dfsdf','dfgsdaf',56]"
   ]
  },
  {
   "cell_type": "code",
   "execution_count": 15,
   "id": "252b6372",
   "metadata": {},
   "outputs": [
    {
     "data": {
      "text/plain": [
       "['dfsdf', 'dfgsdaf']"
      ]
     },
     "execution_count": 15,
     "metadata": {},
     "output_type": "execute_result"
    }
   ],
   "source": [
    "[i for i in p if str(i).isalpha()]"
   ]
  },
  {
   "cell_type": "code",
   "execution_count": 16,
   "id": "6fc9c1e2",
   "metadata": {},
   "outputs": [],
   "source": [
    "p = list(range(10))"
   ]
  },
  {
   "cell_type": "code",
   "execution_count": 17,
   "id": "5d73b60f",
   "metadata": {},
   "outputs": [
    {
     "data": {
      "text/plain": [
       "[0, 1, 2, 3, 4, 5, 6, 7, 8, 9]"
      ]
     },
     "execution_count": 17,
     "metadata": {},
     "output_type": "execute_result"
    }
   ],
   "source": [
    "p"
   ]
  },
  {
   "cell_type": "code",
   "execution_count": 18,
   "id": "cee1a378",
   "metadata": {},
   "outputs": [
    {
     "data": {
      "text/plain": [
       "['0-0', '0-1', '0-2', '0-3', '0-4', '0-5', '0-6', '0-7', '0-8', '0-9']"
      ]
     },
     "execution_count": 18,
     "metadata": {},
     "output_type": "execute_result"
    }
   ],
   "source": [
    "['0-'+str(i) for i in p]"
   ]
  },
  {
   "cell_type": "code",
   "execution_count": null,
   "id": "8e869d6b",
   "metadata": {},
   "outputs": [],
   "source": [
    "0-0\n",
    "1-1\n",
    "2-2\n",
    "3-3"
   ]
  },
  {
   "cell_type": "code",
   "execution_count": 20,
   "id": "61aa7e60",
   "metadata": {},
   "outputs": [
    {
     "data": {
      "text/plain": [
       "['0-0', '1-1', '2-2', '3-3', '4-4', '5-5', '6-6', '7-7', '8-8', '9-9']"
      ]
     },
     "execution_count": 20,
     "metadata": {},
     "output_type": "execute_result"
    }
   ],
   "source": [
    "[str(i)+'-'+str(i) for i in p]"
   ]
  },
  {
   "cell_type": "code",
   "execution_count": 21,
   "id": "78112121",
   "metadata": {},
   "outputs": [
    {
     "data": {
      "text/plain": [
       "['0-0', '1-1', '2-2', '3-3', '4-4', '5-5', '6-6', '7-7', '8-8', '9-9']"
      ]
     },
     "execution_count": 21,
     "metadata": {},
     "output_type": "execute_result"
    }
   ],
   "source": [
    "[f'{i}-{i}' for i in p]"
   ]
  },
  {
   "cell_type": "code",
   "execution_count": 22,
   "id": "c50ded4c",
   "metadata": {},
   "outputs": [],
   "source": [
    "d = {'data':'0100101101'}"
   ]
  },
  {
   "cell_type": "code",
   "execution_count": 23,
   "id": "7be9384f",
   "metadata": {},
   "outputs": [
    {
     "data": {
      "text/plain": [
       "'0100101101'"
      ]
     },
     "execution_count": 23,
     "metadata": {},
     "output_type": "execute_result"
    }
   ],
   "source": [
    "d['data']"
   ]
  },
  {
   "cell_type": "code",
   "execution_count": 28,
   "id": "640a5470",
   "metadata": {},
   "outputs": [
    {
     "data": {
      "text/plain": [
       "[1, 4, 6, 7, 9]"
      ]
     },
     "execution_count": 28,
     "metadata": {},
     "output_type": "execute_result"
    }
   ],
   "source": [
    "[index for index ,data in enumerate(d['data']) if data=='1']"
   ]
  },
  {
   "cell_type": "code",
   "execution_count": null,
   "id": "6fa2bba5",
   "metadata": {},
   "outputs": [],
   "source": []
  },
  {
   "cell_type": "markdown",
   "id": "15e49e1b",
   "metadata": {},
   "source": [
    "# loop iteration along with index number"
   ]
  },
  {
   "cell_type": "code",
   "execution_count": null,
   "id": "ab77288b",
   "metadata": {},
   "outputs": [],
   "source": []
  },
  {
   "cell_type": "code",
   "execution_count": 2,
   "id": "2674ea7c",
   "metadata": {},
   "outputs": [],
   "source": [
    "p = ['python','java','c','c++']"
   ]
  },
  {
   "cell_type": "code",
   "execution_count": 4,
   "id": "21bf53c8",
   "metadata": {},
   "outputs": [
    {
     "name": "stdout",
     "output_type": "stream",
     "text": [
      "0 python\n",
      "1 java\n",
      "2 c\n",
      "3 c++\n"
     ]
    }
   ],
   "source": [
    "for i,data in enumerate(p):\n",
    "    print(i,data)"
   ]
  },
  {
   "cell_type": "code",
   "execution_count": 5,
   "id": "b897afef",
   "metadata": {},
   "outputs": [],
   "source": [
    "d = {'a':1,'b':2}"
   ]
  },
  {
   "cell_type": "code",
   "execution_count": 8,
   "id": "d174d3cb",
   "metadata": {},
   "outputs": [
    {
     "name": "stdout",
     "output_type": "stream",
     "text": [
      "a -- 1\n",
      "b -- 2\n"
     ]
    }
   ],
   "source": [
    "for k,v in d.items():\n",
    "    print(k,'--',v)"
   ]
  },
  {
   "cell_type": "code",
   "execution_count": 9,
   "id": "d35ba4dc",
   "metadata": {},
   "outputs": [],
   "source": [
    "p = (234,578,2,457)"
   ]
  },
  {
   "cell_type": "code",
   "execution_count": 13,
   "id": "f03ab9ab",
   "metadata": {},
   "outputs": [
    {
     "name": "stdout",
     "output_type": "stream",
     "text": [
      "0 234\n",
      "1 578\n",
      "2 2\n",
      "3 457\n"
     ]
    }
   ],
   "source": [
    "for i,j in enumerate(p):\n",
    "    print(i,j)"
   ]
  },
  {
   "cell_type": "code",
   "execution_count": 11,
   "id": "ab94df73",
   "metadata": {},
   "outputs": [],
   "source": [
    "a = 10,20"
   ]
  },
  {
   "cell_type": "code",
   "execution_count": 12,
   "id": "f8cb5b8c",
   "metadata": {},
   "outputs": [
    {
     "data": {
      "text/plain": [
       "(10, 20)"
      ]
     },
     "execution_count": 12,
     "metadata": {},
     "output_type": "execute_result"
    }
   ],
   "source": [
    "a"
   ]
  },
  {
   "cell_type": "code",
   "execution_count": 14,
   "id": "1ae696e2",
   "metadata": {},
   "outputs": [],
   "source": [
    "k,l = (100,200) #unpacking"
   ]
  },
  {
   "cell_type": "code",
   "execution_count": 15,
   "id": "a6188304",
   "metadata": {},
   "outputs": [
    {
     "data": {
      "text/plain": [
       "100"
      ]
     },
     "execution_count": 15,
     "metadata": {},
     "output_type": "execute_result"
    }
   ],
   "source": [
    "k"
   ]
  },
  {
   "cell_type": "code",
   "execution_count": 16,
   "id": "8decccbc",
   "metadata": {},
   "outputs": [
    {
     "data": {
      "text/plain": [
       "200"
      ]
     },
     "execution_count": 16,
     "metadata": {},
     "output_type": "execute_result"
    }
   ],
   "source": [
    "l"
   ]
  },
  {
   "cell_type": "code",
   "execution_count": 17,
   "id": "360af7af",
   "metadata": {},
   "outputs": [],
   "source": [
    "var = 10,40,30,267 #packing"
   ]
  },
  {
   "cell_type": "code",
   "execution_count": 18,
   "id": "491e77df",
   "metadata": {},
   "outputs": [
    {
     "data": {
      "text/plain": [
       "(10, 40, 30, 267)"
      ]
     },
     "execution_count": 18,
     "metadata": {},
     "output_type": "execute_result"
    }
   ],
   "source": [
    "var"
   ]
  },
  {
   "cell_type": "code",
   "execution_count": 19,
   "id": "1eeec09b",
   "metadata": {},
   "outputs": [
    {
     "data": {
      "text/plain": [
       "(10, 40, 30, 267)"
      ]
     },
     "execution_count": 19,
     "metadata": {},
     "output_type": "execute_result"
    }
   ],
   "source": [
    "var"
   ]
  },
  {
   "cell_type": "code",
   "execution_count": 21,
   "id": "a6045bf3",
   "metadata": {},
   "outputs": [],
   "source": [
    "a,b,c = (10,20,40)"
   ]
  },
  {
   "cell_type": "code",
   "execution_count": 22,
   "id": "0995c5f4",
   "metadata": {},
   "outputs": [
    {
     "data": {
      "text/plain": [
       "10"
      ]
     },
     "execution_count": 22,
     "metadata": {},
     "output_type": "execute_result"
    }
   ],
   "source": [
    "a"
   ]
  },
  {
   "cell_type": "code",
   "execution_count": 23,
   "id": "77811da0",
   "metadata": {},
   "outputs": [
    {
     "data": {
      "text/plain": [
       "20"
      ]
     },
     "execution_count": 23,
     "metadata": {},
     "output_type": "execute_result"
    }
   ],
   "source": [
    "b"
   ]
  },
  {
   "cell_type": "code",
   "execution_count": 24,
   "id": "e1340524",
   "metadata": {},
   "outputs": [
    {
     "data": {
      "text/plain": [
       "40"
      ]
     },
     "execution_count": 24,
     "metadata": {},
     "output_type": "execute_result"
    }
   ],
   "source": [
    "c"
   ]
  },
  {
   "cell_type": "code",
   "execution_count": 25,
   "id": "ae7d512e",
   "metadata": {},
   "outputs": [
    {
     "ename": "ValueError",
     "evalue": "not enough values to unpack (expected 3, got 2)",
     "output_type": "error",
     "traceback": [
      "\u001b[1;31m---------------------------------------------------------------------------\u001b[0m",
      "\u001b[1;31mValueError\u001b[0m                                Traceback (most recent call last)",
      "\u001b[1;32m<ipython-input-25-0ebf45373267>\u001b[0m in \u001b[0;36m<module>\u001b[1;34m\u001b[0m\n\u001b[1;32m----> 1\u001b[1;33m \u001b[0mp\u001b[0m\u001b[1;33m,\u001b[0m\u001b[0mq\u001b[0m\u001b[1;33m,\u001b[0m\u001b[0mr\u001b[0m\u001b[1;33m=\u001b[0m\u001b[1;36m30\u001b[0m\u001b[1;33m,\u001b[0m\u001b[1;36m70\u001b[0m\u001b[1;33m\u001b[0m\u001b[1;33m\u001b[0m\u001b[0m\n\u001b[0m",
      "\u001b[1;31mValueError\u001b[0m: not enough values to unpack (expected 3, got 2)"
     ]
    }
   ],
   "source": [
    "p,q,r=30,70"
   ]
  },
  {
   "cell_type": "code",
   "execution_count": 26,
   "id": "11f82f65",
   "metadata": {},
   "outputs": [],
   "source": [
    "a=b=c=d = 10"
   ]
  },
  {
   "cell_type": "code",
   "execution_count": 27,
   "id": "5607a7a7",
   "metadata": {},
   "outputs": [
    {
     "data": {
      "text/plain": [
       "10"
      ]
     },
     "execution_count": 27,
     "metadata": {},
     "output_type": "execute_result"
    }
   ],
   "source": [
    "a"
   ]
  },
  {
   "cell_type": "code",
   "execution_count": 28,
   "id": "8e0c7f19",
   "metadata": {},
   "outputs": [
    {
     "data": {
      "text/plain": [
       "10"
      ]
     },
     "execution_count": 28,
     "metadata": {},
     "output_type": "execute_result"
    }
   ],
   "source": [
    "b"
   ]
  },
  {
   "cell_type": "code",
   "execution_count": 29,
   "id": "a5685b1c",
   "metadata": {},
   "outputs": [
    {
     "data": {
      "text/plain": [
       "10"
      ]
     },
     "execution_count": 29,
     "metadata": {},
     "output_type": "execute_result"
    }
   ],
   "source": [
    "c"
   ]
  },
  {
   "cell_type": "code",
   "execution_count": 30,
   "id": "61dabaf0",
   "metadata": {},
   "outputs": [
    {
     "data": {
      "text/plain": [
       "10"
      ]
     },
     "execution_count": 30,
     "metadata": {},
     "output_type": "execute_result"
    }
   ],
   "source": [
    "d"
   ]
  },
  {
   "cell_type": "code",
   "execution_count": 31,
   "id": "b698da95",
   "metadata": {},
   "outputs": [],
   "source": [
    "a,b,c,d=10,20,30,[1,2,3,4,5]"
   ]
  },
  {
   "cell_type": "code",
   "execution_count": 32,
   "id": "316abb2d",
   "metadata": {},
   "outputs": [
    {
     "data": {
      "text/plain": [
       "10"
      ]
     },
     "execution_count": 32,
     "metadata": {},
     "output_type": "execute_result"
    }
   ],
   "source": [
    "a"
   ]
  },
  {
   "cell_type": "code",
   "execution_count": 33,
   "id": "909ac5a5",
   "metadata": {},
   "outputs": [
    {
     "data": {
      "text/plain": [
       "20"
      ]
     },
     "execution_count": 33,
     "metadata": {},
     "output_type": "execute_result"
    }
   ],
   "source": [
    "b"
   ]
  },
  {
   "cell_type": "code",
   "execution_count": 34,
   "id": "e428a334",
   "metadata": {},
   "outputs": [
    {
     "data": {
      "text/plain": [
       "30"
      ]
     },
     "execution_count": 34,
     "metadata": {},
     "output_type": "execute_result"
    }
   ],
   "source": [
    "c"
   ]
  },
  {
   "cell_type": "code",
   "execution_count": 35,
   "id": "5c7af1de",
   "metadata": {},
   "outputs": [
    {
     "data": {
      "text/plain": [
       "[1, 2, 3, 4, 5]"
      ]
     },
     "execution_count": 35,
     "metadata": {},
     "output_type": "execute_result"
    }
   ],
   "source": [
    "d"
   ]
  },
  {
   "cell_type": "code",
   "execution_count": 36,
   "id": "fc9191b7",
   "metadata": {},
   "outputs": [],
   "source": [
    "p = [[1,2,3,],[4,5,6]]"
   ]
  },
  {
   "cell_type": "code",
   "execution_count": 38,
   "id": "0bb63528",
   "metadata": {},
   "outputs": [
    {
     "data": {
      "text/plain": [
       "[1, 2, 3, 4, 5, 6]"
      ]
     },
     "execution_count": 38,
     "metadata": {},
     "output_type": "execute_result"
    }
   ],
   "source": [
    "[i for j in p for i in j ]"
   ]
  },
  {
   "cell_type": "code",
   "execution_count": 42,
   "id": "fb33b258",
   "metadata": {},
   "outputs": [
    {
     "data": {
      "text/plain": [
       "2"
      ]
     },
     "execution_count": 42,
     "metadata": {},
     "output_type": "execute_result"
    }
   ],
   "source": [
    "len(p)"
   ]
  },
  {
   "cell_type": "code",
   "execution_count": null,
   "id": "ad40276e",
   "metadata": {},
   "outputs": [],
   "source": []
  },
  {
   "cell_type": "code",
   "execution_count": null,
   "id": "f8638498",
   "metadata": {},
   "outputs": [],
   "source": []
  },
  {
   "cell_type": "code",
   "execution_count": 43,
   "id": "5f1d262b",
   "metadata": {},
   "outputs": [],
   "source": [
    "temp = []\n",
    "for i in p:\n",
    "    for j in i:\n",
    "        temp.append(j)"
   ]
  },
  {
   "cell_type": "code",
   "execution_count": 44,
   "id": "9d4b0ed2",
   "metadata": {},
   "outputs": [
    {
     "data": {
      "text/plain": [
       "[1, 2, 3, 4, 5, 6]"
      ]
     },
     "execution_count": 44,
     "metadata": {},
     "output_type": "execute_result"
    }
   ],
   "source": [
    "temp"
   ]
  },
  {
   "cell_type": "code",
   "execution_count": 45,
   "id": "d2d50ad1",
   "metadata": {},
   "outputs": [
    {
     "name": "stdout",
     "output_type": "stream",
     "text": [
      "[1, 2, 3]\n",
      "[4, 5, 6]\n"
     ]
    }
   ],
   "source": [
    "for i in p:\n",
    "    print(i)"
   ]
  },
  {
   "cell_type": "code",
   "execution_count": 46,
   "id": "1d649d80",
   "metadata": {},
   "outputs": [
    {
     "data": {
      "text/plain": [
       "[[1, 2, 3], [4, 5, 6]]"
      ]
     },
     "execution_count": 46,
     "metadata": {},
     "output_type": "execute_result"
    }
   ],
   "source": [
    "p"
   ]
  },
  {
   "cell_type": "code",
   "execution_count": 47,
   "id": "dd8c73eb",
   "metadata": {},
   "outputs": [],
   "source": [
    "k,j = p"
   ]
  },
  {
   "cell_type": "code",
   "execution_count": 48,
   "id": "b9d41207",
   "metadata": {},
   "outputs": [
    {
     "data": {
      "text/plain": [
       "[1, 2, 3]"
      ]
     },
     "execution_count": 48,
     "metadata": {},
     "output_type": "execute_result"
    }
   ],
   "source": [
    "k"
   ]
  },
  {
   "cell_type": "code",
   "execution_count": 49,
   "id": "5308e4fe",
   "metadata": {},
   "outputs": [
    {
     "data": {
      "text/plain": [
       "[4, 5, 6]"
      ]
     },
     "execution_count": 49,
     "metadata": {},
     "output_type": "execute_result"
    }
   ],
   "source": [
    "j"
   ]
  },
  {
   "cell_type": "code",
   "execution_count": 51,
   "id": "07e90093",
   "metadata": {},
   "outputs": [
    {
     "data": {
      "text/plain": [
       "[[1, 2, 3], [4, 5, 6]]"
      ]
     },
     "execution_count": 51,
     "metadata": {},
     "output_type": "execute_result"
    }
   ],
   "source": [
    "[i for i in p]"
   ]
  },
  {
   "cell_type": "code",
   "execution_count": 52,
   "id": "ca3b5903",
   "metadata": {},
   "outputs": [],
   "source": [
    "k = 'pune'"
   ]
  },
  {
   "cell_type": "code",
   "execution_count": 53,
   "id": "d5b25bd3",
   "metadata": {},
   "outputs": [
    {
     "data": {
      "text/plain": [
       "['p', 'u', 'n', 'e']"
      ]
     },
     "execution_count": 53,
     "metadata": {},
     "output_type": "execute_result"
    }
   ],
   "source": [
    "[i for i in k]"
   ]
  },
  {
   "cell_type": "markdown",
   "id": "a6e1a8ae",
   "metadata": {},
   "source": [
    "# list compression\n",
    "# dict compression"
   ]
  },
  {
   "cell_type": "code",
   "execution_count": 64,
   "id": "349da40e",
   "metadata": {},
   "outputs": [],
   "source": [
    "#Note : tuple compression is not possible in python if we try to create tuple compression generator will create"
   ]
  },
  {
   "cell_type": "code",
   "execution_count": null,
   "id": "1783bfb4",
   "metadata": {},
   "outputs": [],
   "source": []
  },
  {
   "cell_type": "code",
   "execution_count": 57,
   "id": "285af6e5",
   "metadata": {},
   "outputs": [],
   "source": [
    "p = tuple(range(10))"
   ]
  },
  {
   "cell_type": "code",
   "execution_count": 58,
   "id": "e377e790",
   "metadata": {},
   "outputs": [
    {
     "data": {
      "text/plain": [
       "(0, 1, 2, 3, 4, 5, 6, 7, 8, 9)"
      ]
     },
     "execution_count": 58,
     "metadata": {},
     "output_type": "execute_result"
    }
   ],
   "source": [
    "p"
   ]
  },
  {
   "cell_type": "code",
   "execution_count": 59,
   "id": "755d5913",
   "metadata": {},
   "outputs": [],
   "source": [
    "k = (i for i in p)"
   ]
  },
  {
   "cell_type": "code",
   "execution_count": 60,
   "id": "0510a8bb",
   "metadata": {},
   "outputs": [
    {
     "data": {
      "text/plain": [
       "generator"
      ]
     },
     "execution_count": 60,
     "metadata": {},
     "output_type": "execute_result"
    }
   ],
   "source": [
    "type(k)"
   ]
  },
  {
   "cell_type": "code",
   "execution_count": 61,
   "id": "a280b511",
   "metadata": {},
   "outputs": [],
   "source": [
    "k = [ i for i in p ]"
   ]
  },
  {
   "cell_type": "code",
   "execution_count": 62,
   "id": "4724dbfe",
   "metadata": {},
   "outputs": [
    {
     "data": {
      "text/plain": [
       "list"
      ]
     },
     "execution_count": 62,
     "metadata": {},
     "output_type": "execute_result"
    }
   ],
   "source": [
    "type(k)"
   ]
  },
  {
   "cell_type": "code",
   "execution_count": 63,
   "id": "f65c61b9",
   "metadata": {},
   "outputs": [
    {
     "data": {
      "text/plain": [
       "[0, 1, 2, 3, 4, 5, 6, 7, 8, 9]"
      ]
     },
     "execution_count": 63,
     "metadata": {},
     "output_type": "execute_result"
    }
   ],
   "source": [
    "k"
   ]
  },
  {
   "cell_type": "code",
   "execution_count": 65,
   "id": "d77346c3",
   "metadata": {},
   "outputs": [
    {
     "data": {
      "text/plain": [
       "(0, 1, 2, 3, 4, 5, 6, 7, 8, 9)"
      ]
     },
     "execution_count": 65,
     "metadata": {},
     "output_type": "execute_result"
    }
   ],
   "source": [
    "p"
   ]
  },
  {
   "cell_type": "code",
   "execution_count": 66,
   "id": "3a28ed1d",
   "metadata": {},
   "outputs": [],
   "source": [
    "k = (i for i in p)"
   ]
  },
  {
   "cell_type": "code",
   "execution_count": 67,
   "id": "9a666f5d",
   "metadata": {},
   "outputs": [
    {
     "data": {
      "text/plain": [
       "generator"
      ]
     },
     "execution_count": 67,
     "metadata": {},
     "output_type": "execute_result"
    }
   ],
   "source": [
    "type(k)"
   ]
  },
  {
   "cell_type": "code",
   "execution_count": 68,
   "id": "22918e39",
   "metadata": {},
   "outputs": [
    {
     "data": {
      "text/plain": [
       "<generator object <genexpr> at 0x000002157EF9C580>"
      ]
     },
     "execution_count": 68,
     "metadata": {},
     "output_type": "execute_result"
    }
   ],
   "source": [
    "k"
   ]
  },
  {
   "cell_type": "code",
   "execution_count": 74,
   "id": "aa2a20a1",
   "metadata": {},
   "outputs": [
    {
     "data": {
      "text/plain": [
       "5"
      ]
     },
     "execution_count": 74,
     "metadata": {},
     "output_type": "execute_result"
    }
   ],
   "source": [
    "next(k)"
   ]
  },
  {
   "cell_type": "markdown",
   "id": "70bea4b8",
   "metadata": {},
   "source": []
  },
  {
   "cell_type": "code",
   "execution_count": null,
   "id": "3870fe00",
   "metadata": {},
   "outputs": [],
   "source": [
    "list completssio -- YES\n",
    "tuple compression --No (Generator object)\n",
    "dict comperssion -- YES"
   ]
  },
  {
   "cell_type": "code",
   "execution_count": 75,
   "id": "e55bab9b",
   "metadata": {},
   "outputs": [
    {
     "data": {
      "text/plain": [
       "{0: 0, 1: 1, 2: 2, 3: 3}"
      ]
     },
     "execution_count": 75,
     "metadata": {},
     "output_type": "execute_result"
    }
   ],
   "source": [
    "{0:0,1:1,2:2,3:3}"
   ]
  },
  {
   "cell_type": "code",
   "execution_count": 79,
   "id": "0a577ace",
   "metadata": {},
   "outputs": [],
   "source": [
    " p= {i:i for i in range(4)}"
   ]
  },
  {
   "cell_type": "code",
   "execution_count": 80,
   "id": "08882388",
   "metadata": {},
   "outputs": [
    {
     "data": {
      "text/plain": [
       "dict"
      ]
     },
     "execution_count": 80,
     "metadata": {},
     "output_type": "execute_result"
    }
   ],
   "source": [
    "type(p)"
   ]
  },
  {
   "cell_type": "code",
   "execution_count": 81,
   "id": "bd7975b4",
   "metadata": {},
   "outputs": [],
   "source": [
    "#(['python','java','c'],[1,2,3])\n",
    "#{'python':1,'java':2,'c':3}\n",
    "\n",
    "k=['python','java','c']\n",
    "v=[1,2,3]\n",
    "dict(zip(k,v))\n",
    "\n",
    "#{i:j for (i,j) in zip(k,v)}"
   ]
  },
  {
   "cell_type": "code",
   "execution_count": null,
   "id": "81eb376d",
   "metadata": {},
   "outputs": [],
   "source": [
    "# Performing mathematical operations on the entire list\n",
    "my_list = [2, 3, 5, 7, 11]\n",
    "squared_list = [x**2 for x in my_list]    # list comprehension\n",
    "# output => [4 , 9 , 25 , 49 , 121]\n",
    "squared_dict = {x:x**2 for x in my_list}    # dict comprehension\n",
    "# output => {11: 121, 2: 4 , 3: 9 , 5: 25 , 7: 49}"
   ]
  },
  {
   "cell_type": "code",
   "execution_count": null,
   "id": "3acd8d3f",
   "metadata": {},
   "outputs": [],
   "source": [
    "# Performing conditional filtering operations on the entire list\n",
    "\n",
    "my_list = [2, 3, 5, 7, 11]\n",
    "squared_list = [x**2 for x in my_list if x%2 != 0]    # list comprehension\n",
    "# output => [9 , 25 , 49 , 121]\n",
    "squared_dict = {x:x**2 for x in my_list if x%2 != 0}    # dict comprehension\n",
    "# output => {11: 121, 3: 9 , 5: 25 , 7: 49}"
   ]
  },
  {
   "cell_type": "code",
   "execution_count": null,
   "id": "ae2187dd",
   "metadata": {},
   "outputs": [],
   "source": [
    "# Combining multiple lists into one\n",
    "a = [1, 2, 3]\n",
    "b = [7, 8, 9]\n",
    "[(x + y) for (x,y) in zip(a,b)]  # parallel iterators\n",
    "# output => [8, 10, 12]\n",
    "[(x,y) for x in a for y in b]    # nested iterators\n",
    "# output => [(1, 7), (1, 8), (1, 9), (2, 7), (2, 8), (2, 9), (3, 7), (3, 8), (3, 9)] "
   ]
  },
  {
   "cell_type": "code",
   "execution_count": null,
   "id": "8af58d86",
   "metadata": {},
   "outputs": [],
   "source": [
    "# Flattening a multi-dimensional list\n",
    "my_list = [[10,20,30],[40,50,60],[70,80,90]]\n",
    "flattened = [x for temp in my_list for x in temp]\n",
    "# output => [10, 20, 30, 40, 50, 60, 70, 80, 90]"
   ]
  },
  {
   "cell_type": "code",
   "execution_count": 82,
   "id": "dbbb9186",
   "metadata": {},
   "outputs": [],
   "source": [
    "#Assigment"
   ]
  },
  {
   "cell_type": "code",
   "execution_count": 83,
   "id": "0b85f734",
   "metadata": {},
   "outputs": [],
   "source": [
    "p = 'abcadbbadadervsdgpghndhagfdv,nvbsfvvc#'"
   ]
  },
  {
   "cell_type": "code",
   "execution_count": 84,
   "id": "48171aa0",
   "metadata": {},
   "outputs": [],
   "source": [
    "#{'a':count,'b':count}\n",
    "#without using inbuilt function"
   ]
  },
  {
   "cell_type": "code",
   "execution_count": null,
   "id": "f97fd7db",
   "metadata": {},
   "outputs": [],
   "source": [
    "dict\n",
    "{'gold':234523,'silver':235325,.............}\n",
    "#gold silver -- \n",
    "#except gold silver"
   ]
  }
 ],
 "metadata": {
  "kernelspec": {
   "display_name": "Python 3 (ipykernel)",
   "language": "python",
   "name": "python3"
  },
  "language_info": {
   "codemirror_mode": {
    "name": "ipython",
    "version": 3
   },
   "file_extension": ".py",
   "mimetype": "text/x-python",
   "name": "python",
   "nbconvert_exporter": "python",
   "pygments_lexer": "ipython3",
   "version": "3.9.7"
  }
 },
 "nbformat": 4,
 "nbformat_minor": 5
}
