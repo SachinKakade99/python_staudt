{
 "cells": [
  {
   "cell_type": "code",
   "execution_count": 2,
   "id": "051f3d67",
   "metadata": {},
   "outputs": [],
   "source": [
    "#Control statement"
   ]
  },
  {
   "cell_type": "code",
   "execution_count": 3,
   "id": "4fcde67b",
   "metadata": {},
   "outputs": [
    {
     "name": "stdout",
     "output_type": "stream",
     "text": [
      "hi\n",
      "bye\n",
      "welcome\n"
     ]
    }
   ],
   "source": [
    "print(\"hi\")\n",
    "condition\n",
    "     print(\"bye\")\n",
    "print(\"welcome\")"
   ]
  },
  {
   "cell_type": "code",
   "execution_count": null,
   "id": "b7809618",
   "metadata": {},
   "outputs": [],
   "source": [
    "condition --->change the control /flow of program"
   ]
  },
  {
   "cell_type": "code",
   "execution_count": null,
   "id": "b988b972",
   "metadata": {},
   "outputs": [],
   "source": [
    "1.simple if \n",
    "2.if-else\n",
    "3.if else ladder\n",
    "4.nested if else"
   ]
  },
  {
   "cell_type": "code",
   "execution_count": null,
   "id": "8e21cd26",
   "metadata": {},
   "outputs": [],
   "source": [
    "if condition:\n",
    "    block of code"
   ]
  },
  {
   "cell_type": "code",
   "execution_count": null,
   "id": "fa62ae66",
   "metadata": {},
   "outputs": [],
   "source": []
  },
  {
   "cell_type": "code",
   "execution_count": 5,
   "id": "fa936586",
   "metadata": {},
   "outputs": [
    {
     "name": "stdout",
     "output_type": "stream",
     "text": [
      "Welcome to vaccination programe\n",
      "Enter the age:40\n",
      "Take vaccination on priority\n",
      "Thanks for using our service\n"
     ]
    }
   ],
   "source": [
    "print(\"Welcome to vaccination programe\")\n",
    "age = int(input(\"Enter the age:\"))\n",
    "if age>35:#True\n",
    "    print(\"Take vaccination on priority\")\n",
    "print(\"Thanks for using our service\")"
   ]
  },
  {
   "cell_type": "code",
   "execution_count": 15,
   "id": "7fdfbb51",
   "metadata": {},
   "outputs": [
    {
     "name": "stdout",
     "output_type": "stream",
     "text": [
      "Enter the name:kantilal\n",
      "yes,k is present in kantilal\n"
     ]
    }
   ],
   "source": [
    "name = input(\"Enter the name:\").lower()\n",
    "if 'k' in name:\n",
    "    print(\"yes,k is present in {}\".format(name))\n"
   ]
  },
  {
   "cell_type": "code",
   "execution_count": 10,
   "id": "4ccbdd40",
   "metadata": {},
   "outputs": [
    {
     "data": {
      "text/plain": [
       "True"
      ]
     },
     "execution_count": 10,
     "metadata": {},
     "output_type": "execute_result"
    }
   ],
   "source": [
    "'P' in 'Python'"
   ]
  },
  {
   "cell_type": "code",
   "execution_count": null,
   "id": "e21c79e4",
   "metadata": {},
   "outputs": [],
   "source": [
    "#if-else\n",
    "use -- two condition which is contradictory/opposite\n",
    "True ---> False\n",
    "False ---> True"
   ]
  },
  {
   "cell_type": "code",
   "execution_count": 17,
   "id": "f3de05f1",
   "metadata": {},
   "outputs": [
    {
     "name": "stdout",
     "output_type": "stream",
     "text": [
      "Ente the numeber:-45\n",
      "number is negative\n"
     ]
    }
   ],
   "source": [
    "no = int(input(\"Ente the numeber:\"))\n",
    "if no>0: # True\n",
    "    print(\"number is positive\")\n",
    "else:\n",
    "    print(\"number is negative\")"
   ]
  },
  {
   "cell_type": "code",
   "execution_count": 18,
   "id": "6c9ce9bd",
   "metadata": {},
   "outputs": [],
   "source": [
    "#Note : else --- never have condition"
   ]
  },
  {
   "cell_type": "code",
   "execution_count": null,
   "id": "bfc7cc61",
   "metadata": {},
   "outputs": [],
   "source": [
    "#if-else-ladder\n",
    "when we have more than two condition"
   ]
  },
  {
   "cell_type": "code",
   "execution_count": null,
   "id": "9affef41",
   "metadata": {},
   "outputs": [],
   "source": []
  },
  {
   "cell_type": "code",
   "execution_count": null,
   "id": "c03f48a9",
   "metadata": {},
   "outputs": [],
   "source": [
    "if condition1:\n",
    "    block1\n",
    "elif condition2:\n",
    "    block2\n",
    "elif condition3:\n",
    "    block3\n",
    ".\n",
    ".\n",
    ".\n",
    ".\n",
    "elif condition n:\n",
    "    blockn\n",
    "else:\n",
    "    block --default block"
   ]
  },
  {
   "cell_type": "code",
   "execution_count": null,
   "id": "868d955e",
   "metadata": {},
   "outputs": [],
   "source": [
    "#covid\n",
    "age > 35 --vaccination on priority\n",
    "age > 18 and age < 35 -->pls do registration on cowin website\n",
    "age <18 and age > 7 ---> pls wait for slot \n",
    "age >0 and age < 7 --> wait for your turn\n"
   ]
  },
  {
   "cell_type": "code",
   "execution_count": 6,
   "id": "65c2da03",
   "metadata": {},
   "outputs": [
    {
     "name": "stdout",
     "output_type": "stream",
     "text": [
      "                                   welcome to Vaccination program                                   \n",
      "Enter the age:ytdytdytdyt\n"
     ]
    },
    {
     "ename": "ValueError",
     "evalue": "invalid literal for int() with base 10: 'ytdytdytdyt'",
     "output_type": "error",
     "traceback": [
      "\u001b[1;31m---------------------------------------------------------------------------\u001b[0m",
      "\u001b[1;31mValueError\u001b[0m                                Traceback (most recent call last)",
      "\u001b[1;32m<ipython-input-6-c9489d520179>\u001b[0m in \u001b[0;36m<module>\u001b[1;34m\u001b[0m\n\u001b[0;32m      1\u001b[0m \u001b[0mprint\u001b[0m\u001b[1;33m(\u001b[0m\u001b[1;34m\"welcome to Vaccination program\"\u001b[0m\u001b[1;33m.\u001b[0m\u001b[0mcenter\u001b[0m\u001b[1;33m(\u001b[0m\u001b[1;36m100\u001b[0m\u001b[1;33m)\u001b[0m\u001b[1;33m)\u001b[0m\u001b[1;33m\u001b[0m\u001b[1;33m\u001b[0m\u001b[0m\n\u001b[1;32m----> 2\u001b[1;33m \u001b[0mage\u001b[0m\u001b[1;33m=\u001b[0m\u001b[0mint\u001b[0m\u001b[1;33m(\u001b[0m\u001b[0minput\u001b[0m\u001b[1;33m(\u001b[0m\u001b[1;34m\"Enter the age:\"\u001b[0m\u001b[1;33m)\u001b[0m\u001b[1;33m)\u001b[0m\u001b[1;33m\u001b[0m\u001b[1;33m\u001b[0m\u001b[0m\n\u001b[0m\u001b[0;32m      3\u001b[0m \u001b[1;32mif\u001b[0m \u001b[0mage\u001b[0m\u001b[1;33m>\u001b[0m\u001b[1;36m35\u001b[0m\u001b[1;33m:\u001b[0m\u001b[1;33m\u001b[0m\u001b[1;33m\u001b[0m\u001b[0m\n\u001b[0;32m      4\u001b[0m     \u001b[0mprint\u001b[0m\u001b[1;33m(\u001b[0m\u001b[1;34mf\"you are {age} and pls take vaccination on priority\"\u001b[0m\u001b[1;33m)\u001b[0m\u001b[1;33m\u001b[0m\u001b[1;33m\u001b[0m\u001b[0m\n\u001b[0;32m      5\u001b[0m \u001b[1;32melif\u001b[0m \u001b[0mage\u001b[0m \u001b[1;33m>\u001b[0m \u001b[1;36m18\u001b[0m \u001b[1;32mand\u001b[0m \u001b[0mage\u001b[0m\u001b[1;33m<\u001b[0m\u001b[1;36m35\u001b[0m\u001b[1;33m:\u001b[0m\u001b[1;33m\u001b[0m\u001b[1;33m\u001b[0m\u001b[0m\n",
      "\u001b[1;31mValueError\u001b[0m: invalid literal for int() with base 10: 'ytdytdytdyt'"
     ]
    }
   ],
   "source": [
    "print(\"welcome to Vaccination program\".center(100))\n",
    "age=input(\"Enter the age:\")\n",
    "\n",
    "if age>35:\n",
    "    print(f\"you are {age} and pls take vaccination on priority\")\n",
    "elif age > 18 and age<35:\n",
    "    print(\"you are {} and pls do registration on {}\".format(age,'https://www.cowin.gov.in/'))\n",
    "elif age <18 and age >7 :\n",
    "    print(\"Please wait for slot\")\n",
    "elif age >0 and age<7:\n",
    "    print(\"wait for your turn\")\n",
    "else:\n",
    "    print(\"Pls enter correct age\")\n"
   ]
  },
  {
   "cell_type": "code",
   "execution_count": 7,
   "id": "a6e29b3e",
   "metadata": {},
   "outputs": [],
   "source": [
    "#nested if -else"
   ]
  },
  {
   "cell_type": "code",
   "execution_count": 4,
   "id": "1bd6990d",
   "metadata": {},
   "outputs": [],
   "source": [
    "if cond:\n",
    "    if cond:\n",
    "        if cond\n",
    "        \n",
    "        \n",
    "        else\n",
    "    else\n",
    "else\n",
    "   if cond\n",
    "  \n",
    "   else:"
   ]
  },
  {
   "cell_type": "code",
   "execution_count": null,
   "id": "1278ea69",
   "metadata": {},
   "outputs": [],
   "source": []
  },
  {
   "cell_type": "code",
   "execution_count": 9,
   "id": "cefb5dcb",
   "metadata": {},
   "outputs": [
    {
     "name": "stdout",
     "output_type": "stream",
     "text": [
      "enter the country name:India\n",
      "Enter the state name:Maharashtra\n",
      "Please visit mumbai and Konkan\n"
     ]
    }
   ],
   "source": [
    "country = input(\"enter the country name:\")\n",
    "state = input(\"Enter the state name:\")\n",
    "\n",
    "if country=='India':\n",
    "    if state=='Maharashtra':\n",
    "        print(\"Please visit mumbai and Konkan\")    \n",
    "    elif state=='Goa':\n",
    "        print(\"Please dont drink so much beer\")\n",
    "    elif state=='Delhi':\n",
    "        print(\"Please wear sweater\")\n",
    "elif country=='US':\n",
    "    if state=='LA':\n",
    "        print(\"in LA\")\n",
    "    else:\n",
    "        print(\"In else\")\n",
    "else:\n",
    "    print(\"in Outer else\")\n",
    "\n",
    "        "
   ]
  },
  {
   "cell_type": "code",
   "execution_count": null,
   "id": "5d19759a",
   "metadata": {},
   "outputs": [],
   "source": [
    "#Employee Bonus Calculation\n",
    "E = Gender M ---> sal > 75000  city mumbai then 5 %\n",
    "                               city pune then 2.5  \n",
    "    Gender F ---> sal > 75000 city mumbai then 10 %\n",
    "                              city pune 7 %\n",
    "\n",
    "        \n",
    "1.problem -  1,100\n",
    "prime,even,odd\n",
    "2.duplicates element from list\n",
    "3.duplicates element count from the list\n",
    "4.duplciate element count from list display like\n",
    "e.g. {1:count,2:count}\n",
    "5.can we difine list inside tuple or vice versa\n",
    "6.can we perform u/d/i on list which is inside tuple vice versa\n",
    "7.count char from string \n",
    "{a:count,b:count}\n",
    "8.reverse the list without using inbuilt method/function\n",
    "9.user sal\n",
    "grade\n",
    "a sal >90 ---15%\n",
    "b sal>70<90 --12%\n",
    "c sal >50 <70 --10%\n"
   ]
  },
  {
   "cell_type": "code",
   "execution_count": 12,
   "id": "9b77f1c8",
   "metadata": {},
   "outputs": [
    {
     "name": "stdout",
     "output_type": "stream",
     "text": [
      "hello\n",
      "hello\n",
      "hello\n",
      "hello\n",
      "hello\n",
      "hello\n",
      "hello\n",
      "hello\n"
     ]
    }
   ],
   "source": [
    "print(\"hello\")\n",
    "print(\"hello\")\n",
    "print(\"hello\")\n",
    "print(\"hello\")\n",
    "print(\"hello\")\n",
    "print(\"hello\")\n",
    "print(\"hello\")\n",
    "print(\"hello\")"
   ]
  },
  {
   "cell_type": "code",
   "execution_count": 13,
   "id": "3b20071a",
   "metadata": {},
   "outputs": [],
   "source": [
    "#loop"
   ]
  },
  {
   "cell_type": "code",
   "execution_count": null,
   "id": "1e61627a",
   "metadata": {},
   "outputs": [],
   "source": [
    "for \n",
    "while\n",
    "do while --- not present in python"
   ]
  },
  {
   "cell_type": "code",
   "execution_count": 1,
   "id": "bc3e81d1",
   "metadata": {},
   "outputs": [],
   "source": [
    "p = [1,'python','java','c',300,400]"
   ]
  },
  {
   "cell_type": "code",
   "execution_count": 2,
   "id": "707beb43",
   "metadata": {},
   "outputs": [
    {
     "data": {
      "text/plain": [
       "list"
      ]
     },
     "execution_count": 2,
     "metadata": {},
     "output_type": "execute_result"
    }
   ],
   "source": [
    "type(p)"
   ]
  },
  {
   "cell_type": "code",
   "execution_count": 6,
   "id": "5a021d3a",
   "metadata": {},
   "outputs": [
    {
     "name": "stdout",
     "output_type": "stream",
     "text": [
      "1\n",
      "python\n",
      "java\n",
      "c\n",
      "300\n",
      "400\n"
     ]
    }
   ],
   "source": [
    "for temp in p:\n",
    "    print(temp)"
   ]
  },
  {
   "cell_type": "code",
   "execution_count": 7,
   "id": "a575197e",
   "metadata": {},
   "outputs": [],
   "source": [
    "d = {'a':1,'b':2,'c':3}"
   ]
  },
  {
   "cell_type": "code",
   "execution_count": 11,
   "id": "5d0d409c",
   "metadata": {},
   "outputs": [
    {
     "name": "stdout",
     "output_type": "stream",
     "text": [
      "a 1\n",
      "b 2\n",
      "c 3\n"
     ]
    }
   ],
   "source": [
    "for i,j in d.items():\n",
    "    print(i,j)"
   ]
  },
  {
   "cell_type": "code",
   "execution_count": 12,
   "id": "c0373478",
   "metadata": {},
   "outputs": [
    {
     "name": "stdout",
     "output_type": "stream",
     "text": [
      "1\n",
      "2\n",
      "3\n",
      "4\n",
      "5\n",
      "6\n",
      "7\n",
      "8\n",
      "9\n",
      "10\n",
      "11\n",
      "12\n",
      "13\n",
      "14\n",
      "15\n",
      "16\n",
      "17\n",
      "18\n",
      "19\n",
      "20\n",
      "21\n",
      "22\n",
      "23\n",
      "24\n",
      "25\n",
      "26\n",
      "27\n",
      "28\n",
      "29\n",
      "30\n",
      "31\n",
      "32\n",
      "33\n",
      "34\n",
      "35\n",
      "36\n",
      "37\n",
      "38\n",
      "39\n",
      "40\n",
      "41\n",
      "42\n",
      "43\n",
      "44\n",
      "45\n",
      "46\n",
      "47\n",
      "48\n",
      "49\n",
      "50\n",
      "51\n",
      "52\n",
      "53\n",
      "54\n",
      "55\n",
      "56\n",
      "57\n",
      "58\n",
      "59\n",
      "60\n",
      "61\n",
      "62\n",
      "63\n",
      "64\n",
      "65\n",
      "66\n",
      "67\n",
      "68\n",
      "69\n",
      "70\n",
      "71\n",
      "72\n",
      "73\n",
      "74\n",
      "75\n",
      "76\n",
      "77\n",
      "78\n",
      "79\n",
      "80\n",
      "81\n",
      "82\n",
      "83\n",
      "84\n",
      "85\n",
      "86\n",
      "87\n",
      "88\n",
      "89\n",
      "90\n",
      "91\n",
      "92\n",
      "93\n",
      "94\n",
      "95\n",
      "96\n",
      "97\n",
      "98\n",
      "99\n",
      "100\n"
     ]
    }
   ],
   "source": [
    "for i in range(1,101,1):\n",
    "    print(i)"
   ]
  },
  {
   "cell_type": "code",
   "execution_count": 14,
   "id": "a0ca4dc9",
   "metadata": {},
   "outputs": [
    {
     "name": "stdout",
     "output_type": "stream",
     "text": [
      "0\n",
      "1\n",
      "2\n",
      "3\n",
      "4\n",
      "5\n",
      "6\n",
      "7\n",
      "8\n",
      "9\n"
     ]
    }
   ],
   "source": [
    "for i in range(10):\n",
    "    print(i)"
   ]
  },
  {
   "cell_type": "code",
   "execution_count": 19,
   "id": "d410c360",
   "metadata": {},
   "outputs": [
    {
     "name": "stdout",
     "output_type": "stream",
     "text": [
      "0\n",
      "3\n",
      "6\n",
      "9\n",
      "12\n",
      "15\n",
      "18\n"
     ]
    }
   ],
   "source": [
    "for i in range(0,20,3):\n",
    "    print(i)"
   ]
  },
  {
   "cell_type": "code",
   "execution_count": 21,
   "id": "51586ccd",
   "metadata": {},
   "outputs": [],
   "source": [
    "#WAP to find all even numbers from 1-500 without using step parameters"
   ]
  },
  {
   "cell_type": "code",
   "execution_count": null,
   "id": "1fa306c1",
   "metadata": {},
   "outputs": [],
   "source": [
    "for --- loop\n",
    "if --- statement"
   ]
  },
  {
   "cell_type": "code",
   "execution_count": 48,
   "id": "e8f65b2f",
   "metadata": {},
   "outputs": [],
   "source": [
    "even = []\n",
    "for i in range(1,5):\n",
    "    if i%2==0:\n",
    "        even.append(i)"
   ]
  },
  {
   "cell_type": "code",
   "execution_count": 49,
   "id": "0512fa5f",
   "metadata": {
    "scrolled": false
   },
   "outputs": [
    {
     "data": {
      "text/plain": [
       "[2, 4]"
      ]
     },
     "execution_count": 49,
     "metadata": {},
     "output_type": "execute_result"
    }
   ],
   "source": [
    "even"
   ]
  },
  {
   "cell_type": "code",
   "execution_count": 62,
   "id": "e7f95072",
   "metadata": {},
   "outputs": [],
   "source": [
    "p = ['scooden@gmail.com','asfjkbasfjk@gmail.comasdsaf',1212,'sdfsdf@gmail.','safasfsaf@gmail.com','asfknakf@gmail.cpm','sadfsaf@gmail.com']"
   ]
  },
  {
   "cell_type": "code",
   "execution_count": 65,
   "id": "dbb2efe6",
   "metadata": {},
   "outputs": [
    {
     "name": "stdout",
     "output_type": "stream",
     "text": [
      "please check the list\n"
     ]
    }
   ],
   "source": [
    "valid_email = []\n",
    "invalid_email = []\n",
    "for i in p:\n",
    "    if type(i)==str:\n",
    "\n",
    "    \n",
    "        if i.endswith('@gmail.com'):\n",
    "            valid_email.append(i)\n",
    "        else:\n",
    "            invalid_email.append(i)\n",
    "    else:\n",
    "        print(\"please check the list\")\n",
    "        break\n"
   ]
  },
  {
   "cell_type": "code",
   "execution_count": 64,
   "id": "86632f22",
   "metadata": {},
   "outputs": [
    {
     "data": {
      "text/plain": [
       "['scooden@gmail.com']"
      ]
     },
     "execution_count": 64,
     "metadata": {},
     "output_type": "execute_result"
    }
   ],
   "source": [
    "valid_email"
   ]
  },
  {
   "cell_type": "code",
   "execution_count": 33,
   "id": "1b90028c",
   "metadata": {},
   "outputs": [],
   "source": [
    "p = [123,545,5656,'python']"
   ]
  },
  {
   "cell_type": "code",
   "execution_count": 35,
   "id": "f685a7e1",
   "metadata": {},
   "outputs": [
    {
     "name": "stdout",
     "output_type": "stream",
     "text": [
      "123\n",
      "545\n",
      "5656\n",
      "python\n"
     ]
    }
   ],
   "source": [
    "for i in p:\n",
    "    print(str(i))"
   ]
  },
  {
   "cell_type": "code",
   "execution_count": 36,
   "id": "ce4f2cf5",
   "metadata": {},
   "outputs": [],
   "source": [
    "#while loop"
   ]
  },
  {
   "cell_type": "code",
   "execution_count": 66,
   "id": "562a76e4",
   "metadata": {},
   "outputs": [],
   "source": [
    "while False:\n",
    "    print(\"Hello\")"
   ]
  },
  {
   "cell_type": "code",
   "execution_count": 67,
   "id": "a4407255",
   "metadata": {},
   "outputs": [
    {
     "name": "stdout",
     "output_type": "stream",
     "text": [
      "0\n",
      "1\n",
      "2\n",
      "3\n",
      "4\n",
      "5\n",
      "6\n",
      "7\n",
      "8\n",
      "9\n",
      "10\n"
     ]
    }
   ],
   "source": [
    "i=0\n",
    "\n",
    "while i<=10:\n",
    "    print(i)\n",
    "    i+=1"
   ]
  },
  {
   "cell_type": "code",
   "execution_count": 68,
   "id": "c64ade41",
   "metadata": {},
   "outputs": [
    {
     "name": "stdout",
     "output_type": "stream",
     "text": [
      "10\n",
      "9\n",
      "8\n",
      "7\n",
      "6\n",
      "5\n",
      "4\n",
      "3\n",
      "2\n",
      "1\n",
      "0\n"
     ]
    }
   ],
   "source": [
    "i=10\n",
    "while i>=0:\n",
    "    print(i)\n",
    "    i=i-1"
   ]
  },
  {
   "cell_type": "code",
   "execution_count": 74,
   "id": "45c6d28f",
   "metadata": {},
   "outputs": [
    {
     "name": "stdout",
     "output_type": "stream",
     "text": [
      "Enter the number: 35\n",
      "35 is odd\n",
      "Do you want to continue:[yes|no]no\n",
      "thanks for checking\n"
     ]
    }
   ],
   "source": [
    "while True:\n",
    "    \n",
    "    no = int(input(\"Enter the number:\"))\n",
    "    if no%2==0:\n",
    "        print(f\"{no} is even\")\n",
    "    else:\n",
    "        print(f\"{no} is odd\")\n",
    "    choice = input(\"Do you want to continue:[yes|no]\").lower()\n",
    "    if choice=='no'or choice=='n':\n",
    "        print(\"thanks for checking\")\n",
    "        break"
   ]
  },
  {
   "cell_type": "code",
   "execution_count": null,
   "id": "3ae94cfd",
   "metadata": {},
   "outputs": [],
   "source": []
  },
  {
   "cell_type": "code",
   "execution_count": 42,
   "id": "89384ef9",
   "metadata": {},
   "outputs": [],
   "source": [
    "#loop control statement"
   ]
  },
  {
   "cell_type": "code",
   "execution_count": 43,
   "id": "178f4c9e",
   "metadata": {},
   "outputs": [],
   "source": [
    "#1.Break\n",
    "#2.continue"
   ]
  },
  {
   "cell_type": "code",
   "execution_count": 44,
   "id": "ec27cdfe",
   "metadata": {},
   "outputs": [],
   "source": [
    "#Break"
   ]
  },
  {
   "cell_type": "code",
   "execution_count": 92,
   "id": "bd92f879",
   "metadata": {},
   "outputs": [],
   "source": [
    "p = [1,2,3,4,5,13.33,6,7,8,9,100,100.12324,'123','python']"
   ]
  },
  {
   "cell_type": "code",
   "execution_count": 78,
   "id": "1e5c9466",
   "metadata": {},
   "outputs": [
    {
     "name": "stdout",
     "output_type": "stream",
     "text": [
      "1\n",
      "2\n",
      "3\n",
      "4\n"
     ]
    }
   ],
   "source": [
    "for i in p:\n",
    "    if i==5:\n",
    "        break\n",
    "    else:\n",
    "        print(i)"
   ]
  },
  {
   "cell_type": "code",
   "execution_count": 93,
   "id": "c6d0557d",
   "metadata": {},
   "outputs": [],
   "source": [
    "#continue"
   ]
  },
  {
   "cell_type": "code",
   "execution_count": 94,
   "id": "397da0e8",
   "metadata": {},
   "outputs": [
    {
     "name": "stdout",
     "output_type": "stream",
     "text": [
      "1\n",
      "2\n",
      "3\n",
      "4\n",
      "5\n",
      "6\n",
      "7\n",
      "8\n",
      "9\n"
     ]
    }
   ],
   "source": [
    "for i in p:\n",
    "    if type(i) in [float,str]:\n",
    "        continue\n",
    "    elif i in [100]:\n",
    "        continue\n",
    "    else:\n",
    "        print(i)"
   ]
  },
  {
   "cell_type": "code",
   "execution_count": 96,
   "id": "8ae53a8a",
   "metadata": {},
   "outputs": [
    {
     "ename": "SyntaxError",
     "evalue": "'break' outside loop (<ipython-input-96-4c23cac70e2a>, line 3)",
     "output_type": "error",
     "traceback": [
      "\u001b[1;36m  File \u001b[1;32m\"<ipython-input-96-4c23cac70e2a>\"\u001b[1;36m, line \u001b[1;32m3\u001b[0m\n\u001b[1;33m    break\u001b[0m\n\u001b[1;37m    ^\u001b[0m\n\u001b[1;31mSyntaxError\u001b[0m\u001b[1;31m:\u001b[0m 'break' outside loop\n"
     ]
    }
   ],
   "source": [
    "def test():\n",
    "    print('hello')\n",
    "    break"
   ]
  },
  {
   "cell_type": "code",
   "execution_count": null,
   "id": "8cb8f312",
   "metadata": {},
   "outputs": [],
   "source": [
    "BASIC PYTHON\n",
    "Python program to calculate the avg of numbers in lists\n",
    "Python program to exchange the values of two numbers without using third variable\n",
    "python program to a read number n and compute n+nn+nnn+nnnn\n",
    "Python progam to reverse the given number\n",
    "python program to take a five subject marks and display the grade\n",
    "python program to prirnt all numbers in range divisible by given number\n",
    "PP to read two numbers and print there quotrient and reminder\n",
    "PP to accept three digits and print all possible combinations from digits\n",
    "PP to print odd numbers within a given range\n",
    "pp to find the sum of digits in number\n",
    "PP to find smallest divisor of integer\n",
    "PP to count the number of digits in num\n",
    "PP to check if the number is palindrome\n",
    "PP to print all integers that aren't divisible by two or threee and lies between 1 to 5\n",
    "PP to read N numbers and print the series 1+2+.....+N\n",
    "PP to print identity matrix\n",
    "PP to print inverted star Pattern\n",
    "PP to find the largest number in the list\n",
    "PP to take the list and print the second largest number in he list\n",
    "PP to merge two lists and to sort it\n",
    "PP to find the union of two lists\n",
    "PP to find the count of numbers and display in dictionary\n",
    "PP to swap the first and last value of the list\n",
    "PP to remove the duplicate items from the list"
   ]
  }
 ],
 "metadata": {
  "kernelspec": {
   "display_name": "Python 3 (ipykernel)",
   "language": "python",
   "name": "python3"
  },
  "language_info": {
   "codemirror_mode": {
    "name": "ipython",
    "version": 3
   },
   "file_extension": ".py",
   "mimetype": "text/x-python",
   "name": "python",
   "nbconvert_exporter": "python",
   "pygments_lexer": "ipython3",
   "version": "3.9.7"
  }
 },
 "nbformat": 4,
 "nbformat_minor": 5
}
