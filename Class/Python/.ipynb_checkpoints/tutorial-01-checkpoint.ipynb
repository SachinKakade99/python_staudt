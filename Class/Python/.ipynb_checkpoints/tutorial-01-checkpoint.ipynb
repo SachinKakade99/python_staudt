{
 "cells": [
  {
   "cell_type": "markdown",
   "id": "7091e2a9",
   "metadata": {},
   "source": [
    "## What is Python?\n",
    "- Python is a popular programming language. It was created by Guido van Rossum, and released in 1991.\n",
    "### What can Python do?\n",
    "- Python can be used on a server to create web applications or it can be used alongside software to create workflows.\n",
    "- Python can connect to database systems. It can also read and modify files.\n",
    "- Python can be used to handle big data and perform complex mathematics.\n",
    "- Python can be used for rapid prototyping, or for production-ready software development.\n",
    "## Why Python?\n",
    "- Python works on different platforms (Windows, Mac, Linux, Raspberry Pi, etc).\n",
    "- Python has a simple syntax similar to the English language.\n",
    "- Python has syntax that allows developers to write programs with fewer lines than some other programming languages.\n",
    "- Python runs on an interpreter system, meaning that code can be executed as soon as it is written. This means that prototyping can be very quick.\n",
    "- Python can be treated in a procedural way, an object-oriented way or a functional way.\n",
    "## Python Syntax compared to other programming languages\n",
    "- Python was designed for readability, and has some similarities to the English language with influence from mathematics.\n",
    "- Python uses new lines to complete a command, as opposed to other programming languages which often use semicolons or parentheses.\n"
   ]
  },
  {
   "cell_type": "code",
   "execution_count": 1,
   "id": "37aad64e",
   "metadata": {},
   "outputs": [
    {
     "name": "stdout",
     "output_type": "stream",
     "text": [
      "Hello, World!\n"
     ]
    }
   ],
   "source": [
    "print(\"Hello, World!\")"
   ]
  },
  {
   "cell_type": "markdown",
   "id": "8d580fb8",
   "metadata": {},
   "source": [
    "- Python relies on indentation, using whitespace, to define scope; such as the scope of loops, functions and classes. Other programming languages often use curly-brackets for this purpose.\n"
   ]
  },
  {
   "cell_type": "code",
   "execution_count": 5,
   "id": "d0f9ce03",
   "metadata": {},
   "outputs": [
    {
     "name": "stdout",
     "output_type": "stream",
     "text": [
      "two is small\n"
     ]
    }
   ],
   "source": [
    "if 5 < 2:\n",
    "    print(\"Five is\")\n",
    "    print(\"greater\")\n",
    "else:\n",
    "    print(\"two is small\")"
   ]
  },
  {
   "cell_type": "markdown",
   "id": "0e83feba",
   "metadata": {},
   "source": [
    "## Comments\n",
    "- Comments start with a #, and Python will render the rest of the line as a comment:\n",
    "- To add a multiline comment use \"\"\" ------ \"\"\"\n",
    "## Variables\n",
    "- Python has no command for declaring a variable.\n",
    "- A variable is created the moment you first assign a value to it.\n",
    "### Variable Names\n",
    "- A variable name must start with a letter or the underscore character\n",
    "- A variable name cannot start with a number\n",
    "- A variable name can only contain alpha-numeric characters and underscores (A-z, 0-9, and _ )\n",
    "- Variable names are case-sensitive (age, Age and AGE are three different variables)\n",
    "### Camel Case [ myVariableName = \"SK\" ]\n",
    "### Pascal Case [ MyVariableName = \"SK\" ]\n",
    "### Snake Case [ my_variable_name = \"SK\" ]"
   ]
  },
  {
   "cell_type": "code",
   "execution_count": 6,
   "id": "1ccbc844",
   "metadata": {},
   "outputs": [
    {
     "name": "stdout",
     "output_type": "stream",
     "text": [
      "5\n",
      "John\n"
     ]
    }
   ],
   "source": [
    "a = 5\n",
    "b = \"SK\"\n",
    "print(a)\n",
    "print(p)"
   ]
  },
  {
   "cell_type": "markdown",
   "id": "36ef8383",
   "metadata": {},
   "source": [
    "- Variables do not need to be declared with any particular type, and can even change type after they have been set."
   ]
  },
  {
   "cell_type": "code",
   "execution_count": 7,
   "id": "1beacd1a",
   "metadata": {},
   "outputs": [
    {
     "name": "stdout",
     "output_type": "stream",
     "text": [
      "Sally\n"
     ]
    }
   ],
   "source": [
    "c = 4       # x is of type int\n",
    "c = \"STR\" # x is now of type str\n",
    "print(c)"
   ]
  },
  {
   "cell_type": "markdown",
   "id": "3d1fb57d",
   "metadata": {},
   "source": [
    "- If you want to specify the data type of a variable, this can be done with casting."
   ]
  },
  {
   "cell_type": "code",
   "execution_count": 10,
   "id": "d99041c1",
   "metadata": {},
   "outputs": [
    {
     "name": "stdout",
     "output_type": "stream",
     "text": [
      "<class 'str'>\n",
      "<class 'int'>\n"
     ]
    }
   ],
   "source": [
    "d = str(3)    # x will be '3'\n",
    "print(type(d))\n",
    "e = int(3)    # y will be 3\n",
    "print(type(e))"
   ]
  },
  {
   "cell_type": "code",
   "execution_count": 12,
   "id": "ebe6b78f",
   "metadata": {},
   "outputs": [
    {
     "name": "stdout",
     "output_type": "stream",
     "text": [
      "<class 'str'>\n"
     ]
    }
   ],
   "source": [
    "e='abc'\n",
    "print(type(y))"
   ]
  },
  {
   "cell_type": "markdown",
   "id": "ae210173",
   "metadata": {},
   "source": [
    "- Python allows you to assign values to multiple variables in one line:"
   ]
  },
  {
   "cell_type": "code",
   "execution_count": 13,
   "id": "27a67940",
   "metadata": {},
   "outputs": [
    {
     "name": "stdout",
     "output_type": "stream",
     "text": [
      "Orange\n",
      "Banana\n",
      "Cherry\n"
     ]
    }
   ],
   "source": [
    "a, b, c = \"Orange\", \"Banana\", \"Cherry\"\n",
    "print(a)\n",
    "print(b)\n",
    "print(c)"
   ]
  },
  {
   "cell_type": "code",
   "execution_count": 14,
   "id": "fb7d8119",
   "metadata": {},
   "outputs": [
    {
     "name": "stdout",
     "output_type": "stream",
     "text": [
      "Orange\n",
      "Orange\n",
      "Orange\n"
     ]
    }
   ],
   "source": [
    "a = b = c = \"Orange\" # One Value to Multiple Variables\n",
    "print(a , b ,c)"
   ]
  },
  {
   "cell_type": "code",
   "execution_count": 16,
   "id": "aa1c4e06",
   "metadata": {},
   "outputs": [
    {
     "name": "stdout",
     "output_type": "stream",
     "text": [
      "India Nepal Bangladesh\n"
     ]
    }
   ],
   "source": [
    "country = [\"India\", \"Nepal\", \"Bangladesh\"] #Unpack a Collection\n",
    "a, b, c = country\n",
    "print(a , b ,c)"
   ]
  },
  {
   "cell_type": "markdown",
   "id": "719b7721",
   "metadata": {},
   "source": [
    "- Variables that are created outside of a function (as in all of the examples above) are known as global variables.\n",
    "- To create a global variable inside a function, you can use the global keyword."
   ]
  },
  {
   "cell_type": "code",
   "execution_count": 18,
   "id": "32f72dac",
   "metadata": {},
   "outputs": [
    {
     "name": "stdout",
     "output_type": "stream",
     "text": [
      "Python is Best\n"
     ]
    }
   ],
   "source": [
    "def myfunction():\n",
    "  global x\n",
    "  x = \"Best\"\n",
    "\n",
    "myfunction()\n",
    "\n",
    "print(\"Python is \" + x)"
   ]
  },
  {
   "cell_type": "markdown",
   "id": "0209d98c",
   "metadata": {},
   "source": [
    "- It is also possible to use a global and local variable with the same name simultaneously. Built-in function globals() returns a dictionary object of all global variables and their respective values. Using the name of the variable as a key, its value can be accessed and modified."
   ]
  },
  {
   "cell_type": "code",
   "execution_count": 1,
   "id": "69685235",
   "metadata": {},
   "outputs": [
    {
     "name": "stdout",
     "output_type": "stream",
     "text": [
      "Python is Best\n"
     ]
    }
   ],
   "source": [
    "x = \"Best\"\n",
    "def myfunction():\n",
    "    x = \"good\"\n",
    "    print(\"Python is \" + globals()['x'])\n",
    "myfunction()"
   ]
  },
  {
   "cell_type": "markdown",
   "id": "b50c6864",
   "metadata": {},
   "source": [
    "## Data Types\n",
    "- Text Type:\tstr\n",
    "- Numeric Types:\tint, float, complex\n",
    "- Sequence Types:\tlist, tuple, range\n",
    "- Mapping Type:\tdict\n",
    "- Set Types:\tset, frozenset\n",
    "- Boolean Type:\tbool\n",
    "- Binary Types:\tbytes, bytearray, memoryview\n",
    "## Type Casting\n",
    "- Casting in python is therefore done using constructor functions:\n",
    "- int() - constructs an integer number from an integer literal, a float literal (by removing all decimals), or a string literal (providing the string represents a whole number)\n",
    "- float() - constructs a float number from an integer literal, a float literal or a string literal (providing the string represents a float or an integer)\n",
    "- str() - constructs a string from a wide variety of data types, including strings, integer literals and float literals"
   ]
  },
  {
   "cell_type": "code",
   "execution_count": null,
   "id": "9309e06d",
   "metadata": {},
   "outputs": [],
   "source": [
    "a = int(1)   # will be 1\n",
    "b = int(2.8) # will be 2\n",
    "c = int(\"3\") # will be 3\n",
    "d = float(1)     # will be 1.0\n",
    "e = float(2.8)   # will be 2.8\n",
    "f = float(\"3\")   # will be 3.0\n",
    "g = float(\"4.2\") # will be 4.2\n",
    "h = str(\"s1\") # will be 's1'\n",
    "i = str(2)    # will be '2'\n",
    "j = str(3.0)  # will be '3.0'"
   ]
  },
  {
   "cell_type": "markdown",
   "id": "e8537d8e",
   "metadata": {},
   "source": [
    "## Operators\n",
    "- Arithmetic operators (+,-,*,/,%,**,//)\n",
    "- Assignment operators (=,+=,-=,*=,/=,%=,**=,//=,&=,|=,^=,>>=,<<=)\n",
    "- Comparison operators (==,!=,<,>,<=,>=)\n",
    "- Logical operators (and, or, not)\n",
    "- Identity operators (is, is not)\n",
    "- Membership operators (in, not in)\n",
    "- Bitwise operators [&(and), |(or), ^(xnor), ~(not), <<(Zero fill left shift), >>(Signed right shift)]"
   ]
  },
  {
   "cell_type": "code",
   "execution_count": 12,
   "id": "8fc872f4",
   "metadata": {},
   "outputs": [
    {
     "name": "stdout",
     "output_type": "stream",
     "text": [
      "a+b = 13\n",
      "a-b = 7\n",
      "a*b = 30\n",
      "a/b = 3.3333333333333335\n",
      "a%b = 1\n",
      "a**b = 1000\n",
      "a//b = 3\n"
     ]
    }
   ],
   "source": [
    "a,b=10,3\n",
    "print (\"a+b = \"+str(a+b))   #Addition\n",
    "print (\"a-b = \"+str(a-b))   #Subtraction\n",
    "print (\"a*b = \"+str(a*b))   #Multiplication\n",
    "print (\"a/b = \"+str(a/b))   #Division\n",
    "print (\"a%b = \"+str(a%b))   #Modulus\n",
    "print (\"a**b = \"+str(a**b)) #Exponentiation\n",
    "print (\"a//b = \"+str(a//b)) #Floor division"
   ]
  },
  {
   "cell_type": "code",
   "execution_count": 4,
   "id": "670cce8b",
   "metadata": {},
   "outputs": [
    {
     "name": "stdout",
     "output_type": "stream",
     "text": [
      "a is c True\n",
      "a is b False\n",
      "a is not b True\n"
     ]
    }
   ],
   "source": [
    "a=10\n",
    "b=20\n",
    "c=a\n",
    "print(\"a is c \"+str(a is c))         #Returns True if both variables are the same object\n",
    "print(\"a is b \"+str(a is b))\n",
    "print(\"a is not b \"+str(a is not b)) #Returns True if both variables are not the same object"
   ]
  },
  {
   "cell_type": "code",
   "execution_count": 7,
   "id": "499ff9d8",
   "metadata": {},
   "outputs": [
    {
     "name": "stdout",
     "output_type": "stream",
     "text": [
      "10 in a True\n",
      "15 in a False\n",
      "15 not in a True\n"
     ]
    }
   ],
   "source": [
    "a=[10,20,30,40]\n",
    "print(\"10 in a \"+str(10 in a))         #Returns True if a sequence with the specified value is present in the object\n",
    "print(\"15 in a \"+str(15 in a))\n",
    "print(\"15 not in a \"+str(15 not in a)) #Returns True if a sequence with the specified value is not present in the object"
   ]
  },
  {
   "cell_type": "code",
   "execution_count": null,
   "id": "13d40148",
   "metadata": {},
   "outputs": [],
   "source": []
  }
 ],
 "metadata": {
  "kernelspec": {
   "display_name": "Python 3 (ipykernel)",
   "language": "python",
   "name": "python3"
  },
  "language_info": {
   "codemirror_mode": {
    "name": "ipython",
    "version": 3
   },
   "file_extension": ".py",
   "mimetype": "text/x-python",
   "name": "python",
   "nbconvert_exporter": "python",
   "pygments_lexer": "ipython3",
   "version": "3.9.7"
  }
 },
 "nbformat": 4,
 "nbformat_minor": 5
}
