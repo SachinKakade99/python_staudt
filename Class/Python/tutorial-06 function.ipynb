{
 "cells": [
  {
   "cell_type": "code",
   "execution_count": 3,
   "id": "e9c05e23",
   "metadata": {},
   "outputs": [],
   "source": [
    "def add():\n",
    "    x=int(input(\"Enter the number:\"))\n",
    "    y=int(input(\"Enter the second number:\"))\n",
    "    print(x+y)\n",
    "    "
   ]
  },
  {
   "cell_type": "code",
   "execution_count": 4,
   "id": "6c1ffb13",
   "metadata": {},
   "outputs": [
    {
     "name": "stdout",
     "output_type": "stream",
     "text": [
      "hello\n",
      "hello\n",
      "hello\n",
      "hello\n",
      "hello\n",
      "Enter the number:10\n",
      "Enter the second number:20\n",
      "30\n",
      "welcome\n",
      "bye\n",
      "Hello\n",
      "Enter the number:40\n",
      "Enter the second number:50\n",
      "90\n"
     ]
    }
   ],
   "source": [
    "print(\"hello\")\n",
    "print(\"hello\")\n",
    "print(\"hello\")\n",
    "print(\"hello\")\n",
    "print(\"hello\")\n",
    "add()\n",
    "print(\"welcome\")\n",
    "print(\"bye\")\n",
    "print(\"Hello\")\n",
    "add()\n",
    "\n"
   ]
  },
  {
   "cell_type": "code",
   "execution_count": null,
   "id": "6cc6ebfd",
   "metadata": {},
   "outputs": [],
   "source": [
    "def function_name(arguments/parameters):# formal arguments\n",
    "    body\n",
    "    return parameters"
   ]
  },
  {
   "cell_type": "code",
   "execution_count": null,
   "id": "4b32510d",
   "metadata": {},
   "outputs": [],
   "source": [
    "function_name(arguements) #actual agruments"
   ]
  },
  {
   "cell_type": "code",
   "execution_count": null,
   "id": "ac0c72c2",
   "metadata": {},
   "outputs": [],
   "source": []
  },
  {
   "cell_type": "code",
   "execution_count": null,
   "id": "fb3670c2",
   "metadata": {},
   "outputs": [],
   "source": [
    "#4 types\n",
    "No arguments and No return values\n",
    "With arguments and No return values\n",
    "With arguments and with return values\n",
    "No arguments and with return values"
   ]
  },
  {
   "cell_type": "code",
   "execution_count": null,
   "id": "0e57777f",
   "metadata": {},
   "outputs": [],
   "source": []
  },
  {
   "cell_type": "code",
   "execution_count": 5,
   "id": "f79cb9d5",
   "metadata": {},
   "outputs": [],
   "source": [
    "def add():\n",
    "    x=int(input(\"Enter the number:\"))\n",
    "    y=int(input(\"Enter the second number:\"))\n",
    "    print(x+y)\n",
    "    "
   ]
  },
  {
   "cell_type": "code",
   "execution_count": 7,
   "id": "9222e8e7",
   "metadata": {},
   "outputs": [
    {
     "name": "stdout",
     "output_type": "stream",
     "text": [
      "Enter the number:20\n",
      "Enter the second number:3\n",
      "23\n"
     ]
    }
   ],
   "source": [
    "add()"
   ]
  },
  {
   "cell_type": "code",
   "execution_count": 8,
   "id": "6fc39295",
   "metadata": {},
   "outputs": [],
   "source": [
    "#With arguments and No return values"
   ]
  },
  {
   "cell_type": "code",
   "execution_count": 9,
   "id": "9d184e52",
   "metadata": {},
   "outputs": [],
   "source": [
    "def add(x,y):\n",
    "    print(x+y)"
   ]
  },
  {
   "cell_type": "code",
   "execution_count": 10,
   "id": "4799c6bf",
   "metadata": {},
   "outputs": [
    {
     "name": "stdout",
     "output_type": "stream",
     "text": [
      "80\n"
     ]
    }
   ],
   "source": [
    "add(30,50)"
   ]
  },
  {
   "cell_type": "code",
   "execution_count": 12,
   "id": "5536ceb6",
   "metadata": {},
   "outputs": [],
   "source": [
    "def add(x,y):\n",
    "    z = x+y\n",
    "    return z"
   ]
  },
  {
   "cell_type": "code",
   "execution_count": 13,
   "id": "ca9bd0e3",
   "metadata": {},
   "outputs": [],
   "source": [
    "result = add(40,60)"
   ]
  },
  {
   "cell_type": "code",
   "execution_count": 14,
   "id": "72912d59",
   "metadata": {},
   "outputs": [
    {
     "data": {
      "text/plain": [
       "100"
      ]
     },
     "execution_count": 14,
     "metadata": {},
     "output_type": "execute_result"
    }
   ],
   "source": [
    "result"
   ]
  },
  {
   "cell_type": "code",
   "execution_count": 15,
   "id": "3dd5b30e",
   "metadata": {},
   "outputs": [],
   "source": [
    "#No arguments and with return values"
   ]
  },
  {
   "cell_type": "code",
   "execution_count": 16,
   "id": "59402a86",
   "metadata": {},
   "outputs": [],
   "source": [
    "def add():\n",
    "    x=int(input(\"enter the value:\"))\n",
    "    y=int(input(\"enter the value:\"))\n",
    "    return x+y"
   ]
  },
  {
   "cell_type": "code",
   "execution_count": 17,
   "id": "58798bc1",
   "metadata": {},
   "outputs": [
    {
     "name": "stdout",
     "output_type": "stream",
     "text": [
      "enter the value:10\n",
      "enter the value:40\n"
     ]
    }
   ],
   "source": [
    "p = add()"
   ]
  },
  {
   "cell_type": "code",
   "execution_count": 18,
   "id": "ade73dfc",
   "metadata": {},
   "outputs": [
    {
     "data": {
      "text/plain": [
       "50"
      ]
     },
     "execution_count": 18,
     "metadata": {},
     "output_type": "execute_result"
    }
   ],
   "source": [
    "p"
   ]
  },
  {
   "cell_type": "code",
   "execution_count": 20,
   "id": "97d6e8df",
   "metadata": {},
   "outputs": [],
   "source": []
  },
  {
   "cell_type": "code",
   "execution_count": null,
   "id": "674354ed",
   "metadata": {},
   "outputs": [],
   "source": []
  },
  {
   "cell_type": "code",
   "execution_count": 21,
   "id": "42a3cb35",
   "metadata": {},
   "outputs": [],
   "source": [
    "#Operation\n",
    "1.add\n",
    "2.sub\n",
    "3.div\n",
    "4.mul"
   ]
  },
  {
   "cell_type": "code",
   "execution_count": null,
   "id": "93d92d6b",
   "metadata": {},
   "outputs": [],
   "source": []
  },
  {
   "cell_type": "code",
   "execution_count": 22,
   "id": "6d0d3c8f",
   "metadata": {},
   "outputs": [],
   "source": [
    "#Typs of arguments"
   ]
  },
  {
   "cell_type": "code",
   "execution_count": null,
   "id": "ead66a54",
   "metadata": {},
   "outputs": [],
   "source": [
    "1.Positional arguments\n",
    "2.default arguments\n",
    "3.variable length arguements\n",
    "4.keyword arguments\n",
    "5.variable length keyword arguments"
   ]
  },
  {
   "cell_type": "code",
   "execution_count": null,
   "id": "d6ca79cb",
   "metadata": {},
   "outputs": [],
   "source": []
  },
  {
   "cell_type": "code",
   "execution_count": 23,
   "id": "470d77d8",
   "metadata": {},
   "outputs": [],
   "source": [
    "# positional arguemnts"
   ]
  },
  {
   "cell_type": "code",
   "execution_count": null,
   "id": "650f1217",
   "metadata": {},
   "outputs": [],
   "source": []
  },
  {
   "cell_type": "code",
   "execution_count": 24,
   "id": "48ed7e90",
   "metadata": {},
   "outputs": [],
   "source": [
    "def emp(id,name,address):\n",
    "    print(\"id:\",id)\n",
    "    print(\"name:\",name)\n",
    "    print(\"address:\",address)"
   ]
  },
  {
   "cell_type": "code",
   "execution_count": null,
   "id": "a3d8d5cb",
   "metadata": {},
   "outputs": [],
   "source": []
  },
  {
   "cell_type": "code",
   "execution_count": null,
   "id": "24009af0",
   "metadata": {},
   "outputs": [],
   "source": []
  },
  {
   "cell_type": "code",
   "execution_count": 25,
   "id": "efeb260e",
   "metadata": {},
   "outputs": [
    {
     "name": "stdout",
     "output_type": "stream",
     "text": [
      "id: 101\n",
      "name: Jon\n",
      "address: pune\n"
     ]
    }
   ],
   "source": [
    "emp(101,'Jon','pune')"
   ]
  },
  {
   "cell_type": "code",
   "execution_count": 26,
   "id": "a31ed1c1",
   "metadata": {},
   "outputs": [
    {
     "name": "stdout",
     "output_type": "stream",
     "text": [
      "id: mumbai\n",
      "name: 134\n",
      "address: justin\n"
     ]
    }
   ],
   "source": [
    "emp('mumbai',134,'justin')"
   ]
  },
  {
   "cell_type": "code",
   "execution_count": 31,
   "id": "40ee8d91",
   "metadata": {},
   "outputs": [],
   "source": [
    "def emp(id,name,address,canteen='no'):\n",
    "    print(\"id:\",id)\n",
    "    print(\"name:\",name)\n",
    "    print(\"address:\",address)\n",
    "    print(\"Canteen:\",canteen)"
   ]
  },
  {
   "cell_type": "code",
   "execution_count": 32,
   "id": "be2092d3",
   "metadata": {},
   "outputs": [
    {
     "name": "stdout",
     "output_type": "stream",
     "text": [
      "id: 101\n",
      "name: justin\n",
      "address: Banglore\n",
      "Canteen: no\n"
     ]
    }
   ],
   "source": [
    "emp(101,'justin','Banglore')"
   ]
  },
  {
   "cell_type": "code",
   "execution_count": 36,
   "id": "e0410179",
   "metadata": {},
   "outputs": [],
   "source": [
    "def student(name,age,aadhar='no data present'):\n",
    "    print(name)\n",
    "    print(age)\n",
    "    print(aadhar)"
   ]
  },
  {
   "cell_type": "code",
   "execution_count": 37,
   "id": "895740c1",
   "metadata": {},
   "outputs": [
    {
     "name": "stdout",
     "output_type": "stream",
     "text": [
      "kartik\n",
      "25\n",
      "no data present\n"
     ]
    }
   ],
   "source": [
    "student('kartik',25)"
   ]
  },
  {
   "cell_type": "code",
   "execution_count": 72,
   "id": "c177cb58",
   "metadata": {},
   "outputs": [],
   "source": [
    "def add(a=0,b=0,c=0):\n",
    "    print(a+b+c)"
   ]
  },
  {
   "cell_type": "code",
   "execution_count": 73,
   "id": "9ed3e551",
   "metadata": {},
   "outputs": [
    {
     "name": "stdout",
     "output_type": "stream",
     "text": [
      "140\n"
     ]
    }
   ],
   "source": [
    "add(10,40,90)"
   ]
  },
  {
   "cell_type": "code",
   "execution_count": 76,
   "id": "707bed58",
   "metadata": {},
   "outputs": [
    {
     "name": "stdout",
     "output_type": "stream",
     "text": [
      "90\n"
     ]
    }
   ],
   "source": [
    "add(10,80)"
   ]
  },
  {
   "cell_type": "code",
   "execution_count": 88,
   "id": "ca89a3bc",
   "metadata": {},
   "outputs": [],
   "source": [
    "def temp(name,age):\n",
    "    age_str=str(age)\n",
    "    print(name+age_str)"
   ]
  },
  {
   "cell_type": "code",
   "execution_count": 89,
   "id": "cca75ad0",
   "metadata": {},
   "outputs": [
    {
     "name": "stdout",
     "output_type": "stream",
     "text": [
      "Enter the namekk\n",
      "Enter the age:45\n",
      "kk45\n"
     ]
    }
   ],
   "source": [
    "name = input(\"Enter the name\")\n",
    "age = int(input(\"Enter the age:\"))\n",
    "temp(name,age)\n"
   ]
  },
  {
   "cell_type": "code",
   "execution_count": 71,
   "id": "4c5f6489",
   "metadata": {},
   "outputs": [],
   "source": [
    "function\n",
    "agruments\n",
    "return\n",
    "positional\n",
    "default"
   ]
  },
  {
   "cell_type": "code",
   "execution_count": 55,
   "id": "ff75d5fd",
   "metadata": {},
   "outputs": [],
   "source": []
  },
  {
   "cell_type": "code",
   "execution_count": 90,
   "id": "02b8c28a",
   "metadata": {},
   "outputs": [],
   "source": [
    "#varibale length aruments"
   ]
  },
  {
   "cell_type": "code",
   "execution_count": 99,
   "id": "c44d9fb7",
   "metadata": {},
   "outputs": [],
   "source": [
    "def temp(*args):\n",
    "    print(\"*\"*50)\n",
    "    print(args)\n",
    "    print(\"*\"*50)"
   ]
  },
  {
   "cell_type": "code",
   "execution_count": 100,
   "id": "892369d8",
   "metadata": {},
   "outputs": [
    {
     "name": "stdout",
     "output_type": "stream",
     "text": [
      "**************************************************\n",
      "('jon', 25)\n",
      "**************************************************\n"
     ]
    }
   ],
   "source": [
    "temp('jon',25)"
   ]
  },
  {
   "cell_type": "code",
   "execution_count": 101,
   "id": "6bd9165b",
   "metadata": {},
   "outputs": [
    {
     "name": "stdout",
     "output_type": "stream",
     "text": [
      "**************************************************\n",
      "('justin', 25, 'pune', 45000, 'IT')\n",
      "**************************************************\n"
     ]
    }
   ],
   "source": [
    "temp('justin',25,'pune',45000,'IT')"
   ]
  },
  {
   "cell_type": "code",
   "execution_count": null,
   "id": "e4519bd1",
   "metadata": {},
   "outputs": [],
   "source": [
    "# input \n",
    "name,age,sal\n",
    "function pass \n",
    "if sal > 45000\n",
    "and age > 45 then give 5 % bonus\n",
    "sal<45 and age 45 and 35 se above then 10 % \n",
    "2 %"
   ]
  },
  {
   "cell_type": "code",
   "execution_count": null,
   "id": "6e33e570",
   "metadata": {},
   "outputs": [],
   "source": []
  },
  {
   "cell_type": "code",
   "execution_count": 104,
   "id": "5f86ef70",
   "metadata": {},
   "outputs": [],
   "source": [
    "def show1():\n",
    "    print(\"in show1\")\n",
    "    age = int(input(\"Enter the age:\"))\n",
    "    show2(age)\n",
    "def show2(age):\n",
    "    if age>50:\n",
    "        print(\"Hi\")\n",
    "    else:\n",
    "        print(\"bye\")\n",
    "    "
   ]
  },
  {
   "cell_type": "code",
   "execution_count": 105,
   "id": "65fdc821",
   "metadata": {},
   "outputs": [
    {
     "name": "stdout",
     "output_type": "stream",
     "text": [
      "in show1\n",
      "Enter the age:56\n"
     ]
    }
   ],
   "source": [
    "show1()"
   ]
  },
  {
   "cell_type": "code",
   "execution_count": 106,
   "id": "fb2f87db",
   "metadata": {},
   "outputs": [
    {
     "name": "stdout",
     "output_type": "stream",
     "text": [
      "Hi\n"
     ]
    }
   ],
   "source": [
    "show2(56)"
   ]
  },
  {
   "cell_type": "code",
   "execution_count": 107,
   "id": "80ee995b",
   "metadata": {},
   "outputs": [],
   "source": [
    "#keyword agruments"
   ]
  },
  {
   "cell_type": "code",
   "execution_count": 117,
   "id": "7c822822",
   "metadata": {},
   "outputs": [],
   "source": [
    "def details(name,age,aadhar,address=None):\n",
    "    print('name:',name)\n",
    "    print('age:',age)\n",
    "    print('aadhar:',aadhar)\n",
    "    print('address:',address)"
   ]
  },
  {
   "cell_type": "code",
   "execution_count": 118,
   "id": "6448db60",
   "metadata": {},
   "outputs": [
    {
     "name": "stdout",
     "output_type": "stream",
     "text": [
      "name: jon\n",
      "age: 35\n",
      "aadhar: 9835935\n",
      "address: pune\n"
     ]
    }
   ],
   "source": [
    "details('jon',35,9835935,'pune')"
   ]
  },
  {
   "cell_type": "code",
   "execution_count": 119,
   "id": "c2be1b37",
   "metadata": {},
   "outputs": [
    {
     "name": "stdout",
     "output_type": "stream",
     "text": [
      "name: jusin\n",
      "age: 45\n",
      "aadhar: 35355\n",
      "address: mumbai\n"
     ]
    }
   ],
   "source": [
    "details(name='jusin',age=45,aadhar=35355,address='mumbai')"
   ]
  },
  {
   "cell_type": "code",
   "execution_count": 120,
   "id": "c6645c50",
   "metadata": {},
   "outputs": [
    {
     "name": "stdout",
     "output_type": "stream",
     "text": [
      "name: Akash\n",
      "age: 25\n",
      "aadhar: 462527\n",
      "address: Pune\n"
     ]
    }
   ],
   "source": [
    "details(address='Pune',name='Akash',aadhar=462527,age=25)"
   ]
  },
  {
   "cell_type": "code",
   "execution_count": 121,
   "id": "75010409",
   "metadata": {},
   "outputs": [
    {
     "name": "stdout",
     "output_type": "stream",
     "text": [
      "name: Akash\n",
      "age: 25\n",
      "aadhar: 462527\n",
      "address: None\n"
     ]
    }
   ],
   "source": [
    "details(name='Akash',aadhar=462527,age=25)"
   ]
  },
  {
   "cell_type": "code",
   "execution_count": 122,
   "id": "63a1dcc7",
   "metadata": {},
   "outputs": [],
   "source": [
    "import pandas as pd"
   ]
  },
  {
   "cell_type": "code",
   "execution_count": 123,
   "id": "0bf6ed8c",
   "metadata": {},
   "outputs": [],
   "source": [
    "df = pd.read_csv('advertising.csv')"
   ]
  },
  {
   "cell_type": "code",
   "execution_count": 125,
   "id": "a0f1d0d7",
   "metadata": {},
   "outputs": [
    {
     "data": {
      "text/plain": [
       "Index(['TV', 'Radio', 'Newspaper', 'Sales'], dtype='object')"
      ]
     },
     "execution_count": 125,
     "metadata": {},
     "output_type": "execute_result"
    }
   ],
   "source": [
    "df.columns"
   ]
  },
  {
   "cell_type": "code",
   "execution_count": 129,
   "id": "6a8b175a",
   "metadata": {},
   "outputs": [],
   "source": [
    "df['temp']= df['TV'].apply(lambda x:str(x)+',temp')"
   ]
  },
  {
   "cell_type": "code",
   "execution_count": 131,
   "id": "6f3a8a5d",
   "metadata": {},
   "outputs": [],
   "source": [
    "df['firstname'] = df['temp'].apply(lambda x:x.split(','))"
   ]
  },
  {
   "cell_type": "code",
   "execution_count": 134,
   "id": "6c55ddd8",
   "metadata": {},
   "outputs": [],
   "source": [
    "df.drop('firstname',axis=1,inplace=True)"
   ]
  },
  {
   "cell_type": "code",
   "execution_count": 136,
   "id": "7e9e9b47",
   "metadata": {},
   "outputs": [],
   "source": [
    "df['firstname'] = df['temp'].apply(lambda x:x.split(',')[0])"
   ]
  },
  {
   "cell_type": "code",
   "execution_count": 138,
   "id": "a89f9abe",
   "metadata": {},
   "outputs": [],
   "source": [
    "df['lastname'] = df['temp'].apply(lambda x:x.split(',')[1])"
   ]
  },
  {
   "cell_type": "code",
   "execution_count": 139,
   "id": "d9527b1b",
   "metadata": {},
   "outputs": [
    {
     "data": {
      "text/html": [
       "<div>\n",
       "<style scoped>\n",
       "    .dataframe tbody tr th:only-of-type {\n",
       "        vertical-align: middle;\n",
       "    }\n",
       "\n",
       "    .dataframe tbody tr th {\n",
       "        vertical-align: top;\n",
       "    }\n",
       "\n",
       "    .dataframe thead th {\n",
       "        text-align: right;\n",
       "    }\n",
       "</style>\n",
       "<table border=\"1\" class=\"dataframe\">\n",
       "  <thead>\n",
       "    <tr style=\"text-align: right;\">\n",
       "      <th></th>\n",
       "      <th>TV</th>\n",
       "      <th>Radio</th>\n",
       "      <th>Newspaper</th>\n",
       "      <th>Sales</th>\n",
       "      <th>temp</th>\n",
       "      <th>firstname</th>\n",
       "      <th>lastname</th>\n",
       "    </tr>\n",
       "  </thead>\n",
       "  <tbody>\n",
       "    <tr>\n",
       "      <th>0</th>\n",
       "      <td>230.1</td>\n",
       "      <td>37.8</td>\n",
       "      <td>69.2</td>\n",
       "      <td>22.1</td>\n",
       "      <td>230.1,temp</td>\n",
       "      <td>230.1</td>\n",
       "      <td>temp</td>\n",
       "    </tr>\n",
       "    <tr>\n",
       "      <th>1</th>\n",
       "      <td>44.5</td>\n",
       "      <td>39.3</td>\n",
       "      <td>45.1</td>\n",
       "      <td>10.4</td>\n",
       "      <td>44.5,temp</td>\n",
       "      <td>44.5</td>\n",
       "      <td>temp</td>\n",
       "    </tr>\n",
       "    <tr>\n",
       "      <th>2</th>\n",
       "      <td>17.2</td>\n",
       "      <td>45.9</td>\n",
       "      <td>69.3</td>\n",
       "      <td>12.0</td>\n",
       "      <td>17.2,temp</td>\n",
       "      <td>17.2</td>\n",
       "      <td>temp</td>\n",
       "    </tr>\n",
       "    <tr>\n",
       "      <th>3</th>\n",
       "      <td>151.5</td>\n",
       "      <td>41.3</td>\n",
       "      <td>58.5</td>\n",
       "      <td>16.5</td>\n",
       "      <td>151.5,temp</td>\n",
       "      <td>151.5</td>\n",
       "      <td>temp</td>\n",
       "    </tr>\n",
       "    <tr>\n",
       "      <th>4</th>\n",
       "      <td>180.8</td>\n",
       "      <td>10.8</td>\n",
       "      <td>58.4</td>\n",
       "      <td>17.9</td>\n",
       "      <td>180.8,temp</td>\n",
       "      <td>180.8</td>\n",
       "      <td>temp</td>\n",
       "    </tr>\n",
       "    <tr>\n",
       "      <th>...</th>\n",
       "      <td>...</td>\n",
       "      <td>...</td>\n",
       "      <td>...</td>\n",
       "      <td>...</td>\n",
       "      <td>...</td>\n",
       "      <td>...</td>\n",
       "      <td>...</td>\n",
       "    </tr>\n",
       "    <tr>\n",
       "      <th>195</th>\n",
       "      <td>38.2</td>\n",
       "      <td>3.7</td>\n",
       "      <td>13.8</td>\n",
       "      <td>7.6</td>\n",
       "      <td>38.2,temp</td>\n",
       "      <td>38.2</td>\n",
       "      <td>temp</td>\n",
       "    </tr>\n",
       "    <tr>\n",
       "      <th>196</th>\n",
       "      <td>94.2</td>\n",
       "      <td>4.9</td>\n",
       "      <td>8.1</td>\n",
       "      <td>14.0</td>\n",
       "      <td>94.2,temp</td>\n",
       "      <td>94.2</td>\n",
       "      <td>temp</td>\n",
       "    </tr>\n",
       "    <tr>\n",
       "      <th>197</th>\n",
       "      <td>177.0</td>\n",
       "      <td>9.3</td>\n",
       "      <td>6.4</td>\n",
       "      <td>14.8</td>\n",
       "      <td>177.0,temp</td>\n",
       "      <td>177.0</td>\n",
       "      <td>temp</td>\n",
       "    </tr>\n",
       "    <tr>\n",
       "      <th>198</th>\n",
       "      <td>283.6</td>\n",
       "      <td>42.0</td>\n",
       "      <td>66.2</td>\n",
       "      <td>25.5</td>\n",
       "      <td>283.6,temp</td>\n",
       "      <td>283.6</td>\n",
       "      <td>temp</td>\n",
       "    </tr>\n",
       "    <tr>\n",
       "      <th>199</th>\n",
       "      <td>232.1</td>\n",
       "      <td>8.6</td>\n",
       "      <td>8.7</td>\n",
       "      <td>18.4</td>\n",
       "      <td>232.1,temp</td>\n",
       "      <td>232.1</td>\n",
       "      <td>temp</td>\n",
       "    </tr>\n",
       "  </tbody>\n",
       "</table>\n",
       "<p>200 rows × 7 columns</p>\n",
       "</div>"
      ],
      "text/plain": [
       "        TV  Radio  Newspaper  Sales        temp firstname lastname\n",
       "0    230.1   37.8       69.2   22.1  230.1,temp     230.1     temp\n",
       "1     44.5   39.3       45.1   10.4   44.5,temp      44.5     temp\n",
       "2     17.2   45.9       69.3   12.0   17.2,temp      17.2     temp\n",
       "3    151.5   41.3       58.5   16.5  151.5,temp     151.5     temp\n",
       "4    180.8   10.8       58.4   17.9  180.8,temp     180.8     temp\n",
       "..     ...    ...        ...    ...         ...       ...      ...\n",
       "195   38.2    3.7       13.8    7.6   38.2,temp      38.2     temp\n",
       "196   94.2    4.9        8.1   14.0   94.2,temp      94.2     temp\n",
       "197  177.0    9.3        6.4   14.8  177.0,temp     177.0     temp\n",
       "198  283.6   42.0       66.2   25.5  283.6,temp     283.6     temp\n",
       "199  232.1    8.6        8.7   18.4  232.1,temp     232.1     temp\n",
       "\n",
       "[200 rows x 7 columns]"
      ]
     },
     "execution_count": 139,
     "metadata": {},
     "output_type": "execute_result"
    }
   ],
   "source": [
    "df"
   ]
  },
  {
   "cell_type": "code",
   "execution_count": null,
   "id": "f44fe344",
   "metadata": {},
   "outputs": [],
   "source": []
  },
  {
   "cell_type": "code",
   "execution_count": null,
   "id": "b6ec4722",
   "metadata": {},
   "outputs": [],
   "source": []
  },
  {
   "cell_type": "code",
   "execution_count": 1,
   "id": "703ec8f7",
   "metadata": {},
   "outputs": [],
   "source": [
    "def vaccination_status(aadhar,dose,status):\n",
    "    print('aadhar:',aadhar)\n",
    "    print('dose:',dose)\n",
    "    print('status:',status)"
   ]
  },
  {
   "cell_type": "code",
   "execution_count": 2,
   "id": "8bb9dfb5",
   "metadata": {},
   "outputs": [
    {
     "name": "stdout",
     "output_type": "stream",
     "text": [
      "aadhar: 24253535365\n",
      "dose: first\n",
      "status: partially\n"
     ]
    }
   ],
   "source": [
    "vaccination_status(24253535365,'first','partially')"
   ]
  },
  {
   "cell_type": "code",
   "execution_count": 3,
   "id": "458aa4d5",
   "metadata": {},
   "outputs": [],
   "source": [
    "def vaccination_status(aadhar,dose='Not taken',status='No status avilable'):\n",
    "    print('aadhar:',aadhar)\n",
    "    print('dose:',dose)\n",
    "    print('status:',status)"
   ]
  },
  {
   "cell_type": "code",
   "execution_count": 4,
   "id": "61aca076",
   "metadata": {},
   "outputs": [
    {
     "name": "stdout",
     "output_type": "stream",
     "text": [
      "aadhar: 2324325325\n",
      "dose: Not taken\n",
      "status: No status avilable\n"
     ]
    }
   ],
   "source": [
    "vaccination_status(2324325325)"
   ]
  },
  {
   "cell_type": "code",
   "execution_count": 5,
   "id": "ddb38ec1",
   "metadata": {},
   "outputs": [
    {
     "name": "stdout",
     "output_type": "stream",
     "text": [
      "aadhar: 35353535634\n",
      "dose: first\n",
      "status: No status avilable\n"
     ]
    }
   ],
   "source": [
    "vaccination_status(35353535634,'first')"
   ]
  },
  {
   "cell_type": "code",
   "execution_count": null,
   "id": "8d703a6b",
   "metadata": {},
   "outputs": [],
   "source": []
  },
  {
   "cell_type": "code",
   "execution_count": null,
   "id": "34c4371d",
   "metadata": {},
   "outputs": [],
   "source": []
  },
  {
   "cell_type": "code",
   "execution_count": 7,
   "id": "c581bd94",
   "metadata": {},
   "outputs": [],
   "source": [
    "def vaccination_status(*s):\n",
    "    print(s)\n",
    "   "
   ]
  },
  {
   "cell_type": "code",
   "execution_count": 8,
   "id": "5b15b64c",
   "metadata": {},
   "outputs": [
    {
     "name": "stdout",
     "output_type": "stream",
     "text": [
      "(24434235235, 'second', 'completed')\n"
     ]
    }
   ],
   "source": [
    "vaccination_status(24434235235,'second','completed')"
   ]
  },
  {
   "cell_type": "code",
   "execution_count": 9,
   "id": "2a5fd654",
   "metadata": {},
   "outputs": [],
   "source": [
    "def vaccination_status(aadhar,dose,status):\n",
    "    print(aadhar,dose,status)"
   ]
  },
  {
   "cell_type": "code",
   "execution_count": 10,
   "id": "0fa0fe4f",
   "metadata": {},
   "outputs": [
    {
     "name": "stdout",
     "output_type": "stream",
     "text": [
      "2424242 second completed\n"
     ]
    }
   ],
   "source": [
    "vaccination_status(dose='second',status='completed',aadhar=2424242)"
   ]
  },
  {
   "cell_type": "code",
   "execution_count": 11,
   "id": "8b8bddfc",
   "metadata": {},
   "outputs": [],
   "source": [
    "#Variable length keyword arguments"
   ]
  },
  {
   "cell_type": "code",
   "execution_count": 12,
   "id": "29396068",
   "metadata": {},
   "outputs": [],
   "source": [
    "def details(**kwargs):\n",
    "    print(kwargs)"
   ]
  },
  {
   "cell_type": "code",
   "execution_count": 15,
   "id": "22f625b9",
   "metadata": {},
   "outputs": [
    {
     "name": "stdout",
     "output_type": "stream",
     "text": [
      "{'name': 'jon'}\n"
     ]
    }
   ],
   "source": [
    "details(name='jon')"
   ]
  },
  {
   "cell_type": "code",
   "execution_count": 17,
   "id": "7020c704",
   "metadata": {},
   "outputs": [],
   "source": [
    "def m1(no):\n",
    "    print(no)\n",
    "def m2():\n",
    "    print(\"in m2\")\n",
    "def m3():\n",
    "    print(\"in m3\")"
   ]
  },
  {
   "cell_type": "code",
   "execution_count": 18,
   "id": "f9123907",
   "metadata": {},
   "outputs": [
    {
     "name": "stdout",
     "output_type": "stream",
     "text": [
      "in m3\n"
     ]
    },
    {
     "ename": "TypeError",
     "evalue": "m1() missing 1 required positional argument: 'no'",
     "output_type": "error",
     "traceback": [
      "\u001b[1;31m---------------------------------------------------------------------------\u001b[0m",
      "\u001b[1;31mTypeError\u001b[0m                                 Traceback (most recent call last)",
      "\u001b[1;32m<ipython-input-18-60f12c0ca498>\u001b[0m in \u001b[0;36m<module>\u001b[1;34m\u001b[0m\n\u001b[0;32m      1\u001b[0m \u001b[0mm3\u001b[0m\u001b[1;33m(\u001b[0m\u001b[1;33m)\u001b[0m\u001b[1;33m\u001b[0m\u001b[1;33m\u001b[0m\u001b[0m\n\u001b[1;32m----> 2\u001b[1;33m \u001b[0mm1\u001b[0m\u001b[1;33m(\u001b[0m\u001b[1;33m)\u001b[0m\u001b[1;33m\u001b[0m\u001b[1;33m\u001b[0m\u001b[0m\n\u001b[0m\u001b[0;32m      3\u001b[0m \u001b[0mm2\u001b[0m\u001b[1;33m(\u001b[0m\u001b[1;33m)\u001b[0m\u001b[1;33m\u001b[0m\u001b[1;33m\u001b[0m\u001b[0m\n",
      "\u001b[1;31mTypeError\u001b[0m: m1() missing 1 required positional argument: 'no'"
     ]
    }
   ],
   "source": [
    "m3()\n",
    "m1()\n",
    "m2()"
   ]
  },
  {
   "cell_type": "code",
   "execution_count": 19,
   "id": "1d98c811",
   "metadata": {},
   "outputs": [],
   "source": [
    "def m1():\n",
    "    def m2():\n",
    "        print(\"in m2\")\n",
    "    print(\"Hi\")\n",
    "    return \"bye\""
   ]
  },
  {
   "cell_type": "code",
   "execution_count": null,
   "id": "7640a2bd",
   "metadata": {},
   "outputs": [],
   "source": []
  },
  {
   "cell_type": "code",
   "execution_count": 20,
   "id": "e4ea20cd",
   "metadata": {},
   "outputs": [],
   "source": [
    "def f1():\n",
    "    print('1')\n",
    "    def f2():\n",
    "        print(\"2\")"
   ]
  },
  {
   "cell_type": "code",
   "execution_count": 21,
   "id": "162f824a",
   "metadata": {},
   "outputs": [
    {
     "name": "stdout",
     "output_type": "stream",
     "text": [
      "1\n"
     ]
    }
   ],
   "source": [
    "f1()"
   ]
  },
  {
   "cell_type": "code",
   "execution_count": null,
   "id": "03a8d25e",
   "metadata": {},
   "outputs": [],
   "source": []
  },
  {
   "cell_type": "code",
   "execution_count": 22,
   "id": "929cac9c",
   "metadata": {},
   "outputs": [
    {
     "name": "stdout",
     "output_type": "stream",
     "text": [
      "Hi\n"
     ]
    }
   ],
   "source": [
    "result = m1()"
   ]
  },
  {
   "cell_type": "code",
   "execution_count": 23,
   "id": "7881a7ed",
   "metadata": {},
   "outputs": [
    {
     "data": {
      "text/plain": [
       "'bye'"
      ]
     },
     "execution_count": 23,
     "metadata": {},
     "output_type": "execute_result"
    }
   ],
   "source": [
    "result"
   ]
  },
  {
   "cell_type": "code",
   "execution_count": 28,
   "id": "2ed50879",
   "metadata": {},
   "outputs": [],
   "source": [
    "def calcultaion(no1,no2):\n",
    "    add_result = add(no1,no2)\n",
    "    sub_result = sub(no1,no2)\n",
    "    mul_result = mul(no1,no2)\n",
    "    return add_result,sub_result,mul_result"
   ]
  },
  {
   "cell_type": "code",
   "execution_count": 29,
   "id": "0bb00f14",
   "metadata": {},
   "outputs": [],
   "source": [
    "def add(no1,no2):\n",
    "    return no1+no2"
   ]
  },
  {
   "cell_type": "code",
   "execution_count": 30,
   "id": "22cb79b8",
   "metadata": {},
   "outputs": [],
   "source": [
    "def sub(no1,no2):\n",
    "    return no1-no2"
   ]
  },
  {
   "cell_type": "code",
   "execution_count": 31,
   "id": "637516c3",
   "metadata": {},
   "outputs": [],
   "source": [
    "def mul(no1,no2):\n",
    "    return no1*no2"
   ]
  },
  {
   "cell_type": "code",
   "execution_count": 36,
   "id": "23783a09",
   "metadata": {},
   "outputs": [],
   "source": [
    "a= calcultaion(10,30)"
   ]
  },
  {
   "cell_type": "code",
   "execution_count": 37,
   "id": "ec999d1d",
   "metadata": {},
   "outputs": [
    {
     "data": {
      "text/plain": [
       "(40, -20, 300)"
      ]
     },
     "execution_count": 37,
     "metadata": {},
     "output_type": "execute_result"
    }
   ],
   "source": [
    "a"
   ]
  },
  {
   "cell_type": "code",
   "execution_count": 34,
   "id": "a3968c56",
   "metadata": {},
   "outputs": [
    {
     "data": {
      "text/plain": [
       "-20"
      ]
     },
     "execution_count": 34,
     "metadata": {},
     "output_type": "execute_result"
    }
   ],
   "source": [
    "b"
   ]
  },
  {
   "cell_type": "code",
   "execution_count": 35,
   "id": "43f10d70",
   "metadata": {},
   "outputs": [
    {
     "data": {
      "text/plain": [
       "300"
      ]
     },
     "execution_count": 35,
     "metadata": {},
     "output_type": "execute_result"
    }
   ],
   "source": [
    "c"
   ]
  },
  {
   "cell_type": "code",
   "execution_count": 38,
   "id": "788eb826",
   "metadata": {},
   "outputs": [],
   "source": [
    "def demo():\n",
    "    return 'a','b','c','d'"
   ]
  },
  {
   "cell_type": "code",
   "execution_count": 39,
   "id": "41a09386",
   "metadata": {},
   "outputs": [],
   "source": [
    "t = demo()"
   ]
  },
  {
   "cell_type": "code",
   "execution_count": 40,
   "id": "707d97b7",
   "metadata": {},
   "outputs": [
    {
     "data": {
      "text/plain": [
       "('a', 'b', 'c', 'd')"
      ]
     },
     "execution_count": 40,
     "metadata": {},
     "output_type": "execute_result"
    }
   ],
   "source": [
    "t"
   ]
  },
  {
   "cell_type": "code",
   "execution_count": null,
   "id": "dc249a09",
   "metadata": {},
   "outputs": [],
   "source": []
  }
 ],
 "metadata": {
  "kernelspec": {
   "display_name": "Python 3 (ipykernel)",
   "language": "python",
   "name": "python3"
  },
  "language_info": {
   "codemirror_mode": {
    "name": "ipython",
    "version": 3
   },
   "file_extension": ".py",
   "mimetype": "text/x-python",
   "name": "python",
   "nbconvert_exporter": "python",
   "pygments_lexer": "ipython3",
   "version": "3.9.7"
  }
 },
 "nbformat": 4,
 "nbformat_minor": 5
}
