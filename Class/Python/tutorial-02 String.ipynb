{
 "cells": [
  {
   "cell_type": "markdown",
   "id": "0a20c0a8",
   "metadata": {},
   "source": [
    "## String\n",
    "- Strings in python are surrounded by either single quotation marks, or double quotation marks.\n",
    "- Like many other popular programming languages, strings in Python are arrays of bytes representing unicode characters.\n",
    "\n",
    "- However, Python does not have a character data type, a single character is simply a string with a length of 1."
   ]
  },
  {
   "cell_type": "code",
   "execution_count": 1,
   "id": "f95e237a",
   "metadata": {},
   "outputs": [
    {
     "name": "stdout",
     "output_type": "stream",
     "text": [
      "Hello, World!\n",
      "Paython is best language.\n",
      "it is simple and platform indipendent.\n",
      "it is very easy to learn and understand.\n",
      "l\n"
     ]
    }
   ],
   "source": [
    "a = \"Hello, World!\"\n",
    "print(a)\n",
    "\n",
    "multiLineStr = \"\"\"Paython is best language.\n",
    "it is simple and platform indipendent.\n",
    "it is very easy to learn and understand.\"\"\"\n",
    "print(multiLineStr)\n",
    "\n",
    "print(a[3])\n",
    "\n",
    "a = \"Hello, World!\""
   ]
  },
  {
   "cell_type": "code",
   "execution_count": 5,
   "id": "69f593ca",
   "metadata": {},
   "outputs": [
    {
     "name": "stdout",
     "output_type": "stream",
     "text": [
      "7\n"
     ]
    }
   ],
   "source": [
    "#The len() function returns the length of a string:\n",
    "print(len(a))                "
   ]
  },
  {
   "cell_type": "code",
   "execution_count": 7,
   "id": "3f6d9018",
   "metadata": {},
   "outputs": [
    {
     "name": "stdout",
     "output_type": "stream",
     "text": [
      "True\n",
      "True\n"
     ]
    }
   ],
   "source": [
    "#To check if a certain phrase or character is present in a string, we can use the keyword in.\n",
    "txt = \"The best things in life are free!\"\n",
    "print(\"free\" in txt)\n",
    "print(\"expensive\" not in txt)"
   ]
  },
  {
   "cell_type": "markdown",
   "id": "4ff3d768",
   "metadata": {},
   "source": [
    "## Slicing\n",
    "- You can return a range of characters by using the slice syntax.\n",
    "\n",
    "- Specify the start index and the end index, separated by a colon, to return a part of the string."
   ]
  },
  {
   "cell_type": "code",
   "execution_count": 16,
   "id": "ac5a4d30",
   "metadata": {},
   "outputs": [
    {
     "name": "stdout",
     "output_type": "stream",
     "text": [
      "Get the characters from position 2 to position 5 (not included):llo\n",
      "Get the characters from the start to position 5 (not included):Hello\n",
      "Get the characters from position 2, and all the way to the end:llo, World!\n"
     ]
    }
   ],
   "source": [
    "a = \"Hello, World!\"\n",
    "print(\"Get the characters from position 2 to position 5 (not included):\"+a[2:5])    \n",
    "print(\"Get the characters from the start to position 5 (not included):\"+a[:5])\n",
    "print(\"Get the characters from position 2, and all the way to the end:\"+a[2:])"
   ]
  },
  {
   "cell_type": "markdown",
   "id": "03f58ccf",
   "metadata": {},
   "source": [
    "## Modify Strings"
   ]
  },
  {
   "cell_type": "code",
   "execution_count": 17,
   "id": "df71e5a1",
   "metadata": {},
   "outputs": [
    {
     "name": "stdout",
     "output_type": "stream",
     "text": [
      "Upper Case:  HELLO, WORLD! \n",
      "Lower Case:  hello, world! \n",
      "Remove Whitespace: Hello, World!\n",
      "replace H -> J:  Jello, World! \n",
      "split: \n",
      "[' Hello', ' World! ']\n"
     ]
    }
   ],
   "source": [
    "a = \" Hello, World! \"\n",
    "print(\"Upper Case: \"+a.upper())\n",
    "print(\"Lower Case: \"+a.lower())\n",
    "print(\"Remove Whitespace: \"+a.strip())\n",
    "print(\"replace H -> J: \"+a.replace(\"H\", \"J\"))\n",
    "print(\"split: \")#The split() method returns a list where the text between the specified separator becomes the list items.\n",
    "print(a.split(\",\")) "
   ]
  },
  {
   "cell_type": "markdown",
   "id": "f282817e",
   "metadata": {},
   "source": [
    "## Format Strings"
   ]
  },
  {
   "cell_type": "code",
   "execution_count": 21,
   "id": "fc979c01",
   "metadata": {},
   "outputs": [
    {
     "name": "stdout",
     "output_type": "stream",
     "text": [
      "My age is 18\n",
      "my name is Pappu, my age is 18 and I am in class 7th\n",
      "my name is Pappu, my age is 18 and I am in class 7th\n"
     ]
    }
   ],
   "source": [
    "age = 11\n",
    "name = \"Pappu\"\n",
    "standerd = 7\n",
    "txt = \"My age is {}\"\n",
    "\n",
    "print(txt.format(age))\n",
    "print(\"my name is {}, my age is {} and I am in class {}th\".format(name,age,standerd))\n",
    "print(\"my name is {1}, my age is {0} and I am in class {2}th\".format(age,name,standerd))"
   ]
  },
  {
   "cell_type": "markdown",
   "id": "53d10763",
   "metadata": {},
   "source": [
    "## String Functions"
   ]
  },
  {
   "cell_type": "code",
   "execution_count": 53,
   "id": "c0e42034",
   "metadata": {},
   "outputs": [],
   "source": [
    "var = \"python has a simple syntax similar like Enlish. \\nPython platform independent. \\nPython can be treated in a procedural way, an object-oriented way or a functional way.\""
   ]
  },
  {
   "cell_type": "code",
   "execution_count": 64,
   "id": "789cfcae",
   "metadata": {},
   "outputs": [
    {
     "name": "stdout",
     "output_type": "stream",
     "text": [
      "python has a simple syntax similar like Enlish. \n",
      "Python platform independent. \n",
      "Python can be treated in a procedural way, an object-oriented way or a functional way.\n"
     ]
    }
   ],
   "source": [
    "print(var)"
   ]
  },
  {
   "cell_type": "code",
   "execution_count": 54,
   "id": "4b56ffbc",
   "metadata": {},
   "outputs": [
    {
     "name": "stdout",
     "output_type": "stream",
     "text": [
      "Python has a simple syntax similar like enlish. \n",
      "python platform independent. \n",
      "python can be treated in a procedural way, an object-oriented way or a functional way.\n"
     ]
    }
   ],
   "source": [
    "print(var.capitalize()) #The first character is converted to upper case, and the rest are converted to lower case:"
   ]
  },
  {
   "cell_type": "code",
   "execution_count": 55,
   "id": "524a5e2b",
   "metadata": {},
   "outputs": [
    {
     "name": "stdout",
     "output_type": "stream",
     "text": [
      "python has a simple syntax similar like enlish. \n",
      "python platform independent. \n",
      "python can be treated in a procedural way, an object-oriented way or a functional way.\n"
     ]
    }
   ],
   "source": [
    "print(var.casefold()) #Converts string into lower case"
   ]
  },
  {
   "cell_type": "code",
   "execution_count": 2,
   "id": "6dd11971",
   "metadata": {},
   "outputs": [
    {
     "name": "stdout",
     "output_type": "stream",
     "text": [
      "banana\n",
      "       banana       \n",
      "-------banana-------\n"
     ]
    }
   ],
   "source": [
    "a = \"banana\"\n",
    "print(a)\n",
    "#Print the word \"banana\", taking up the space of 20 characters, with \"banana\" in the middle\n",
    "print(a.center(20)) \n",
    "print(a.center(20,\"-\"))"
   ]
  },
  {
   "cell_type": "code",
   "execution_count": 62,
   "id": "f5a0ac56",
   "metadata": {},
   "outputs": [
    {
     "name": "stdout",
     "output_type": "stream",
     "text": [
      "2\n",
      "1\n"
     ]
    }
   ],
   "source": [
    "#Return the number of times the value \"apple\" appears in the string(case-sensitive):\n",
    "print(var.count(\"Python\"))\n",
    "# Search from position 0 to 60:\n",
    "print(var.count(\"Python\",0 , 60))"
   ]
  },
  {
   "cell_type": "code",
   "execution_count": 67,
   "id": "3834ea68",
   "metadata": {},
   "outputs": [
    {
     "name": "stdout",
     "output_type": "stream",
     "text": [
      "b'My name is P\\xc3\\xa5ppu'\n",
      "b'My name is P\\\\xe5ppu'\n",
      "b'My name is Pppu'\n",
      "b'My name is P\\\\N{LATIN SMALL LETTER A WITH RING ABOVE}ppu'\n",
      "b'My name is P?ppu'\n",
      "b'My name is P&#229;ppu'\n"
     ]
    }
   ],
   "source": [
    "txt = \"My name is Påppu\"\n",
    "#The encode() method encodes the string, using the specified encoding. If no encoding is specified, UTF-8 will be used.\n",
    "print(txt.encode())\n",
    "print(txt.encode(encoding=\"ascii\",errors=\"backslashreplace\"))\n",
    "print(txt.encode(encoding=\"ascii\",errors=\"ignore\"))\n",
    "print(txt.encode(encoding=\"ascii\",errors=\"namereplace\"))\n",
    "print(txt.encode(encoding=\"ascii\",errors=\"replace\"))\n",
    "print(txt.encode(encoding=\"ascii\",errors=\"xmlcharrefreplace\"))"
   ]
  },
  {
   "cell_type": "code",
   "execution_count": 84,
   "id": "9d4b8829",
   "metadata": {},
   "outputs": [
    {
     "name": "stdout",
     "output_type": "stream",
     "text": [
      "True\n",
      "True\n"
     ]
    }
   ],
   "source": [
    "print(var.endswith(\".\"))\n",
    "print(var.endswith(\".\",0,47))"
   ]
  },
  {
   "cell_type": "code",
   "execution_count": null,
   "id": "dd123b13",
   "metadata": {},
   "outputs": [],
   "source": []
  },
  {
   "cell_type": "code",
   "execution_count": null,
   "id": "330e80ed",
   "metadata": {},
   "outputs": [],
   "source": []
  }
 ],
 "metadata": {
  "kernelspec": {
   "display_name": "Python 3 (ipykernel)",
   "language": "python",
   "name": "python3"
  },
  "language_info": {
   "codemirror_mode": {
    "name": "ipython",
    "version": 3
   },
   "file_extension": ".py",
   "mimetype": "text/x-python",
   "name": "python",
   "nbconvert_exporter": "python",
   "pygments_lexer": "ipython3",
   "version": "3.9.7"
  }
 },
 "nbformat": 4,
 "nbformat_minor": 5
}
