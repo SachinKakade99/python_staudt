{
 "cells": [
  {
   "cell_type": "markdown",
   "id": "8369c2a3",
   "metadata": {},
   "source": [
    "## List = []\n",
    "- It is collection of similar or different type of data type\n",
    "- its symbol is []\n",
    "- homogeneous Hetrogeneouss\n",
    "- List items are ordered, changeable(mutable), and allow duplicate values, list items are indexed\n",
    "\n",
    "##  operation on list\n",
    "- insert -> insert the element at desired location[ex:insert(positon,value)]\n",
    "- append -> insert the element at the single end[ex:append('Python') one value only]\n",
    "- extend -> if we want to insert number of elements at time[extend([list of comma sepreted values])]\n",
    "- pop -> delete element by using index number[ex:pop(index value)]\n",
    "- remove -> delete element by using value [sy: remove(value)]  \n",
    "- clear -> empty list [sy: p.clear()]\n",
    "- copy -> copy the list [sy: p1=p.copy()]\n",
    "- Count -> it will return no of occurance of element [sy: count(value)]\n",
    "- index -> returns the index number of value[sy: index(value)]\n",
    "- sort -> sort the values in asending or desending order[list.sort(reverse=True|False, key=myFunc)]\n",
    "- reverse() -> simply reverse the list"
   ]
  },
  {
   "cell_type": "code",
   "execution_count": 1,
   "id": "badf0af6",
   "metadata": {},
   "outputs": [],
   "source": [
    "p = [12,45,89,35,90,45,78]"
   ]
  },
  {
   "cell_type": "code",
   "execution_count": 2,
   "id": "5ecafc77",
   "metadata": {},
   "outputs": [
    {
     "data": {
      "text/plain": [
       "[12, 45, 89, 35, 90, 45, 78]"
      ]
     },
     "execution_count": 2,
     "metadata": {},
     "output_type": "execute_result"
    }
   ],
   "source": [
    "p"
   ]
  },
  {
   "cell_type": "code",
   "execution_count": 3,
   "id": "15f5c184",
   "metadata": {},
   "outputs": [
    {
     "data": {
      "text/plain": [
       "list"
      ]
     },
     "execution_count": 3,
     "metadata": {},
     "output_type": "execute_result"
    }
   ],
   "source": [
    "type(p)"
   ]
  },
  {
   "cell_type": "code",
   "execution_count": 5,
   "id": "08063e6b",
   "metadata": {},
   "outputs": [],
   "source": [
    "py = [10,45.6,True,None,3+6j,'python']"
   ]
  },
  {
   "cell_type": "code",
   "execution_count": 6,
   "id": "f1307c61",
   "metadata": {},
   "outputs": [
    {
     "data": {
      "text/plain": [
       "[10, 45.6, True, None, (3+6j), 'python']"
      ]
     },
     "execution_count": 6,
     "metadata": {},
     "output_type": "execute_result"
    }
   ],
   "source": [
    "py"
   ]
  },
  {
   "cell_type": "markdown",
   "id": "4d0cc14f",
   "metadata": {},
   "source": [
    "- How to create empty list"
   ]
  },
  {
   "cell_type": "code",
   "execution_count": 8,
   "id": "9c0c79b2",
   "metadata": {},
   "outputs": [],
   "source": [
    "py_list = []"
   ]
  },
  {
   "cell_type": "code",
   "execution_count": 9,
   "id": "89418664",
   "metadata": {},
   "outputs": [
    {
     "data": {
      "text/plain": [
       "[]"
      ]
     },
     "execution_count": 9,
     "metadata": {},
     "output_type": "execute_result"
    }
   ],
   "source": [
    "py_list"
   ]
  },
  {
   "cell_type": "code",
   "execution_count": 10,
   "id": "de2be1af",
   "metadata": {},
   "outputs": [],
   "source": [
    "py_list = [10,30,60,90]"
   ]
  },
  {
   "cell_type": "code",
   "execution_count": 11,
   "id": "46054465",
   "metadata": {},
   "outputs": [
    {
     "data": {
      "text/plain": [
       "[10, 30, 60, 90]"
      ]
     },
     "execution_count": 11,
     "metadata": {},
     "output_type": "execute_result"
    }
   ],
   "source": [
    "py_list"
   ]
  },
  {
   "cell_type": "code",
   "execution_count": null,
   "id": "e9b37e34",
   "metadata": {},
   "outputs": [],
   "source": [
    "#indexing\n",
    "Forword indexing [p[1]=>'ML']\n",
    "Reverse Indexing [p[-3]=>''ML]"
   ]
  },
  {
   "cell_type": "code",
   "execution_count": 14,
   "id": "8e043779",
   "metadata": {},
   "outputs": [],
   "source": [
    "p = ['python','ML','DS','Hadoop']"
   ]
  },
  {
   "cell_type": "code",
   "execution_count": 4,
   "id": "528d3e28",
   "metadata": {},
   "outputs": [
    {
     "data": {
      "text/plain": [
       "[12, 45, 89, 35, 90, 45, 78]"
      ]
     },
     "execution_count": 4,
     "metadata": {},
     "output_type": "execute_result"
    }
   ],
   "source": [
    "p"
   ]
  },
  {
   "cell_type": "code",
   "execution_count": 15,
   "id": "48738317",
   "metadata": {},
   "outputs": [
    {
     "data": {
      "text/plain": [
       "'ML'"
      ]
     },
     "execution_count": 15,
     "metadata": {},
     "output_type": "execute_result"
    }
   ],
   "source": [
    "p[1]"
   ]
  },
  {
   "cell_type": "code",
   "execution_count": 16,
   "id": "eed1fc4d",
   "metadata": {},
   "outputs": [
    {
     "data": {
      "text/plain": [
       "'python'"
      ]
     },
     "execution_count": 16,
     "metadata": {},
     "output_type": "execute_result"
    }
   ],
   "source": [
    "p[0]"
   ]
  },
  {
   "cell_type": "code",
   "execution_count": 19,
   "id": "b18349cf",
   "metadata": {},
   "outputs": [
    {
     "data": {
      "text/plain": [
       "'ML'"
      ]
     },
     "execution_count": 19,
     "metadata": {},
     "output_type": "execute_result"
    }
   ],
   "source": [
    "p[-3]"
   ]
  },
  {
   "cell_type": "code",
   "execution_count": 20,
   "id": "6233b8f9",
   "metadata": {},
   "outputs": [
    {
     "data": {
      "text/plain": [
       "'Hadoop'"
      ]
     },
     "execution_count": 20,
     "metadata": {},
     "output_type": "execute_result"
    }
   ],
   "source": [
    "p[-1]"
   ]
  },
  {
   "cell_type": "code",
   "execution_count": 21,
   "id": "5a711a38",
   "metadata": {},
   "outputs": [
    {
     "data": {
      "text/plain": [
       "'python'"
      ]
     },
     "execution_count": 21,
     "metadata": {},
     "output_type": "execute_result"
    }
   ],
   "source": [
    "p[-4]"
   ]
  },
  {
   "cell_type": "code",
   "execution_count": 25,
   "id": "cb72d89e",
   "metadata": {},
   "outputs": [],
   "source": [
    "py_list = [10,40,'python','java','DS',100]"
   ]
  },
  {
   "cell_type": "code",
   "execution_count": 26,
   "id": "dd43cf17",
   "metadata": {},
   "outputs": [
    {
     "data": {
      "text/plain": [
       "[10, 40, 'python', 'java', 'DS', 100]"
      ]
     },
     "execution_count": 26,
     "metadata": {},
     "output_type": "execute_result"
    }
   ],
   "source": [
    "py_list"
   ]
  },
  {
   "cell_type": "code",
   "execution_count": null,
   "id": "5410c7fe",
   "metadata": {},
   "outputs": [],
   "source": [
    "# 1:insert -> insert the element at desired location[ex:insert(positon,value)]"
   ]
  },
  {
   "cell_type": "code",
   "execution_count": 27,
   "id": "d9ba9bfa",
   "metadata": {},
   "outputs": [],
   "source": [
    "py_list.insert(2,'Hadoop')"
   ]
  },
  {
   "cell_type": "code",
   "execution_count": 28,
   "id": "5f8c5344",
   "metadata": {},
   "outputs": [
    {
     "data": {
      "text/plain": [
       "[10, 40, 'Hadoop', 'python', 'java', 'DS', 100]"
      ]
     },
     "execution_count": 28,
     "metadata": {},
     "output_type": "execute_result"
    }
   ],
   "source": [
    "py_list"
   ]
  },
  {
   "cell_type": "code",
   "execution_count": 29,
   "id": "ff27b4f9",
   "metadata": {},
   "outputs": [],
   "source": [
    "py_list.insert(0,'ETL')"
   ]
  },
  {
   "cell_type": "code",
   "execution_count": 30,
   "id": "fbb39c79",
   "metadata": {},
   "outputs": [
    {
     "data": {
      "text/plain": [
       "['ETL', 10, 40, 'Hadoop', 'python', 'java', 'DS', 100]"
      ]
     },
     "execution_count": 30,
     "metadata": {},
     "output_type": "execute_result"
    }
   ],
   "source": [
    "py_list"
   ]
  },
  {
   "cell_type": "code",
   "execution_count": 31,
   "id": "23730bf2",
   "metadata": {},
   "outputs": [],
   "source": [
    "py_list.insert(-3,'ML')"
   ]
  },
  {
   "cell_type": "code",
   "execution_count": 32,
   "id": "08b6ffbd",
   "metadata": {},
   "outputs": [
    {
     "data": {
      "text/plain": [
       "['ETL', 10, 40, 'Hadoop', 'python', 'ML', 'java', 'DS', 100]"
      ]
     },
     "execution_count": 32,
     "metadata": {},
     "output_type": "execute_result"
    }
   ],
   "source": [
    "py_list"
   ]
  },
  {
   "cell_type": "code",
   "execution_count": 33,
   "id": "c84de31b",
   "metadata": {},
   "outputs": [
    {
     "data": {
      "text/plain": [
       "['ETL', 10, 40, 'Hadoop', 'python', 'ML', 'java', 'DS', 100]"
      ]
     },
     "execution_count": 33,
     "metadata": {},
     "output_type": "execute_result"
    }
   ],
   "source": [
    "py_list"
   ]
  },
  {
   "cell_type": "code",
   "execution_count": 34,
   "id": "ed6e0117",
   "metadata": {},
   "outputs": [],
   "source": [
    "#2:append -> insert the element at the single end[ex:append('Python') one value only]"
   ]
  },
  {
   "cell_type": "code",
   "execution_count": 22,
   "id": "7c6861a1",
   "metadata": {},
   "outputs": [],
   "source": [
    "p = [1,2,3]"
   ]
  },
  {
   "cell_type": "code",
   "execution_count": 9,
   "id": "7e9e112c",
   "metadata": {},
   "outputs": [],
   "source": [
    "p.append(400)"
   ]
  },
  {
   "cell_type": "code",
   "execution_count": 10,
   "id": "314f34e6",
   "metadata": {},
   "outputs": [
    {
     "data": {
      "text/plain": [
       "[1, 2, 3, 400]"
      ]
     },
     "execution_count": 10,
     "metadata": {},
     "output_type": "execute_result"
    }
   ],
   "source": [
    "p"
   ]
  },
  {
   "cell_type": "code",
   "execution_count": 11,
   "id": "17445589",
   "metadata": {},
   "outputs": [],
   "source": [
    "p.append('Python')"
   ]
  },
  {
   "cell_type": "code",
   "execution_count": 12,
   "id": "3930fb51",
   "metadata": {},
   "outputs": [
    {
     "data": {
      "text/plain": [
       "[1, 2, 3, 400, 'Python']"
      ]
     },
     "execution_count": 12,
     "metadata": {},
     "output_type": "execute_result"
    }
   ],
   "source": [
    "p"
   ]
  },
  {
   "cell_type": "code",
   "execution_count": 13,
   "id": "23cb2926",
   "metadata": {},
   "outputs": [
    {
     "ename": "TypeError",
     "evalue": "append() takes exactly one argument (2 given)",
     "output_type": "error",
     "traceback": [
      "\u001b[1;31m---------------------------------------------------------------------------\u001b[0m",
      "\u001b[1;31mTypeError\u001b[0m                                 Traceback (most recent call last)",
      "\u001b[1;32m<ipython-input-13-5f9fc3023d55>\u001b[0m in \u001b[0;36m<module>\u001b[1;34m\u001b[0m\n\u001b[1;32m----> 1\u001b[1;33m \u001b[0mp\u001b[0m\u001b[1;33m.\u001b[0m\u001b[0mappend\u001b[0m\u001b[1;33m(\u001b[0m\u001b[1;34m'c'\u001b[0m\u001b[1;33m,\u001b[0m\u001b[1;34m'c++'\u001b[0m\u001b[1;33m)\u001b[0m\u001b[1;33m\u001b[0m\u001b[1;33m\u001b[0m\u001b[0m\n\u001b[0m",
      "\u001b[1;31mTypeError\u001b[0m: append() takes exactly one argument (2 given)"
     ]
    }
   ],
   "source": [
    "p.append('c','c++')"
   ]
  },
  {
   "cell_type": "code",
   "execution_count": 14,
   "id": "56b1ab5d",
   "metadata": {},
   "outputs": [],
   "source": [
    "p.append('c++')"
   ]
  },
  {
   "cell_type": "code",
   "execution_count": 15,
   "id": "eefbbcb2",
   "metadata": {},
   "outputs": [
    {
     "data": {
      "text/plain": [
       "[1, 2, 3, 400, 'Python', 'c++']"
      ]
     },
     "execution_count": 15,
     "metadata": {},
     "output_type": "execute_result"
    }
   ],
   "source": [
    "p"
   ]
  },
  {
   "cell_type": "code",
   "execution_count": 45,
   "id": "656d213e",
   "metadata": {},
   "outputs": [],
   "source": [
    "#3:extend -> if we want to insert number of elements at time[extend([list of comma sepreted values])]"
   ]
  },
  {
   "cell_type": "code",
   "execution_count": 31,
   "id": "54b6ea16",
   "metadata": {},
   "outputs": [],
   "source": [
    "p1 = [2,4,6,8,'ten']"
   ]
  },
  {
   "cell_type": "code",
   "execution_count": 32,
   "id": "0ca58ea2",
   "metadata": {},
   "outputs": [],
   "source": [
    "p = [1,3,5,7,9]"
   ]
  },
  {
   "cell_type": "code",
   "execution_count": 33,
   "id": "9f28ecc6",
   "metadata": {},
   "outputs": [],
   "source": [
    "p.extend(p1)"
   ]
  },
  {
   "cell_type": "code",
   "execution_count": 34,
   "id": "a93a1179",
   "metadata": {},
   "outputs": [
    {
     "data": {
      "text/plain": [
       "[1, 3, 5, 7, 9, 2, 4, 6, 8, 'ten']"
      ]
     },
     "execution_count": 34,
     "metadata": {},
     "output_type": "execute_result"
    }
   ],
   "source": [
    "p"
   ]
  },
  {
   "cell_type": "code",
   "execution_count": 35,
   "id": "dacd0752",
   "metadata": {},
   "outputs": [],
   "source": [
    "p.append([10,20,30])"
   ]
  },
  {
   "cell_type": "code",
   "execution_count": 36,
   "id": "6fef241a",
   "metadata": {},
   "outputs": [
    {
     "data": {
      "text/plain": [
       "[1, 3, 5, 7, 9, 2, 4, 6, 8, 'ten', [10, 20, 30]]"
      ]
     },
     "execution_count": 36,
     "metadata": {},
     "output_type": "execute_result"
    }
   ],
   "source": [
    "p"
   ]
  },
  {
   "cell_type": "code",
   "execution_count": 9,
   "id": "eb235c10",
   "metadata": {},
   "outputs": [
    {
     "data": {
      "text/plain": [
       "5"
      ]
     },
     "execution_count": 9,
     "metadata": {},
     "output_type": "execute_result"
    }
   ],
   "source": [
    "p[2]"
   ]
  },
  {
   "cell_type": "code",
   "execution_count": 10,
   "id": "23aa3028",
   "metadata": {},
   "outputs": [
    {
     "data": {
      "text/plain": [
       "10"
      ]
     },
     "execution_count": 10,
     "metadata": {},
     "output_type": "execute_result"
    }
   ],
   "source": [
    "p[-2]"
   ]
  },
  {
   "cell_type": "code",
   "execution_count": 14,
   "id": "007b9df0",
   "metadata": {},
   "outputs": [
    {
     "data": {
      "text/plain": [
       "20"
      ]
     },
     "execution_count": 14,
     "metadata": {},
     "output_type": "execute_result"
    }
   ],
   "source": [
    "p[-1][-2]"
   ]
  },
  {
   "cell_type": "code",
   "execution_count": 18,
   "id": "739523da",
   "metadata": {},
   "outputs": [
    {
     "data": {
      "text/plain": [
       "20"
      ]
     },
     "execution_count": 18,
     "metadata": {},
     "output_type": "execute_result"
    }
   ],
   "source": [
    "p[10][1]"
   ]
  },
  {
   "cell_type": "code",
   "execution_count": 30,
   "id": "921b07ee",
   "metadata": {},
   "outputs": [
    {
     "data": {
      "text/plain": [
       "[1, 3, 5, 7, 9]"
      ]
     },
     "execution_count": 30,
     "metadata": {},
     "output_type": "execute_result"
    }
   ],
   "source": [
    "p"
   ]
  },
  {
   "cell_type": "code",
   "execution_count": null,
   "id": "3910609f",
   "metadata": {},
   "outputs": [],
   "source": [
    "#4:pop -> delete element by using index number[ex:pop(index value)]   "
   ]
  },
  {
   "cell_type": "code",
   "execution_count": 37,
   "id": "79913146",
   "metadata": {},
   "outputs": [],
   "source": [
    "p=[1,2,3,4]"
   ]
  },
  {
   "cell_type": "code",
   "execution_count": 38,
   "id": "01e0edff",
   "metadata": {},
   "outputs": [
    {
     "data": {
      "text/plain": [
       "[1, 2, 3, 4]"
      ]
     },
     "execution_count": 38,
     "metadata": {},
     "output_type": "execute_result"
    }
   ],
   "source": [
    "p"
   ]
  },
  {
   "cell_type": "code",
   "execution_count": 39,
   "id": "6df3278d",
   "metadata": {},
   "outputs": [
    {
     "data": {
      "text/plain": [
       "3"
      ]
     },
     "execution_count": 39,
     "metadata": {},
     "output_type": "execute_result"
    }
   ],
   "source": [
    "p.pop(2)"
   ]
  },
  {
   "cell_type": "code",
   "execution_count": 40,
   "id": "324341c4",
   "metadata": {},
   "outputs": [
    {
     "data": {
      "text/plain": [
       "[1, 2, 4]"
      ]
     },
     "execution_count": 40,
     "metadata": {},
     "output_type": "execute_result"
    }
   ],
   "source": [
    "p"
   ]
  },
  {
   "cell_type": "code",
   "execution_count": 41,
   "id": "713473c9",
   "metadata": {},
   "outputs": [
    {
     "data": {
      "text/plain": [
       "1"
      ]
     },
     "execution_count": 41,
     "metadata": {},
     "output_type": "execute_result"
    }
   ],
   "source": [
    "p.pop(0)"
   ]
  },
  {
   "cell_type": "code",
   "execution_count": 42,
   "id": "e864877d",
   "metadata": {},
   "outputs": [
    {
     "data": {
      "text/plain": [
       "[2, 4]"
      ]
     },
     "execution_count": 42,
     "metadata": {},
     "output_type": "execute_result"
    }
   ],
   "source": [
    "p"
   ]
  },
  {
   "cell_type": "code",
   "execution_count": 24,
   "id": "c90ef9e9",
   "metadata": {},
   "outputs": [],
   "source": [
    "# 5:remove -> delete element by using value [sy: remove(value)]  "
   ]
  },
  {
   "cell_type": "code",
   "execution_count": 43,
   "id": "611b3f11",
   "metadata": {},
   "outputs": [],
   "source": [
    "p=[1,2,3,4,5,6,4]"
   ]
  },
  {
   "cell_type": "code",
   "execution_count": 44,
   "id": "ec8a14a6",
   "metadata": {},
   "outputs": [
    {
     "data": {
      "text/plain": [
       "[1, 2, 3, 4, 5, 6, 4]"
      ]
     },
     "execution_count": 44,
     "metadata": {},
     "output_type": "execute_result"
    }
   ],
   "source": [
    "p"
   ]
  },
  {
   "cell_type": "code",
   "execution_count": 45,
   "id": "49fd8b74",
   "metadata": {},
   "outputs": [],
   "source": [
    "p.remove(5)"
   ]
  },
  {
   "cell_type": "code",
   "execution_count": 46,
   "id": "65b441e5",
   "metadata": {},
   "outputs": [
    {
     "data": {
      "text/plain": [
       "[1, 2, 3, 4, 6, 4]"
      ]
     },
     "execution_count": 46,
     "metadata": {},
     "output_type": "execute_result"
    }
   ],
   "source": [
    "p"
   ]
  },
  {
   "cell_type": "code",
   "execution_count": 47,
   "id": "ac232e4c",
   "metadata": {},
   "outputs": [],
   "source": [
    "p.remove(4)"
   ]
  },
  {
   "cell_type": "code",
   "execution_count": 48,
   "id": "af5bef66",
   "metadata": {},
   "outputs": [
    {
     "data": {
      "text/plain": [
       "[1, 2, 3, 6, 4]"
      ]
     },
     "execution_count": 48,
     "metadata": {},
     "output_type": "execute_result"
    }
   ],
   "source": [
    "p"
   ]
  },
  {
   "cell_type": "code",
   "execution_count": 29,
   "id": "877c2b87",
   "metadata": {},
   "outputs": [],
   "source": [
    "# clear -> empty list "
   ]
  },
  {
   "cell_type": "code",
   "execution_count": 50,
   "id": "01304417",
   "metadata": {},
   "outputs": [],
   "source": [
    "p.clear()"
   ]
  },
  {
   "cell_type": "code",
   "execution_count": 51,
   "id": "852ea1a5",
   "metadata": {},
   "outputs": [
    {
     "data": {
      "text/plain": [
       "[]"
      ]
     },
     "execution_count": 51,
     "metadata": {},
     "output_type": "execute_result"
    }
   ],
   "source": [
    "p"
   ]
  },
  {
   "cell_type": "code",
   "execution_count": 32,
   "id": "e3fa7983",
   "metadata": {},
   "outputs": [],
   "source": [
    "p =[1,2,3,4]"
   ]
  },
  {
   "cell_type": "code",
   "execution_count": 33,
   "id": "1ce3e486",
   "metadata": {},
   "outputs": [
    {
     "ename": "IndexError",
     "evalue": "pop index out of range",
     "output_type": "error",
     "traceback": [
      "\u001b[1;31m---------------------------------------------------------------------------\u001b[0m",
      "\u001b[1;31mIndexError\u001b[0m                                Traceback (most recent call last)",
      "\u001b[1;32m<ipython-input-33-bec25cd02c8f>\u001b[0m in \u001b[0;36m<module>\u001b[1;34m\u001b[0m\n\u001b[1;32m----> 1\u001b[1;33m \u001b[0mp\u001b[0m\u001b[1;33m.\u001b[0m\u001b[0mpop\u001b[0m\u001b[1;33m(\u001b[0m\u001b[1;36m5\u001b[0m\u001b[1;33m)\u001b[0m\u001b[1;33m\u001b[0m\u001b[1;33m\u001b[0m\u001b[0m\n\u001b[0m",
      "\u001b[1;31mIndexError\u001b[0m: pop index out of range"
     ]
    }
   ],
   "source": [
    "p.pop(5)"
   ]
  },
  {
   "cell_type": "code",
   "execution_count": null,
   "id": "d57d3dd7",
   "metadata": {},
   "outputs": [],
   "source": [
    "# copy"
   ]
  },
  {
   "cell_type": "code",
   "execution_count": 65,
   "id": "f6c00ce7",
   "metadata": {},
   "outputs": [],
   "source": [
    "p=[1,2,3,4,5]"
   ]
  },
  {
   "cell_type": "code",
   "execution_count": 60,
   "id": "f9cecb37",
   "metadata": {},
   "outputs": [],
   "source": [
    "p1=p"
   ]
  },
  {
   "cell_type": "code",
   "execution_count": 70,
   "id": "3d87d584",
   "metadata": {},
   "outputs": [],
   "source": [
    "p1 = p.copy()"
   ]
  },
  {
   "cell_type": "code",
   "execution_count": 67,
   "id": "2feb14e8",
   "metadata": {},
   "outputs": [],
   "source": [
    "p.remove(2)"
   ]
  },
  {
   "cell_type": "code",
   "execution_count": 68,
   "id": "eb8d479b",
   "metadata": {},
   "outputs": [
    {
     "data": {
      "text/plain": [
       "[1, 3, 4, 5]"
      ]
     },
     "execution_count": 68,
     "metadata": {},
     "output_type": "execute_result"
    }
   ],
   "source": [
    "p"
   ]
  },
  {
   "cell_type": "code",
   "execution_count": 69,
   "id": "972390ef",
   "metadata": {},
   "outputs": [
    {
     "data": {
      "text/plain": [
       "[1, 2, 3, 4, 5]"
      ]
     },
     "execution_count": 69,
     "metadata": {},
     "output_type": "execute_result"
    }
   ],
   "source": [
    "p1"
   ]
  },
  {
   "cell_type": "code",
   "execution_count": 51,
   "id": "a88f1e4a",
   "metadata": {},
   "outputs": [
    {
     "data": {
      "text/plain": [
       "1"
      ]
     },
     "execution_count": 51,
     "metadata": {},
     "output_type": "execute_result"
    }
   ],
   "source": [
    "# Count"
   ]
  },
  {
   "cell_type": "code",
   "execution_count": 71,
   "id": "d94e602e",
   "metadata": {},
   "outputs": [],
   "source": [
    "p = [1,1,1,1,2,3,34,7,8,9,10]"
   ]
  },
  {
   "cell_type": "code",
   "execution_count": 75,
   "id": "60a60877",
   "metadata": {},
   "outputs": [
    {
     "data": {
      "text/plain": [
       "4"
      ]
     },
     "execution_count": 75,
     "metadata": {},
     "output_type": "execute_result"
    }
   ],
   "source": [
    "p.count(1)"
   ]
  },
  {
   "cell_type": "code",
   "execution_count": 76,
   "id": "c817cb58",
   "metadata": {},
   "outputs": [
    {
     "data": {
      "text/plain": [
       "1"
      ]
     },
     "execution_count": 76,
     "metadata": {},
     "output_type": "execute_result"
    }
   ],
   "source": [
    "p.count(2)"
   ]
  },
  {
   "cell_type": "code",
   "execution_count": null,
   "id": "d0deb840",
   "metadata": {},
   "outputs": [],
   "source": [
    "p=[1,2,3,[1,1,2,2,3]]"
   ]
  },
  {
   "cell_type": "code",
   "execution_count": null,
   "id": "8c0c9f13",
   "metadata": {},
   "outputs": [],
   "source": [
    "p[3].count(1)"
   ]
  },
  {
   "cell_type": "code",
   "execution_count": 77,
   "id": "f3f16733",
   "metadata": {},
   "outputs": [],
   "source": [
    "# index"
   ]
  },
  {
   "cell_type": "code",
   "execution_count": 80,
   "id": "21e29c4b",
   "metadata": {},
   "outputs": [],
   "source": [
    "p = [1,2,3,4,5]"
   ]
  },
  {
   "cell_type": "code",
   "execution_count": 82,
   "id": "64d205e6",
   "metadata": {},
   "outputs": [
    {
     "data": {
      "text/plain": [
       "2"
      ]
     },
     "execution_count": 82,
     "metadata": {},
     "output_type": "execute_result"
    }
   ],
   "source": [
    "p.index(3)"
   ]
  },
  {
   "cell_type": "code",
   "execution_count": 59,
   "id": "a5124503",
   "metadata": {},
   "outputs": [
    {
     "data": {
      "text/plain": [
       "0"
      ]
     },
     "execution_count": 59,
     "metadata": {},
     "output_type": "execute_result"
    }
   ],
   "source": [
    "py_list.index(10)"
   ]
  },
  {
   "cell_type": "code",
   "execution_count": 60,
   "id": "42e940e6",
   "metadata": {},
   "outputs": [],
   "source": [
    "p = [1,1,1,1,1,1,1,1,1,1,1,2,3]"
   ]
  },
  {
   "cell_type": "code",
   "execution_count": 61,
   "id": "602bbd4b",
   "metadata": {},
   "outputs": [
    {
     "data": {
      "text/plain": [
       "0"
      ]
     },
     "execution_count": 61,
     "metadata": {},
     "output_type": "execute_result"
    }
   ],
   "source": [
    "p.index(1)"
   ]
  },
  {
   "cell_type": "code",
   "execution_count": null,
   "id": "87823ff2",
   "metadata": {},
   "outputs": [],
   "source": [
    "# Sort -> sort list in asending/disending order"
   ]
  },
  {
   "cell_type": "code",
   "execution_count": 1,
   "id": "ea4d52e6",
   "metadata": {},
   "outputs": [],
   "source": [
    "p = [1,45,23,78,44,36,72]"
   ]
  },
  {
   "cell_type": "code",
   "execution_count": 2,
   "id": "457aa70d",
   "metadata": {},
   "outputs": [],
   "source": [
    "p.sort()"
   ]
  },
  {
   "cell_type": "code",
   "execution_count": 3,
   "id": "97acaf56",
   "metadata": {},
   "outputs": [],
   "source": [
    "p.sort(reverse=True)"
   ]
  },
  {
   "cell_type": "code",
   "execution_count": 4,
   "id": "5c13c674",
   "metadata": {},
   "outputs": [
    {
     "data": {
      "text/plain": [
       "[78, 72, 45, 44, 36, 23, 1]"
      ]
     },
     "execution_count": 4,
     "metadata": {},
     "output_type": "execute_result"
    }
   ],
   "source": [
    "p"
   ]
  },
  {
   "cell_type": "code",
   "execution_count": null,
   "id": "e37acdf7",
   "metadata": {},
   "outputs": [],
   "source": [
    "# reverse"
   ]
  },
  {
   "cell_type": "code",
   "execution_count": 73,
   "id": "9c6dbc8c",
   "metadata": {},
   "outputs": [],
   "source": [
    "p = [23,56,99,34,67]"
   ]
  },
  {
   "cell_type": "code",
   "execution_count": 87,
   "id": "2ac290ae",
   "metadata": {},
   "outputs": [],
   "source": [
    "p.reverse()"
   ]
  },
  {
   "cell_type": "code",
   "execution_count": 88,
   "id": "49d2cc10",
   "metadata": {},
   "outputs": [
    {
     "data": {
      "text/plain": [
       "[72, 36, 44, 78, 23, 45, 1]"
      ]
     },
     "execution_count": 88,
     "metadata": {},
     "output_type": "execute_result"
    }
   ],
   "source": [
    "p"
   ]
  },
  {
   "cell_type": "code",
   "execution_count": null,
   "id": "f903f380",
   "metadata": {},
   "outputs": [],
   "source": [
    "p.sort()"
   ]
  },
  {
   "cell_type": "code",
   "execution_count": 76,
   "id": "8f0a0f6a",
   "metadata": {},
   "outputs": [
    {
     "name": "stdout",
     "output_type": "stream",
     "text": [
      "Help on class list in module builtins:\n",
      "\n",
      "class list(object)\n",
      " |  list(iterable=(), /)\n",
      " |  \n",
      " |  Built-in mutable sequence.\n",
      " |  \n",
      " |  If no argument is given, the constructor creates a new empty list.\n",
      " |  The argument must be an iterable if specified.\n",
      " |  \n",
      " |  Methods defined here:\n",
      " |  \n",
      " |  __add__(self, value, /)\n",
      " |      Return self+value.\n",
      " |  \n",
      " |  __contains__(self, key, /)\n",
      " |      Return key in self.\n",
      " |  \n",
      " |  __delitem__(self, key, /)\n",
      " |      Delete self[key].\n",
      " |  \n",
      " |  __eq__(self, value, /)\n",
      " |      Return self==value.\n",
      " |  \n",
      " |  __ge__(self, value, /)\n",
      " |      Return self>=value.\n",
      " |  \n",
      " |  __getattribute__(self, name, /)\n",
      " |      Return getattr(self, name).\n",
      " |  \n",
      " |  __getitem__(...)\n",
      " |      x.__getitem__(y) <==> x[y]\n",
      " |  \n",
      " |  __gt__(self, value, /)\n",
      " |      Return self>value.\n",
      " |  \n",
      " |  __iadd__(self, value, /)\n",
      " |      Implement self+=value.\n",
      " |  \n",
      " |  __imul__(self, value, /)\n",
      " |      Implement self*=value.\n",
      " |  \n",
      " |  __init__(self, /, *args, **kwargs)\n",
      " |      Initialize self.  See help(type(self)) for accurate signature.\n",
      " |  \n",
      " |  __iter__(self, /)\n",
      " |      Implement iter(self).\n",
      " |  \n",
      " |  __le__(self, value, /)\n",
      " |      Return self<=value.\n",
      " |  \n",
      " |  __len__(self, /)\n",
      " |      Return len(self).\n",
      " |  \n",
      " |  __lt__(self, value, /)\n",
      " |      Return self<value.\n",
      " |  \n",
      " |  __mul__(self, value, /)\n",
      " |      Return self*value.\n",
      " |  \n",
      " |  __ne__(self, value, /)\n",
      " |      Return self!=value.\n",
      " |  \n",
      " |  __repr__(self, /)\n",
      " |      Return repr(self).\n",
      " |  \n",
      " |  __reversed__(self, /)\n",
      " |      Return a reverse iterator over the list.\n",
      " |  \n",
      " |  __rmul__(self, value, /)\n",
      " |      Return value*self.\n",
      " |  \n",
      " |  __setitem__(self, key, value, /)\n",
      " |      Set self[key] to value.\n",
      " |  \n",
      " |  __sizeof__(self, /)\n",
      " |      Return the size of the list in memory, in bytes.\n",
      " |  \n",
      " |  append(self, object, /)\n",
      " |      Append object to the end of the list.\n",
      " |  \n",
      " |  clear(self, /)\n",
      " |      Remove all items from list.\n",
      " |  \n",
      " |  copy(self, /)\n",
      " |      Return a shallow copy of the list.\n",
      " |  \n",
      " |  count(self, value, /)\n",
      " |      Return number of occurrences of value.\n",
      " |  \n",
      " |  extend(self, iterable, /)\n",
      " |      Extend list by appending elements from the iterable.\n",
      " |  \n",
      " |  index(self, value, start=0, stop=9223372036854775807, /)\n",
      " |      Return first index of value.\n",
      " |      \n",
      " |      Raises ValueError if the value is not present.\n",
      " |  \n",
      " |  insert(self, index, object, /)\n",
      " |      Insert object before index.\n",
      " |  \n",
      " |  pop(self, index=-1, /)\n",
      " |      Remove and return item at index (default last).\n",
      " |      \n",
      " |      Raises IndexError if list is empty or index is out of range.\n",
      " |  \n",
      " |  remove(self, value, /)\n",
      " |      Remove first occurrence of value.\n",
      " |      \n",
      " |      Raises ValueError if the value is not present.\n",
      " |  \n",
      " |  reverse(self, /)\n",
      " |      Reverse *IN PLACE*.\n",
      " |  \n",
      " |  sort(self, /, *, key=None, reverse=False)\n",
      " |      Sort the list in ascending order and return None.\n",
      " |      \n",
      " |      The sort is in-place (i.e. the list itself is modified) and stable (i.e. the\n",
      " |      order of two equal elements is maintained).\n",
      " |      \n",
      " |      If a key function is given, apply it once to each list item and sort them,\n",
      " |      ascending or descending, according to their function values.\n",
      " |      \n",
      " |      The reverse flag can be set to sort in descending order.\n",
      " |  \n",
      " |  ----------------------------------------------------------------------\n",
      " |  Static methods defined here:\n",
      " |  \n",
      " |  __new__(*args, **kwargs) from builtins.type\n",
      " |      Create and return a new object.  See help(type) for accurate signature.\n",
      " |  \n",
      " |  ----------------------------------------------------------------------\n",
      " |  Data and other attributes defined here:\n",
      " |  \n",
      " |  __hash__ = None\n",
      "\n"
     ]
    }
   ],
   "source": [
    "help(list)"
   ]
  }
 ],
 "metadata": {
  "kernelspec": {
   "display_name": "Python 3 (ipykernel)",
   "language": "python",
   "name": "python3"
  },
  "language_info": {
   "codemirror_mode": {
    "name": "ipython",
    "version": 3
   },
   "file_extension": ".py",
   "mimetype": "text/x-python",
   "name": "python",
   "nbconvert_exporter": "python",
   "pygments_lexer": "ipython3",
   "version": "3.9.7"
  }
 },
 "nbformat": 4,
 "nbformat_minor": 5
}
