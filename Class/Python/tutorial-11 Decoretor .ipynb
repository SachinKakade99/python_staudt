{
 "cells": [
  {
   "cell_type": "markdown",
   "id": "5084481c",
   "metadata": {},
   "source": [
    "## Decorators"
   ]
  },
  {
   "cell_type": "markdown",
   "id": "56760210",
   "metadata": {},
   "source": [
    "### Decorators in Python are essentially functions that add functionality to an existing function in Python without changing the structure of the function itself. They are represented the @decorator_name in Python and are called in a bottom-up fashion."
   ]
  },
  {
   "cell_type": "code",
   "execution_count": 1,
   "id": "5dddac6a",
   "metadata": {},
   "outputs": [],
   "source": [
    "# decorator function to convert to lowercase\n",
    "def lowercase_decorator(function):\n",
    "   def wrapper():\n",
    "       func = function()\n",
    "       string_lowercase = func.lower()\n",
    "       return string_lowercase\n",
    "   return wrapper"
   ]
  },
  {
   "cell_type": "code",
   "execution_count": 2,
   "id": "0e9d0fb5",
   "metadata": {},
   "outputs": [],
   "source": [
    "# decorator function to split words\n",
    "def splitter_decorator(function):\n",
    "   def wrapper():\n",
    "       func = function()\n",
    "       string_split = func.split()\n",
    "       return string_split\n",
    "   return wrapper"
   ]
  },
  {
   "cell_type": "code",
   "execution_count": 3,
   "id": "e66062d3",
   "metadata": {},
   "outputs": [
    {
     "data": {
      "text/plain": [
       "['hello', 'world']"
      ]
     },
     "execution_count": 3,
     "metadata": {},
     "output_type": "execute_result"
    }
   ],
   "source": [
    "@splitter_decorator # this is executed next\n",
    "@lowercase_decorator # this is executed first\n",
    "def hello():\n",
    "   return 'Hello World'\n",
    "hello() "
   ]
  },
  {
   "cell_type": "markdown",
   "id": "56f779d6",
   "metadata": {},
   "source": [
    "### The beauty of the decorators lies in the fact that besides adding functionality to the output of the method, they can even accept arguments for functions and can further modify those arguments before passing it to the function itself. The inner nested function, i.e. 'wrapper' function, plays a significant role here. It is implemented to enforce encapsulation and thus, keep itself hidden from the global scope."
   ]
  },
  {
   "cell_type": "code",
   "execution_count": 4,
   "id": "3f9e2cbb",
   "metadata": {},
   "outputs": [],
   "source": [
    "# decorator function to capitalize names\n",
    "def names_decorator(function):\n",
    "   def wrapper(arg1, arg2):\n",
    "       arg1 = arg1.capitalize()\n",
    "       arg2 = arg2.capitalize()\n",
    "       string_hello = function(arg1, arg2)\n",
    "       return string_hello\n",
    "   return wrapper"
   ]
  },
  {
   "cell_type": "code",
   "execution_count": 5,
   "id": "27265dba",
   "metadata": {},
   "outputs": [
    {
     "data": {
      "text/plain": [
       "'Hello Sara! Hello Ansh!'"
      ]
     },
     "execution_count": 5,
     "metadata": {},
     "output_type": "execute_result"
    }
   ],
   "source": [
    "@names_decorator\n",
    "def say_hello(name1, name2):\n",
    "   return 'Hello ' + name1 + '! Hello ' + name2 + '!'\n",
    "say_hello('sara', 'ansh') "
   ]
  },
  {
   "cell_type": "code",
   "execution_count": null,
   "id": "0b959bd3",
   "metadata": {},
   "outputs": [],
   "source": []
  }
 ],
 "metadata": {
  "kernelspec": {
   "display_name": "Python 3",
   "language": "python",
   "name": "python3"
  },
  "language_info": {
   "codemirror_mode": {
    "name": "ipython",
    "version": 3
   },
   "file_extension": ".py",
   "mimetype": "text/x-python",
   "name": "python",
   "nbconvert_exporter": "python",
   "pygments_lexer": "ipython3",
   "version": "3.8.8"
  }
 },
 "nbformat": 4,
 "nbformat_minor": 5
}
