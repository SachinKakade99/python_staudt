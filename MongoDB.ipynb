{
 "cells": [
  {
   "cell_type": "code",
   "execution_count": 1,
   "id": "e28d1e9f",
   "metadata": {},
   "outputs": [],
   "source": [
    "import pymongo\n",
    "localClient = pymongo.MongoClient('mongodb://127.0.0.1:27017/')\n",
    "dbEMP = localClient['Employee']         # Employee DB name\n",
    "callectionInfo = dbEMP.information      # information Collection name\n",
    "callectionDept = dbEMP.deparment        # deparment Collection name"
   ]
  },
  {
   "cell_type": "markdown",
   "id": "c33976e7",
   "metadata": {},
   "source": [
    "### Insert single record"
   ]
  },
  {
   "cell_type": "code",
   "execution_count": 2,
   "id": "1f2ef14e",
   "metadata": {},
   "outputs": [
    {
     "ename": "TypeError",
     "evalue": "'Collection' object is not callable. If you meant to call the 'insert' method on a 'Collection' object it is failing because no such method exists.",
     "output_type": "error",
     "traceback": [
      "\u001b[1;31m---------------------------------------------------------------------------\u001b[0m",
      "\u001b[1;31mTypeError\u001b[0m                                 Traceback (most recent call last)",
      "\u001b[1;32m<ipython-input-2-687300c8a4e1>\u001b[0m in \u001b[0;36m<module>\u001b[1;34m\u001b[0m\n\u001b[0;32m      6\u001b[0m             \u001b[1;34m'age'\u001b[0m\u001b[1;33m:\u001b[0m\u001b[1;36m30\u001b[0m\u001b[1;33m\u001b[0m\u001b[1;33m\u001b[0m\u001b[0m\n\u001b[0;32m      7\u001b[0m         }\n\u001b[1;32m----> 8\u001b[1;33m \u001b[0mcallectionInfo\u001b[0m\u001b[1;33m.\u001b[0m\u001b[0minsert\u001b[0m\u001b[1;33m(\u001b[0m\u001b[0mrecord\u001b[0m\u001b[1;33m)\u001b[0m\u001b[1;33m\u001b[0m\u001b[1;33m\u001b[0m\u001b[0m\n\u001b[0m",
      "\u001b[1;32m~\\anaconda3\\lib\\site-packages\\pymongo\\collection.py\u001b[0m in \u001b[0;36m__call__\u001b[1;34m(self, *args, **kwargs)\u001b[0m\n\u001b[0;32m   2582\u001b[0m                             \u001b[1;34m\"exists.\"\u001b[0m \u001b[1;33m%\u001b[0m\u001b[1;33m\u001b[0m\u001b[1;33m\u001b[0m\u001b[0m\n\u001b[0;32m   2583\u001b[0m                             self.__name)\n\u001b[1;32m-> 2584\u001b[1;33m         raise TypeError(\"'Collection' object is not callable. If you meant to \"\n\u001b[0m\u001b[0;32m   2585\u001b[0m                         \u001b[1;34m\"call the '%s' method on a 'Collection' object it is \"\u001b[0m\u001b[1;33m\u001b[0m\u001b[1;33m\u001b[0m\u001b[0m\n\u001b[0;32m   2586\u001b[0m                         \u001b[1;34m\"failing because no such method exists.\"\u001b[0m \u001b[1;33m%\u001b[0m\u001b[1;33m\u001b[0m\u001b[1;33m\u001b[0m\u001b[0m\n",
      "\u001b[1;31mTypeError\u001b[0m: 'Collection' object is not callable. If you meant to call the 'insert' method on a 'Collection' object it is failing because no such method exists."
     ]
    }
   ],
   "source": [
    "record ={\n",
    "            'fname':'Kumood',\n",
    "            'lname':'Bongale',\n",
    "            'dob':'22-10-1990',\n",
    "            'dept':'It',\n",
    "            'age':30\n",
    "        }\n",
    "callectionInfo.insert(record)"
   ]
  },
  {
   "cell_type": "code",
   "execution_count": 3,
   "id": "6c7d0fbc",
   "metadata": {},
   "outputs": [
    {
     "data": {
      "text/plain": [
       "<pymongo.results.InsertOneResult at 0x26bf25fdec0>"
      ]
     },
     "execution_count": 3,
     "metadata": {},
     "output_type": "execute_result"
    }
   ],
   "source": [
    "record ={\n",
    "            'fname':'Kumood',\n",
    "            'lname':'Bongale',\n",
    "            'dob':'22-10-1990',\n",
    "            'dept':'It',\n",
    "            'age':30\n",
    "        }\n",
    "callectionInfo.insert_one(record)"
   ]
  },
  {
   "cell_type": "markdown",
   "id": "32663971",
   "metadata": {},
   "source": [
    "### Insertin maltipal recrds"
   ]
  },
  {
   "cell_type": "code",
   "execution_count": 4,
   "id": "cab7f5d0",
   "metadata": {},
   "outputs": [
    {
     "data": {
      "text/plain": [
       "<pymongo.results.InsertManyResult at 0x1e58cc79700>"
      ]
     },
     "execution_count": 4,
     "metadata": {},
     "output_type": "execute_result"
    }
   ],
   "source": [
    "\n",
    "deptRecords = [\n",
    "    {\n",
    "        'code':1,\n",
    "        'name':'Android',\n",
    "    },\n",
    "     {\n",
    "        'code':2,\n",
    "        'name':'Backend',\n",
    "    },\n",
    "     {\n",
    "        'code':3,\n",
    "        'name':'Quality',\n",
    "    },\n",
    "     {\n",
    "        'code':4,\n",
    "        'name':'UI',\n",
    "    },\n",
    "    \n",
    "]\n",
    "callectionDept.insert_many(deptRecords)"
   ]
  },
  {
   "cell_type": "code",
   "execution_count": 6,
   "id": "2b46e735",
   "metadata": {},
   "outputs": [
    {
     "data": {
      "text/plain": [
       "<pymongo.results.InsertManyResult at 0x19e96ba2600>"
      ]
     },
     "execution_count": 6,
     "metadata": {},
     "output_type": "execute_result"
    }
   ],
   "source": [
    "infoRecords = [\n",
    "    {\n",
    "        'fname':'Sachin',\n",
    "        'lname':'Kakade',\n",
    "        'dob':'22-10-1991',\n",
    "        'dept':1,\n",
    "        'age':30\n",
    "    },\n",
    "    {\n",
    "        'fname':'Omkar',\n",
    "        'lname':'Potdar',\n",
    "        'dob':'22-10-1989',\n",
    "        'dept':4,\n",
    "        'age':31\n",
    "    },\n",
    "    {\n",
    "        'fname': 'Sagar',\n",
    "        'lname': 'Mahajan',\n",
    "        'dob': '22-10-1992',\n",
    "        'dept':1,\n",
    "        'age':29\n",
    "    },\n",
    "    {\n",
    "        'fname': 'Kishor',\n",
    "        'lname': 'Shevkr',\n",
    "        'dob': '22-10-1990',\n",
    "        'dept':3,\n",
    "        'age':30\n",
    "    },\n",
    "    {\n",
    "        'fname':'Kumood',\n",
    "        'lname':'Bongale',\n",
    "        'dob':'22-10-1988',\n",
    "        'dept':2,\n",
    "        'age':32\n",
    "    },\n",
    "    {\n",
    "        'fname':'Reshu',\n",
    "        'lname':'Bisen',\n",
    "        'dob':'22-10-1988',\n",
    "        'dept':2,\n",
    "        'age':32\n",
    "    },\n",
    "]\n",
    "callectionInfo.insert_many(infoRecords)"
   ]
  },
  {
   "cell_type": "code",
   "execution_count": null,
   "id": "7d2a6a13",
   "metadata": {},
   "outputs": [],
   "source": []
  },
  {
   "cell_type": "markdown",
   "id": "4c20cbd0",
   "metadata": {},
   "source": [
    "## Find()\n",
    "### find_one() by default gives first record"
   ]
  },
  {
   "cell_type": "code",
   "execution_count": 3,
   "id": "124144a5",
   "metadata": {},
   "outputs": [
    {
     "data": {
      "text/plain": [
       "{'_id': ObjectId('61d6c0cc03ac1431d51aea7b'),\n",
       " 'fname': 'Sachin',\n",
       " 'lname': 'Kakade',\n",
       " 'dob': '22-10-1991',\n",
       " 'dept': 1,\n",
       " 'age': 30}"
      ]
     },
     "execution_count": 3,
     "metadata": {},
     "output_type": "execute_result"
    }
   ],
   "source": [
    "callectionInfo.find_one()"
   ]
  },
  {
   "cell_type": "markdown",
   "id": "ac1725b8",
   "metadata": {},
   "source": [
    "### callectionInfo.find() OR callectionInfo.find({}) SAME AS \"select * from enformetion;\""
   ]
  },
  {
   "cell_type": "code",
   "execution_count": 4,
   "id": "092a27a2",
   "metadata": {},
   "outputs": [
    {
     "name": "stdout",
     "output_type": "stream",
     "text": [
      "{'_id': ObjectId('61d6c0cc03ac1431d51aea7b'), 'fname': 'Sachin', 'lname': 'Kakade', 'dob': '22-10-1991', 'dept': 1, 'age': 30}\n",
      "{'_id': ObjectId('61d6c0cc03ac1431d51aea7c'), 'fname': 'Omkar', 'lname': 'Potdar', 'dob': '22-10-1989', 'dept': 'UI', 'age': 31, 'experiansed': False}\n",
      "{'_id': ObjectId('61d6c0cc03ac1431d51aea7d'), 'fname': 'Sagar', 'lname': 'Mahajan', 'dob': '22-10-1992', 'dept': 1, 'age': 29}\n",
      "{'_id': ObjectId('61d6c0cc03ac1431d51aea7e'), 'fname': 'Kishor', 'lname': 'Shevkr', 'dob': '22-10-1990', 'dept': 3, 'age': 30}\n",
      "{'_id': ObjectId('61d6c0cc03ac1431d51aea7f'), 'fname': 'Kumood', 'lname': 'Bongale', 'dob': '10-10-1998', 'dept': 2, 'age': 33, 'lastModified': datetime.datetime(2022, 1, 15, 5, 1, 17, 340000), 'experiansed': False}\n",
      "{'_id': ObjectId('61d6c0cc03ac1431d51aea80'), 'fname': 'Reshu', 'lname': 'Bisen', 'dob': '22-10-1988', 'dept': 2, 'age': 32, 'experiansed': False, 'lastModified': datetime.datetime(2022, 1, 15, 5, 1, 17, 340000)}\n",
      "{'_id': ObjectId('61e254f9f0a891badd4bb40d'), 'fname': 'Kumood', 'lname': 'Bongale', 'dob': '22-10-1990', 'dept': 'It', 'age': 30}\n",
      "{'_id': ObjectId('623862ca1deca5731320abcf'), 'fname': 'Kumood', 'lname': 'Bongale', 'dob': '22-10-1990', 'dept': 'It', 'age': 30}\n"
     ]
    }
   ],
   "source": [
    "userList = callectionInfo.find()\n",
    "for record in userList:\n",
    "    print(record)"
   ]
  },
  {
   "cell_type": "markdown",
   "id": "8ffc3da0",
   "metadata": {},
   "source": [
    "### select * from enfometion where dept = Android"
   ]
  },
  {
   "cell_type": "code",
   "execution_count": 7,
   "id": "4abc74f6",
   "metadata": {},
   "outputs": [
    {
     "name": "stdout",
     "output_type": "stream",
     "text": [
      "{'_id': ObjectId('61d6c0cc03ac1431d51aea7b'), 'fname': 'Sachin', 'lname': 'Kakade', 'dob': '22-10-1991', 'dept': 1, 'age': 30}\n",
      "{'_id': ObjectId('61d6c0cc03ac1431d51aea7d'), 'fname': 'Sagar', 'lname': 'Mahajan', 'dob': '22-10-1992', 'dept': 1, 'age': 29}\n"
     ]
    }
   ],
   "source": [
    "for record in callectionInfo.find({\"dept\":1}):\n",
    "    print(record)"
   ]
  },
  {
   "cell_type": "markdown",
   "id": "7ada9a3e",
   "metadata": {},
   "source": [
    "## Quairy Operetores "
   ]
  },
  {
   "cell_type": "code",
   "execution_count": 8,
   "id": "4e7aef4b",
   "metadata": {},
   "outputs": [
    {
     "name": "stdout",
     "output_type": "stream",
     "text": [
      "{'_id': ObjectId('61d6c0cc03ac1431d51aea7b'), 'fname': 'Sachin', 'lname': 'Kakade', 'dob': '22-10-1991', 'dept': 1, 'age': 30}\n",
      "{'_id': ObjectId('61d6c0cc03ac1431d51aea7d'), 'fname': 'Sagar', 'lname': 'Mahajan', 'dob': '22-10-1992', 'dept': 1, 'age': 29}\n",
      "{'_id': ObjectId('61d6c0cc03ac1431d51aea7e'), 'fname': 'Kishor', 'lname': 'Shevkr', 'dob': '22-10-1990', 'dept': 3, 'age': 30}\n"
     ]
    }
   ],
   "source": [
    "# $in\n",
    "# select * info where dept in [\"Android\",\"Quality\"] ; \n",
    "for record in callectionInfo.find({\"dept\":{\"$in\":[1,3]}}):\n",
    "    print(record)"
   ]
  },
  {
   "cell_type": "code",
   "execution_count": 9,
   "id": "2e58586a",
   "metadata": {},
   "outputs": [
    {
     "name": "stdout",
     "output_type": "stream",
     "text": [
      "{'_id': ObjectId('61d6c0cc03ac1431d51aea7b'), 'fname': 'Sachin', 'lname': 'Kakade', 'dob': '22-10-1991', 'dept': 1, 'age': 30}\n"
     ]
    }
   ],
   "source": [
    "# AND $and\n",
    "# select * info where dept = 'Android' AND age = 30; \n",
    "for record in callectionInfo.find({'$and':[{'dept':1},{'age':30}]}):\n",
    "    print(record)\n",
    "# ',' is AND   \n",
    "#for record in callectionInfo.find({'dept':1,'age':'30'}):\n",
    "#    print(record)\n",
    "#for record in callectionInfo.find({'dept':{'$in':[1,2]},'age':{'$lt':'30'}}):\n",
    "#    print(record)"
   ]
  },
  {
   "cell_type": "code",
   "execution_count": 10,
   "id": "328def09",
   "metadata": {},
   "outputs": [
    {
     "name": "stdout",
     "output_type": "stream",
     "text": [
      "{'_id': ObjectId('61d6c0cc03ac1431d51aea7b'), 'fname': 'Sachin', 'lname': 'Kakade', 'dob': '22-10-1991', 'dept': 1, 'age': 30}\n",
      "{'_id': ObjectId('61d6c0cc03ac1431d51aea7d'), 'fname': 'Sagar', 'lname': 'Mahajan', 'dob': '22-10-1992', 'dept': 1, 'age': 29}\n",
      "{'_id': ObjectId('61d6c0cc03ac1431d51aea7e'), 'fname': 'Kishor', 'lname': 'Shevkr', 'dob': '22-10-1990', 'dept': 3, 'age': 30}\n",
      "{'_id': ObjectId('61e254f9f0a891badd4bb40d'), 'fname': 'Kumood', 'lname': 'Bongale', 'dob': '22-10-1990', 'dept': 'It', 'age': 30}\n"
     ]
    }
   ],
   "source": [
    "# OR $or\n",
    "# select * info where dept='Android' or age = '30'; \n",
    "for record in callectionInfo.find({'$or':[{'dept':1},{'age':30}]}):\n",
    "    print(record)"
   ]
  },
  {
   "cell_type": "markdown",
   "id": "4b799b78",
   "metadata": {},
   "source": [
    "## Update Records\n",
    "- update_one()\n",
    "- update_many()\n",
    "- Replace_one()"
   ]
  },
  {
   "cell_type": "code",
   "execution_count": 11,
   "id": "39bebb6c",
   "metadata": {},
   "outputs": [
    {
     "name": "stdout",
     "output_type": "stream",
     "text": [
      "{'_id': ObjectId('61d6c0cc03ac1431d51aea7b'), 'fname': 'Sachin', 'lname': 'Kakade', 'dob': '22-10-1991', 'dept': 1, 'age': 30}\n",
      "{'_id': ObjectId('61d6c0cc03ac1431d51aea7c'), 'fname': 'Omkar', 'lname': 'Potdar', 'dob': '22-10-1989', 'dept': 'UI', 'age': 31, 'experiansed': False}\n",
      "{'_id': ObjectId('61d6c0cc03ac1431d51aea7d'), 'fname': 'Sagar', 'lname': 'Mahajan', 'dob': '22-10-1992', 'dept': 1, 'age': 29}\n",
      "{'_id': ObjectId('61d6c0cc03ac1431d51aea7e'), 'fname': 'Kishor', 'lname': 'Shevkr', 'dob': '22-10-1990', 'dept': 3, 'age': 30}\n",
      "{'_id': ObjectId('61d6c0cc03ac1431d51aea7f'), 'fname': 'Kumood', 'lname': 'Bongale', 'dob': '10-10-1998', 'dept': 2, 'age': 33, 'lastModified': datetime.datetime(2022, 1, 6, 10, 15, 17, 788000), 'experiansed': False}\n",
      "{'_id': ObjectId('61d6c0cc03ac1431d51aea80'), 'fname': 'Reshu', 'lname': 'Bisen', 'dob': '22-10-1988', 'dept': 2, 'age': 32, 'experiansed': False, 'lastModified': datetime.datetime(2022, 1, 6, 10, 15, 17, 789000)}\n",
      "{'_id': ObjectId('61e254f9f0a891badd4bb40d'), 'fname': 'Kumood', 'lname': 'Bongale', 'dob': '22-10-1990', 'dept': 'It', 'age': 30}\n"
     ]
    }
   ],
   "source": [
    "for record in callectionInfo.find():\n",
    "    print(record)"
   ]
  },
  {
   "cell_type": "code",
   "execution_count": 12,
   "id": "1916d9ff",
   "metadata": {},
   "outputs": [
    {
     "data": {
      "text/plain": [
       "<pymongo.results.UpdateResult at 0x1e58cc87c00>"
      ]
     },
     "execution_count": 12,
     "metadata": {},
     "output_type": "execute_result"
    }
   ],
   "source": [
    "callectionInfo.update_one(\n",
    "    {'fname':'Kumood'},\n",
    "    {'$set':{'dob':'10-10-1998','age':33},'$currentDate':{'lastModified':True}}\n",
    ")"
   ]
  },
  {
   "cell_type": "code",
   "execution_count": 13,
   "id": "9cc7db75",
   "metadata": {},
   "outputs": [
    {
     "data": {
      "text/plain": [
       "<pymongo.results.UpdateResult at 0x1e58cc7e080>"
      ]
     },
     "execution_count": 13,
     "metadata": {},
     "output_type": "execute_result"
    }
   ],
   "source": [
    "callectionInfo.update_many(\n",
    "    {'age':{'$gt':31}},\n",
    "    {'$set':{'experiansed':False},\n",
    "         '$currentDate':{'lastModified':True}}\n",
    ")"
   ]
  },
  {
   "cell_type": "code",
   "execution_count": 14,
   "id": "5aeb6561",
   "metadata": {},
   "outputs": [
    {
     "data": {
      "text/plain": [
       "<pymongo.results.UpdateResult at 0x1e58cc7eb00>"
      ]
     },
     "execution_count": 14,
     "metadata": {},
     "output_type": "execute_result"
    }
   ],
   "source": [
    "callectionInfo.replace_one(\n",
    "    {'age':31},\n",
    "    {'fname':'Omkar',\n",
    "        'lname':'Potdar',\n",
    "        'dob':'22-10-1989',\n",
    "        'dept':'UI',\n",
    "        'age':31,\n",
    "        'experiansed':False,\n",
    "    }\n",
    ")"
   ]
  },
  {
   "cell_type": "markdown",
   "id": "1fb6b20c",
   "metadata": {},
   "source": [
    "## Aggrigetion and Gruping"
   ]
  },
  {
   "cell_type": "code",
   "execution_count": 15,
   "id": "c02cea50",
   "metadata": {},
   "outputs": [
    {
     "name": "stdout",
     "output_type": "stream",
     "text": [
      "{'_id': 2, 'Toatal Emp': 2}\n",
      "{'_id': 1, 'Toatal Emp': 2}\n",
      "{'_id': 'UI', 'Toatal Emp': 1}\n",
      "{'_id': 'It', 'Toatal Emp': 1}\n",
      "{'_id': 3, 'Toatal Emp': 1}\n"
     ]
    }
   ],
   "source": [
    "records = callectionInfo.aggregate(\n",
    "    [{\n",
    "        '$group' :{\n",
    "            '_id':'$dept',\n",
    "            'Toatal Emp':{'$sum':1}\n",
    "        }\n",
    "    }]\n",
    ")\n",
    "for record in records:\n",
    "    print(record)"
   ]
  },
  {
   "cell_type": "code",
   "execution_count": 16,
   "id": "9ac24fbc",
   "metadata": {},
   "outputs": [
    {
     "name": "stdout",
     "output_type": "stream",
     "text": [
      "{'_id': 'UI', 'Toatal AGE': 31}\n",
      "{'_id': 1, 'Toatal AGE': 59}\n",
      "{'_id': 3, 'Toatal AGE': 30}\n",
      "{'_id': 'It', 'Toatal AGE': 30}\n",
      "{'_id': 2, 'Toatal AGE': 65}\n"
     ]
    }
   ],
   "source": [
    "records = callectionInfo.aggregate(\n",
    "    [{\n",
    "        '$group' :{\n",
    "            '_id':'$dept',\n",
    "            'Toatal AGE':{'$sum':'$age'}\n",
    "        }\n",
    "    }]\n",
    ")\n",
    "for record in records:\n",
    "    print(record)"
   ]
  },
  {
   "cell_type": "code",
   "execution_count": 17,
   "id": "7079dfc3",
   "metadata": {},
   "outputs": [
    {
     "name": "stdout",
     "output_type": "stream",
     "text": [
      "{'_id': 1, 'Toatal AGE': 29.5}\n",
      "{'_id': 'UI', 'Toatal AGE': 31.0}\n",
      "{'_id': 'It', 'Toatal AGE': 30.0}\n",
      "{'_id': 2, 'Toatal AGE': 32.5}\n",
      "{'_id': 3, 'Toatal AGE': 30.0}\n"
     ]
    }
   ],
   "source": [
    "records = callectionInfo.aggregate(\n",
    "    [{\n",
    "        '$group' :{\n",
    "            '_id':'$dept',\n",
    "            'Toatal AGE':{'$avg':'$age'}\n",
    "        }\n",
    "    }]\n",
    ")\n",
    "for record in records:\n",
    "    print(record)"
   ]
  },
  {
   "cell_type": "markdown",
   "id": "79e871ab",
   "metadata": {},
   "source": [
    "## Jions"
   ]
  },
  {
   "cell_type": "code",
   "execution_count": 18,
   "id": "fa4c2ca6",
   "metadata": {},
   "outputs": [
    {
     "ename": "SyntaxError",
     "evalue": "invalid syntax (<ipython-input-18-3d575c844e39>, line 4)",
     "output_type": "error",
     "traceback": [
      "\u001b[1;36m  File \u001b[1;32m\"<ipython-input-18-3d575c844e39>\"\u001b[1;36m, line \u001b[1;32m4\u001b[0m\n\u001b[1;33m    from:'deparment',\u001b[0m\n\u001b[1;37m    ^\u001b[0m\n\u001b[1;31mSyntaxError\u001b[0m\u001b[1;31m:\u001b[0m invalid syntax\n"
     ]
    }
   ],
   "source": [
    "records = callectionInfo.aggregate(\n",
    "    [{\n",
    "        '$lockup' :{\n",
    "            from:'deparment',\n",
    "            localfield:'dept',\n",
    "            foreignfield:'code'\n",
    "        }\n",
    "    }]\n",
    ")\n",
    "for record in records:\n",
    "    print(record)"
   ]
  },
  {
   "cell_type": "code",
   "execution_count": 5,
   "id": "daed960a",
   "metadata": {},
   "outputs": [
    {
     "data": {
      "text/html": [
       "<div>\n",
       "<style scoped>\n",
       "    .dataframe tbody tr th:only-of-type {\n",
       "        vertical-align: middle;\n",
       "    }\n",
       "\n",
       "    .dataframe tbody tr th {\n",
       "        vertical-align: top;\n",
       "    }\n",
       "\n",
       "    .dataframe thead th {\n",
       "        text-align: right;\n",
       "    }\n",
       "</style>\n",
       "<table border=\"1\" class=\"dataframe\">\n",
       "  <thead>\n",
       "    <tr style=\"text-align: right;\">\n",
       "      <th></th>\n",
       "      <th>_id</th>\n",
       "      <th>fname</th>\n",
       "      <th>lname</th>\n",
       "      <th>dob</th>\n",
       "      <th>dept</th>\n",
       "      <th>age</th>\n",
       "      <th>experiansed</th>\n",
       "      <th>lastModified</th>\n",
       "    </tr>\n",
       "  </thead>\n",
       "  <tbody>\n",
       "    <tr>\n",
       "      <th>0</th>\n",
       "      <td>61d6c0cc03ac1431d51aea7b</td>\n",
       "      <td>Sachin</td>\n",
       "      <td>Kakade</td>\n",
       "      <td>22-10-1991</td>\n",
       "      <td>1</td>\n",
       "      <td>30</td>\n",
       "      <td>NaN</td>\n",
       "      <td>NaT</td>\n",
       "    </tr>\n",
       "    <tr>\n",
       "      <th>1</th>\n",
       "      <td>61d6c0cc03ac1431d51aea7c</td>\n",
       "      <td>Omkar</td>\n",
       "      <td>Potdar</td>\n",
       "      <td>22-10-1989</td>\n",
       "      <td>UI</td>\n",
       "      <td>31</td>\n",
       "      <td>False</td>\n",
       "      <td>NaT</td>\n",
       "    </tr>\n",
       "    <tr>\n",
       "      <th>2</th>\n",
       "      <td>61d6c0cc03ac1431d51aea7d</td>\n",
       "      <td>Sagar</td>\n",
       "      <td>Mahajan</td>\n",
       "      <td>22-10-1992</td>\n",
       "      <td>1</td>\n",
       "      <td>29</td>\n",
       "      <td>NaN</td>\n",
       "      <td>NaT</td>\n",
       "    </tr>\n",
       "    <tr>\n",
       "      <th>3</th>\n",
       "      <td>61d6c0cc03ac1431d51aea7e</td>\n",
       "      <td>Kishor</td>\n",
       "      <td>Shevkr</td>\n",
       "      <td>22-10-1990</td>\n",
       "      <td>3</td>\n",
       "      <td>30</td>\n",
       "      <td>NaN</td>\n",
       "      <td>NaT</td>\n",
       "    </tr>\n",
       "    <tr>\n",
       "      <th>4</th>\n",
       "      <td>61d6c0cc03ac1431d51aea7f</td>\n",
       "      <td>Kumood</td>\n",
       "      <td>Bongale</td>\n",
       "      <td>10-10-1998</td>\n",
       "      <td>2</td>\n",
       "      <td>33</td>\n",
       "      <td>False</td>\n",
       "      <td>2022-01-15 05:01:17.340</td>\n",
       "    </tr>\n",
       "    <tr>\n",
       "      <th>5</th>\n",
       "      <td>61d6c0cc03ac1431d51aea80</td>\n",
       "      <td>Reshu</td>\n",
       "      <td>Bisen</td>\n",
       "      <td>22-10-1988</td>\n",
       "      <td>2</td>\n",
       "      <td>32</td>\n",
       "      <td>False</td>\n",
       "      <td>2022-01-15 05:01:17.340</td>\n",
       "    </tr>\n",
       "    <tr>\n",
       "      <th>6</th>\n",
       "      <td>61e254f9f0a891badd4bb40d</td>\n",
       "      <td>Kumood</td>\n",
       "      <td>Bongale</td>\n",
       "      <td>22-10-1990</td>\n",
       "      <td>It</td>\n",
       "      <td>30</td>\n",
       "      <td>NaN</td>\n",
       "      <td>NaT</td>\n",
       "    </tr>\n",
       "  </tbody>\n",
       "</table>\n",
       "</div>"
      ],
      "text/plain": [
       "                        _id   fname    lname         dob dept  age  \\\n",
       "0  61d6c0cc03ac1431d51aea7b  Sachin   Kakade  22-10-1991    1   30   \n",
       "1  61d6c0cc03ac1431d51aea7c   Omkar   Potdar  22-10-1989   UI   31   \n",
       "2  61d6c0cc03ac1431d51aea7d   Sagar  Mahajan  22-10-1992    1   29   \n",
       "3  61d6c0cc03ac1431d51aea7e  Kishor   Shevkr  22-10-1990    3   30   \n",
       "4  61d6c0cc03ac1431d51aea7f  Kumood  Bongale  10-10-1998    2   33   \n",
       "5  61d6c0cc03ac1431d51aea80   Reshu    Bisen  22-10-1988    2   32   \n",
       "6  61e254f9f0a891badd4bb40d  Kumood  Bongale  22-10-1990   It   30   \n",
       "\n",
       "  experiansed            lastModified  \n",
       "0         NaN                     NaT  \n",
       "1       False                     NaT  \n",
       "2         NaN                     NaT  \n",
       "3         NaN                     NaT  \n",
       "4       False 2022-01-15 05:01:17.340  \n",
       "5       False 2022-01-15 05:01:17.340  \n",
       "6         NaN                     NaT  "
      ]
     },
     "execution_count": 5,
     "metadata": {},
     "output_type": "execute_result"
    }
   ],
   "source": [
    "import pandas as pd\n",
    "userList = callectionInfo.find()\n",
    "df = pd.DataFrame(userList)\n",
    "df"
   ]
  },
  {
   "cell_type": "code",
   "execution_count": null,
   "id": "9fdccbb3",
   "metadata": {},
   "outputs": [],
   "source": []
  }
 ],
 "metadata": {
  "kernelspec": {
   "display_name": "Python 3",
   "language": "python",
   "name": "python3"
  },
  "language_info": {
   "codemirror_mode": {
    "name": "ipython",
    "version": 3
   },
   "file_extension": ".py",
   "mimetype": "text/x-python",
   "name": "python",
   "nbconvert_exporter": "python",
   "pygments_lexer": "ipython3",
   "version": "3.8.8"
  }
 },
 "nbformat": 4,
 "nbformat_minor": 5
}
