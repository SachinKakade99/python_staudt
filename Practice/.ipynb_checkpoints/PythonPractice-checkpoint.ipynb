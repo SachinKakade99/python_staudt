{
 "cells": [
  {
   "cell_type": "markdown",
   "id": "2e037647",
   "metadata": {},
   "source": [
    "1. Tell me about youself and your projects you have done?\n",
    "2. What is python executing mode and diffrence between python and anyother language?\n",
    "4. Write a python program if the key is present in dict then it will print key is present otherwise it will append in it.\n",
    "6. How to delete a file in python?\n",
    "7. Diffrence between ittreable and generator?\n",
    "8. What is the use of self?\n",
    "24. What is the diffrent between python v2 and python v3\n",
    "25. what is pep8?\n",
    "26. have you deal ith json file?\n",
    "27. diffrence between pickling and unpickling?\n",
    "28. what is the use of global keyword in python?\n",
    "30. in view.py class?\n",
    "32. have you done any web scrapping?"
   ]
  },
  {
   "cell_type": "markdown",
   "id": "e8c4841d",
   "metadata": {},
   "source": [
    "### 2. What is python executing mode and diffrence between python and anyother language?\n",
    "1. Interactive mode (executing one by one instructions on command)\n",
    "2. Script mode (executing file with the code command)"
   ]
  },
  {
   "cell_type": "markdown",
   "id": "0e63dc1c",
   "metadata": {},
   "source": [
    "### 3. Data structures in python\n",
    "- Lists are used to store data of different data types in a sequential manner. Let us now understand lists better with the help of an example program."
   ]
  },
  {
   "cell_type": "code",
   "execution_count": null,
   "id": "42bd8227",
   "metadata": {},
   "outputs": [],
   "source": [
    "#### create lest\n",
    "- my_list = [] #create empty list\n",
    "- my_list = [1, 2, 3, 'example', 3.132] #creating list with data\n",
    "#### Add element\n",
    "- my_list.append([555, 12]) #add as a single element -> [1, 2, 3, 'example', 3.132,[555, 12]]\n",
    "- my_list.extend([234, 'more_example']) #add as different elements  -> [1, 2, 3, 'example', 3.132,234, 'more_example']\n",
    "- my_list.insert(1, 'insert_example') #add element i -> [1, 'insert_example', 2, 3, 'example', 3.132]\n",
    "#### delete element\n",
    "- del my_list[5] #delete element at index 5\n",
    "- my_list.remove('example') #remove element with value\n",
    "- a  = my_list.pop(1) #pop element from list [bydefault delet last element if no index specified]\n",
    "- my_list.clear() #empty the list"
   ]
  },
  {
   "cell_type": "markdown",
   "id": "2e6023b6",
   "metadata": {},
   "source": [
    "- Dictionaries are used to store key-value pairs. Let us understand this better with an example program."
   ]
  },
  {
   "cell_type": "code",
   "execution_count": null,
   "id": "7fb05b32",
   "metadata": {},
   "outputs": [],
   "source": [
    "my_dict = {} #empty dictionary\n",
    "my_dict = {1: 'Python', 2: 'Java'} #dictionary with elements\n",
    "my_dict = {'First': 'Python', 'Second': 'Java'}\n",
    "my_dict['Second'] = 'C++' #changing element\n",
    "my_dict['Third'] = 'Ruby' #adding key-value pair\n",
    "a = my_dict.pop('Third') #pop element [removie third]\n",
    "b = my_dict.popitem() #pop the key-value pair [removie last i.e second]\n",
    "my_dict.clear() #empty dictionary\n",
    "print(my_dict['First']) #access elements using keys\n",
    "print(my_dict.get('Second'))\n",
    "#### other function\n",
    "print(my_dict.keys()) #get keys\n",
    "print(my_dict.values()) #get values\n",
    "print(my_dict.items()) #get key-value pairs\n",
    "print(my_dict.get('First'))"
   ]
  },
  {
   "cell_type": "markdown",
   "id": "3f02c452",
   "metadata": {},
   "source": [
    "- Tuples are the same as lists are with the exception that the data once entered into the tuple cannot be changed no matter what. The only exception is when the data inside the tuple is mutable, only then the tuple data can be changed. The example program will help you understand better.\n",
    "- built-in immutable sequence.\n",
    "- If no argument is given, the constructor returns an empty tuple.\n",
    "- If iterable is specified the tuple is initialized from iterable's items."
   ]
  },
  {
   "cell_type": "code",
   "execution_count": null,
   "id": "8582dea3",
   "metadata": {},
   "outputs": [],
   "source": [
    "#### Creating a Tuple\n",
    "- my_tuple = (1, 2, 3) #create tuple\n",
    "#### access elements\n",
    "my_tuple2 = (1, 2, 3, 'edureka') \n",
    "for x in my_tuple2:\n",
    "    print(x)\n",
    "print(my_tuple2)\n",
    "print(my_tuple2[0])\n",
    "print(my_tuple2[:])\n",
    "print(my_tuple2[3][4])\n",
    "my_tuple = (1, 2, 3)\n",
    "my_tuple = my_tuple + (4, 5, 6) #add elements\n",
    "#### Othe function\n",
    "my_tuple = (1, 2, 3, ['hindi', 'python'])\n",
    "my_tuple[3][0] = 'english'\n",
    "print(my_tuple)\n",
    "print(my_tuple.count(2))\n",
    "print(my_tuple.index(['english', 'python']))"
   ]
  },
  {
   "cell_type": "markdown",
   "id": "82dd8b2f",
   "metadata": {},
   "source": [
    "- Sets are a collection of unordered elements that are unique. Meaning that even if the data is repeated more than one time, it would be entered into the set only once. It resembles the sets that you have learnt in arithmetic. The operations also are the same as is with the arithmetic sets. An example program would help you understand better."
   ]
  },
  {
   "cell_type": "code",
   "execution_count": null,
   "id": "ec47a796",
   "metadata": {},
   "outputs": [],
   "source": [
    "my_set = {1, 2, 3, 4, 5, 5, 5} #create set\n",
    "my_set.add(4) #add element to set\n",
    "#### set Opretions\n",
    "my_set = {1, 2, 3, 4}\n",
    "my_set_2 = {3, 4, 5, 6}\n",
    "print(my_set.union(my_set_2), '----------', my_set | my_set_2)\n",
    "print(my_set.intersection(my_set_2), '----------', my_set & my_set_2)\n",
    "print(my_set.difference(my_set_2), '----------', my_set - my_set_2)\n",
    "print(my_set.symmetric_difference(my_set_2), '----------', my_set ^ my_set_2)\n",
    "my_set.clear()\n",
    "print(my_set)"
   ]
  },
  {
   "cell_type": "markdown",
   "id": "15063016",
   "metadata": {},
   "source": [
    "### 3. What is diffrence in set & tupal & list?"
   ]
  },
  {
   "cell_type": "markdown",
   "id": "acc60079",
   "metadata": {},
   "source": [
    "### 5. How to mearge 2 list as kiy value create dictnary"
   ]
  },
  {
   "cell_type": "code",
   "execution_count": 9,
   "id": "79fb99d4",
   "metadata": {},
   "outputs": [
    {
     "data": {
      "text/plain": [
       "{'python': 1, 'java': 2, 'c': 3}"
      ]
     },
     "execution_count": 9,
     "metadata": {},
     "output_type": "execute_result"
    }
   ],
   "source": [
    "k=['python','java','c']\n",
    "v=[1,2,3]\n",
    "# op = list(zip(k,v))\n",
    "# op = tuple(zip(k,v))\n",
    "op = dict(zip(k,v))\n",
    "# op = {i:j for (i,j) in zip(k,v)}\n",
    "op"
   ]
  },
  {
   "cell_type": "markdown",
   "id": "ad513d2e",
   "metadata": {},
   "source": [
    "### 6. display the capital latters"
   ]
  },
  {
   "cell_type": "code",
   "execution_count": 2,
   "id": "0939bd62",
   "metadata": {},
   "outputs": [
    {
     "name": "stdout",
     "output_type": "stream",
     "text": [
      "['M', 'N', 'I', 'S']\n",
      "selcted chars :- M N I S\n"
     ]
    }
   ],
   "source": [
    "test_str = \"MyNameIsSachin\"\n",
    "print([char for char in test_str if char.isupper()])\n",
    "print(\"selcted chars :- \"+\" \".join([char for char in test_str if char.isupper()]))"
   ]
  },
  {
   "cell_type": "markdown",
   "id": "83b9d12f",
   "metadata": {},
   "source": [
    "### 7. Assing maltipal variables"
   ]
  },
  {
   "cell_type": "code",
   "execution_count": 3,
   "id": "28842e39",
   "metadata": {},
   "outputs": [
    {
     "name": "stdout",
     "output_type": "stream",
     "text": [
      "(10, 20, 30)\n",
      "10 20 30\n"
     ]
    }
   ],
   "source": [
    "a=10,20,30\n",
    "print(a)\n",
    "a,b,c = 10,20,30\n",
    "print(a,b,c)"
   ]
  },
  {
   "cell_type": "markdown",
   "id": "c7da7c5a",
   "metadata": {},
   "source": [
    "### 8. canvart list of list in singal list"
   ]
  },
  {
   "cell_type": "code",
   "execution_count": 4,
   "id": "d241a397",
   "metadata": {},
   "outputs": [
    {
     "data": {
      "text/plain": [
       "[1, 2, 3, 4, 5, 6]"
      ]
     },
     "execution_count": 4,
     "metadata": {},
     "output_type": "execute_result"
    }
   ],
   "source": [
    "p=[[1,2,3],[4,5,6]]\n",
    "[j for i in p for j in i]"
   ]
  },
  {
   "cell_type": "markdown",
   "id": "37b5f5f2",
   "metadata": {},
   "source": [
    "### 9. find valid emails"
   ]
  },
  {
   "cell_type": "code",
   "execution_count": 11,
   "id": "74409111",
   "metadata": {},
   "outputs": [
    {
     "name": "stdout",
     "output_type": "stream",
     "text": [
      "Invalid Email\n"
     ]
    }
   ],
   "source": [
    "import re\n",
    "\n",
    "emails = ['qwe@gmail.com','asd@yahoo.com','zxc@gmail,com','qws@qwe@.in','qwsx!sde.com']\n",
    "#list(filter(lambda str:(str.find('@')>0)and(str.find('.')>0),emails))\n",
    "\n",
    "regex = r'\\b[A-Za-z0-9._%+-]+@[A-Za-z0-9.-]+\\.[A-Z|a-z]{2,}\\b'\n",
    "def check(email):\n",
    "    if(re.fullmatch(regex, email)):\n",
    "        print(\"Valid Email\")\n",
    "    else:\n",
    "        print(\"Invalid Email\")\n",
    "        \n",
    "check('qws@qwe@.in')"
   ]
  },
  {
   "cell_type": "markdown",
   "id": "ff82abab",
   "metadata": {},
   "source": [
    "### 10: list of dictionary sort by age."
   ]
  },
  {
   "cell_type": "code",
   "execution_count": 6,
   "id": "241925f7",
   "metadata": {},
   "outputs": [
    {
     "name": "stdout",
     "output_type": "stream",
     "text": [
      "The list printed sorting by age: \n",
      "[{'name': 'Nikhil', 'age': 19}, {'name': 'Nandini', 'age': 20}, {'name': 'Manjeet', 'age': 20}]\n",
      "The list printed sorting by age and name: \n",
      "[{'name': 'Nikhil', 'age': 19}, {'name': 'Manjeet', 'age': 20}, {'name': 'Nandini', 'age': 20}]\n",
      "The list printed sorting by age in descending order: \n",
      "[{'name': 'Nandini', 'age': 20}, {'name': 'Manjeet', 'age': 20}, {'name': 'Nikhil', 'age': 19}]\n"
     ]
    }
   ],
   "source": [
    "lis = [{ \"name\" : \"Nandini\", \"age\" : 20},{ \"name\" : \"Manjeet\", \"age\" : 20 },{ \"name\" : \"Nikhil\" , \"age\" : 19 }]\n",
    "\n",
    "print (\"The list printed sorting by age: \")\n",
    "print (sorted(lis, key = lambda i: i['age']))\n",
    "\n",
    "print (\"The list printed sorting by age and name: \")\n",
    "print (sorted(lis, key = lambda i: (i['age'], i['name'])))\n",
    "\n",
    "print (\"The list printed sorting by age in descending order: \")\n",
    "print (sorted(lis, key = lambda i: i['age'],reverse=True))"
   ]
  },
  {
   "cell_type": "markdown",
   "id": "ee68f4cc",
   "metadata": {},
   "source": [
    "### 11: convert multiple list into single"
   ]
  },
  {
   "cell_type": "code",
   "execution_count": 7,
   "id": "3f6bec0f",
   "metadata": {},
   "outputs": [
    {
     "name": "stdout",
     "output_type": "stream",
     "text": [
      "['This', 'is', 'a', 'sample', 'program', 10, 2, 45, 3, 5, 7, 8, 10]\n"
     ]
    }
   ],
   "source": [
    "list_1 = [\"This\" , \"is\", \"a\", \"sample\", \"program\"]\n",
    "list_2 = [10, 2, 45, 3, 5, 7, 8, 10]\n",
    "\n",
    "final_list = list_1 + list_2\n",
    "print(final_list)\n",
    "\n",
    "# list_1.extend(list_2)\n",
    "# print(list_1)\n",
    "\n",
    "# final_list = [*list_1, *list_2]\n",
    "# print(final_list)"
   ]
  },
  {
   "cell_type": "markdown",
   "id": "8aa1e463",
   "metadata": {},
   "source": [
    "### 12: find even and odd number and sum of element in the list "
   ]
  },
  {
   "cell_type": "code",
   "execution_count": 8,
   "id": "fd0f0414",
   "metadata": {},
   "outputs": [
    {
     "name": "stdout",
     "output_type": "stream",
     "text": [
      "Odd digit sum : 9\n",
      "Even digit sum : 12\n"
     ]
    }
   ],
   "source": [
    "test_list = [1, 2, 3, 4, 5, 6]\n",
    "odd_sum = 0\n",
    "even_sum = 0\n",
    "\n",
    "# for sub in test_list:\n",
    "#    odd_sum += sum([int(ele) for ele in str(sub) if int(ele) % 2 == 1])\n",
    "#    even_sum += sum([int(ele) for ele in str(sub) if int(ele) % 2 == 0])\n",
    "\n",
    "odd_sum = sum( ele for ele in test_list if ele % 2 == 1)\n",
    "even_sum = sum( ele for ele in test_list if ele % 2 ==  0)\n",
    "\n",
    "# for ele in test_list:\n",
    "#    if ele % 2 == 0:\n",
    "#        even_sum += ele\n",
    "#    else:\n",
    "#        odd_sum += ele\n",
    "print(\"Odd digit sum : \" + str(odd_sum))\n",
    "print(\"Even digit sum : \" + str(even_sum))"
   ]
  },
  {
   "cell_type": "markdown",
   "id": "79e8ce10",
   "metadata": {},
   "source": [
    "### 13: class and object"
   ]
  },
  {
   "cell_type": "code",
   "execution_count": 9,
   "id": "3d5ccbb2",
   "metadata": {},
   "outputs": [
    {
     "name": "stdout",
     "output_type": "stream",
     "text": [
      "Mr Employee\n",
      "Hello I am Mr Employee\n"
     ]
    }
   ],
   "source": [
    "class InterviewbitEmployee:\n",
    "   def __init__(self, emp_name):\n",
    "       self.emp_name = emp_name\n",
    "       \n",
    "   def introduce(self):\n",
    "       print(\"Hello I am \" + self.emp_name)\n",
    "# create an object of InterviewbitEmployee class\n",
    "emp_1 = InterviewbitEmployee(\"Mr Employee\")\n",
    "print(emp_1.emp_name)    #print employee name\n",
    "emp_1.introduce()        #introduce the employee"
   ]
  },
  {
   "cell_type": "markdown",
   "id": "88511f3a",
   "metadata": {},
   "source": [
    "### 14: Expecting a function to find the numbers divisible by 7 but not multiple of 5 between 2000 and 3200(both included) and printing a result numbers in comma separated new lines."
   ]
  },
  {
   "cell_type": "code",
   "execution_count": 10,
   "id": "a402423c",
   "metadata": {},
   "outputs": [
    {
     "name": "stdout",
     "output_type": "stream",
     "text": [
      "1 2 3 4 5 "
     ]
    }
   ],
   "source": [
    "for i in range(1,6):\n",
    "    print(i,end=\" \")"
   ]
  },
  {
   "cell_type": "code",
   "execution_count": 11,
   "id": "597fe224",
   "metadata": {},
   "outputs": [
    {
     "name": "stdout",
     "output_type": "stream",
     "text": [
      "2002, 2009, 2016, 2023, 2037, 2044, 2051, 2058, 2072, 2079, 2086, 2093, 2107, 2114, 2121, 2128, 2142, 2149, 2156, 2163, 2177, 2184, 2191, 2198, 2212, 2219, 2226, 2233, 2247, 2254, 2261, 2268, 2282, 2289, 2296, 2303, 2317, 2324, 2331, 2338, 2352, 2359, 2366, 2373, 2387, 2394, 2401, 2408, 2422, 2429, 2436, 2443, 2457, 2464, 2471, 2478, 2492, 2499, 2506, 2513, 2527, 2534, 2541, 2548, 2562, 2569, 2576, 2583, 2597, 2604, 2611, 2618, 2632, 2639, 2646, 2653, 2667, 2674, 2681, 2688, 2702, 2709, 2716, 2723, 2737, 2744, 2751, 2758, 2772, 2779, 2786, 2793, 2807, 2814, 2821, 2828, 2842, 2849, 2856, 2863, 2877, 2884, 2891, 2898, 2912, 2919, 2926, 2933, 2947, 2954, 2961, 2968, 2982, 2989, 2996, 3003, 3017, 3024, 3031, 3038, 3052, 3059, 3066, 3073, 3087, 3094, 3101, 3108, 3122, 3129, 3136, 3143, 3157, 3164, 3171, 3178, 3192, 3199, "
     ]
    }
   ],
   "source": [
    "def calculet():\n",
    "    for i in range(2000,3201):\n",
    "        if (i%7==0) and (i%5!=0):\n",
    "            print(i,end=\", \")\n",
    "calculet()"
   ]
  },
  {
   "cell_type": "markdown",
   "id": "a38638a3",
   "metadata": {},
   "source": [
    "### 15: pyramid"
   ]
  },
  {
   "cell_type": "code",
   "execution_count": null,
   "id": "0e8ba267",
   "metadata": {},
   "outputs": [],
   "source": []
  },
  {
   "cell_type": "markdown",
   "id": "572e44da",
   "metadata": {},
   "source": [
    "### 17: create class and take two variable and convert into dictionary"
   ]
  },
  {
   "cell_type": "code",
   "execution_count": 13,
   "id": "6720b4d6",
   "metadata": {},
   "outputs": [
    {
     "data": {
      "text/plain": [
       "{'b': 1, 'c': 2}"
      ]
     },
     "execution_count": 13,
     "metadata": {},
     "output_type": "execute_result"
    }
   ],
   "source": [
    "class A(object):\n",
    "    def __init__(self):\n",
    "        self.b = 1\n",
    "        self.c = 2\n",
    "a = A()\n",
    "a.__dict__"
   ]
  },
  {
   "cell_type": "markdown",
   "id": "3bdc0a34",
   "metadata": {},
   "source": [
    "### 18: Remove duplicate element in list/array"
   ]
  },
  {
   "cell_type": "code",
   "execution_count": 14,
   "id": "bbb725e9",
   "metadata": {},
   "outputs": [
    {
     "name": "stdout",
     "output_type": "stream",
     "text": [
      "The list after removing duplicates: [11, 13, 15, 16]\n",
      "The list after removing duplicates: [16, 11, 13, 15]\n"
     ]
    }
   ],
   "source": [
    "sam_list = [11, 13, 15, 16, 13, 15, 16, 11] \n",
    "# removing duplicated from the list using list comprehension \n",
    "result = [] \n",
    "[result.append(x) for x in sam_list if x not in result] \n",
    "print (\"The list after removing duplicates: \" + str(result))\n",
    "\n",
    "# removing duplicated from the list using set() \n",
    "sam_list = [11, 15, 13, 16, 13, 15, 16, 11] \n",
    "sam_list = list(set(sam_list)) \n",
    "print (\"The list after removing duplicates: \" + str(sam_list)) "
   ]
  },
  {
   "cell_type": "markdown",
   "id": "6bde9f4d",
   "metadata": {},
   "source": [
    "### 19: program to print duplicate numbers in a given list"
   ]
  },
  {
   "cell_type": "code",
   "execution_count": 15,
   "id": "c3556fd6",
   "metadata": {},
   "outputs": [
    {
     "name": "stdout",
     "output_type": "stream",
     "text": [
      "Duplicate elements in given array: \n",
      "2\n",
      "3\n",
      "8\n"
     ]
    }
   ],
   "source": [
    "arr = [1, 2, 3, 4, 2, 7, 8, 8, 3];     \n",
    "     \n",
    "print(\"Duplicate elements in given array: \");    \n",
    "#Searches for duplicate element    \n",
    "for i in range(0, len(arr)):    \n",
    "    for j in range(i+1, len(arr)):    \n",
    "        if(arr[i] == arr[j]):    \n",
    "            print(arr[i]);    "
   ]
  },
  {
   "cell_type": "markdown",
   "id": "3b8e4689",
   "metadata": {},
   "source": [
    "### 20: Print fibonacci seris"
   ]
  },
  {
   "cell_type": "code",
   "execution_count": 16,
   "id": "0393875d",
   "metadata": {},
   "outputs": [
    {
     "name": "stdout",
     "output_type": "stream",
     "text": [
      "0 1 1 2 "
     ]
    }
   ],
   "source": [
    "def fibonacci(n):\n",
    "    if(n<1):\n",
    "        print('give valid number')\n",
    "        return\n",
    "    a=0\n",
    "    b=1\n",
    "    print(a,end=\" \")\n",
    "    print(b,end=\" \")\n",
    "    for i in range(2,n):\n",
    "        c = a + b\n",
    "        a = b\n",
    "        b = c\n",
    "        print(c,end=\" \")\n",
    "#     for i in range(n):\n",
    "#         print(a,end=\" \")\n",
    "#         a=a+b\n",
    "#         b=a-b\n",
    "#         b-a-b\n",
    "fibonacci(4)"
   ]
  },
  {
   "cell_type": "markdown",
   "id": "e522fc11",
   "metadata": {},
   "source": [
    "### 16: find second smallest element in list or array."
   ]
  },
  {
   "cell_type": "code",
   "execution_count": 17,
   "id": "4b52d5c1",
   "metadata": {},
   "outputs": [
    {
     "name": "stdout",
     "output_type": "stream",
     "text": [
      "13\n"
     ]
    }
   ],
   "source": [
    "# arr = [11, 10, 13, 17,  34, 21]\n",
    "# first = arr[0]\n",
    "# second = arr[1]\n",
    "# for i in range(0, len(arr)):\n",
    "#   if arr[i] < first:\n",
    "#     second = first\n",
    "#     first = arr[i]\n",
    "#   elif (arr[i] < second and arr[i] != first):\n",
    "#     second = arr[i];\n",
    "# print(second)\n",
    "\n",
    "arr = [10, 13, 17, 11, 34, 21]\n",
    "arr.sort();\n",
    "print(arr[2])"
   ]
  },
  {
   "cell_type": "markdown",
   "id": "ccd8af3f",
   "metadata": {},
   "source": [
    "### 17: find second largest element in list or array."
   ]
  },
  {
   "cell_type": "code",
   "execution_count": 18,
   "id": "f4a35b03",
   "metadata": {},
   "outputs": [
    {
     "name": "stdout",
     "output_type": "stream",
     "text": [
      "21\n"
     ]
    }
   ],
   "source": [
    "# arr = [11, 10, 13, 17,  34, 21]\n",
    "# first = arr[0]\n",
    "# second = arr[1]\n",
    "# for i in range(0, len(arr)):\n",
    "#   if arr[i] > first:\n",
    "#     second = first\n",
    "#     first = arr[i]\n",
    "#   elif (arr[i] > second and arr[i] != first):\n",
    "#     second = arr[i];\n",
    "# print(second)\n",
    "\n",
    "arr = [10, 13, 17, 11, 34, 21]\n",
    "# arr.sort();\n",
    "# print(arr[-2])\n",
    "arr.sort(reverse=True)\n",
    "print(arr[1])"
   ]
  },
  {
   "cell_type": "markdown",
   "id": "395c8817",
   "metadata": {},
   "source": [
    "### 18: order descending"
   ]
  },
  {
   "cell_type": "code",
   "execution_count": 19,
   "id": "a2e49183",
   "metadata": {},
   "outputs": [
    {
     "name": "stdout",
     "output_type": "stream",
     "text": [
      "['u', 'o', 'i', 'e', 'a']\n"
     ]
    }
   ],
   "source": [
    "vowels = ['e', 'a', 'u', 'o', 'i']\n",
    "vowels.sort(reverse=True)\n",
    "print(vowels)"
   ]
  },
  {
   "cell_type": "markdown",
   "id": "9364e593",
   "metadata": {},
   "source": [
    "### 19: Reverse Dictionary Keys Order Using reversed() + items()"
   ]
  },
  {
   "cell_type": "code",
   "execution_count": 20,
   "id": "3634ce64",
   "metadata": {},
   "outputs": [
    {
     "name": "stdout",
     "output_type": "stream",
     "text": [
      "[0, 1, 3, 4]\n",
      "<list_reverseiterator object at 0x0000021B8AD86550>\n"
     ]
    },
    {
     "data": {
      "text/plain": [
       "[4, 3, 1, 0]"
      ]
     },
     "execution_count": 20,
     "metadata": {},
     "output_type": "execute_result"
    }
   ],
   "source": [
    "a = {0:'000000',1:'11111',3:'333333',4:'444444'}\n",
    "# print(a.keys())\n",
    "print(sorted(a.keys()))\n",
    "print(reversed(sorted(a.keys())))\n",
    "list(reversed(sorted(a.keys())))\n"
   ]
  },
  {
   "cell_type": "markdown",
   "id": "42b22fbe",
   "metadata": {},
   "source": [
    "### 20: Reverse Dictionary Keys and display tuple of list"
   ]
  },
  {
   "cell_type": "code",
   "execution_count": 21,
   "id": "cebf1670",
   "metadata": {},
   "outputs": [
    {
     "name": "stdout",
     "output_type": "stream",
     "text": [
      "[('James', 'Dog'), ('Jared', 'Giraffe'), ('Jenny', 'Dog'), ('Jerome', 'Lion'), ('Jane', 'Cat'), ('John', 'Dog')]\n"
     ]
    }
   ],
   "source": [
    "favAnimal = {\n",
    "  \"John\": \"Dog\",\n",
    "  \"Jane\": \"Cat\",\n",
    "  \"Jerome\": \"Lion\",\n",
    "  \"Jenny\": \"Dog\",\n",
    "  \"Jared\": \"Giraffe\",\n",
    "  \"James\": \"Dog\"\n",
    "}\n",
    "\n",
    "# mlist = favAnimal.items()\n",
    "# print(mlist)\n",
    "\n",
    "# Reverse each tuple in a list of tuples\n",
    "myList = [(k, v) for k, v in favAnimal.items()]\n",
    "#riv = [ele for ele in reversed(myList)]\n",
    "riv = myList[::-1]\n",
    "print(riv)"
   ]
  },
  {
   "cell_type": "markdown",
   "id": "75b36b45",
   "metadata": {},
   "source": [
    "### 21: changes key value as value key in dictionary."
   ]
  },
  {
   "cell_type": "code",
   "execution_count": 22,
   "id": "4cc8a081",
   "metadata": {},
   "outputs": [
    {
     "name": "stdout",
     "output_type": "stream",
     "text": [
      "{'Dog': 'James', 'Cat': 'Jane', 'Lion': 'Jerome', 'Giraffe': 'Jared'}\n"
     ]
    }
   ],
   "source": [
    "favAnimal = {v: k for k, v in favAnimal.items()}\n",
    "print(favAnimal)"
   ]
  },
  {
   "cell_type": "markdown",
   "id": "c3a96d45",
   "metadata": {},
   "source": [
    "### 22: Python3 program to find the a contiguous pair from the which has the largest sum"
   ]
  },
  {
   "cell_type": "code",
   "execution_count": 23,
   "id": "3cbda7a6",
   "metadata": {},
   "outputs": [
    {
     "name": "stdout",
     "output_type": "stream",
     "text": [
      "Max Pair Sum is 55\n"
     ]
    }
   ],
   "source": [
    "arr = [11, 10, 13, 17,  34, 21]\n",
    "if arr[0] > arr[1]:\n",
    "    first = arr[0]\n",
    "    second = arr[1]\n",
    "else:\n",
    "    first = arr[1]\n",
    "    second = arr[0]\n",
    "for i in range(2, len(arr)):\n",
    "    if arr[i] > first:\n",
    "        second = first\n",
    "        first = arr[i]\n",
    "    elif arr[i] > second and arr[i] != first:\n",
    "        second = arr[i]\n",
    "print(\"Max Pair Sum is\",first+second)"
   ]
  },
  {
   "cell_type": "markdown",
   "id": "71b9a98e",
   "metadata": {},
   "source": [
    "### 23: # addition of two number using lambda"
   ]
  },
  {
   "cell_type": "code",
   "execution_count": 24,
   "id": "420c5969",
   "metadata": {},
   "outputs": [
    {
     "name": "stdout",
     "output_type": "stream",
     "text": [
      "Sum is: 30\n"
     ]
    }
   ],
   "source": [
    "a = lambda x, y: x + y\n",
    "# result = a(10, 20)\n",
    "print(\"Sum is:\",  a(10, 20))"
   ]
  },
  {
   "cell_type": "markdown",
   "id": "33e9b3a0",
   "metadata": {},
   "source": [
    "### 24: Reverse the string “hello world” [slicing]"
   ]
  },
  {
   "cell_type": "code",
   "execution_count": 25,
   "id": "3a3c3abf",
   "metadata": {},
   "outputs": [
    {
     "name": "stdout",
     "output_type": "stream",
     "text": [
      "dlroW olleH\n"
     ]
    }
   ],
   "source": [
    "txt = \"Hello World\"[::-1]\n",
    "print(txt)"
   ]
  },
  {
   "cell_type": "markdown",
   "id": "5752be50",
   "metadata": {},
   "source": [
    "### 25: remove duplicate character from string"
   ]
  },
  {
   "cell_type": "code",
   "execution_count": 26,
   "id": "fe408774",
   "metadata": {},
   "outputs": [
    {
     "data": {
      "text/plain": [
       "'tpm'"
      ]
     },
     "execution_count": 26,
     "metadata": {},
     "output_type": "execute_result"
    }
   ],
   "source": [
    "foo='mppmt'\n",
    "''.join(set(foo))"
   ]
  },
  {
   "cell_type": "markdown",
   "id": "1b7bb86f",
   "metadata": {},
   "source": [
    "### 26: check valid form form date like dd/mm/yyyy"
   ]
  },
  {
   "cell_type": "code",
   "execution_count": 27,
   "id": "dd86db9e",
   "metadata": {},
   "outputs": [],
   "source": [
    "import datetime\n",
    "def validate(date_text):\n",
    "    try:\n",
    "        datetime.datetime.strptime(date_text, '%d/%m/%Y')\n",
    "    except ValueError:\n",
    "        raise ValueError(\"Incorrect data format, should be DD/MM/YYYY\")\n",
    "\n",
    "# validate('22-10-1991')\n",
    "validate('22/10/1991')\n"
   ]
  },
  {
   "cell_type": "markdown",
   "id": "fbbfe1c5",
   "metadata": {},
   "source": [
    "### 27: Program to multiply two matrices using list comprehension"
   ]
  },
  {
   "cell_type": "code",
   "execution_count": 30,
   "id": "6a6d791c",
   "metadata": {},
   "outputs": [],
   "source": [
    "# 3x3 matrix\n",
    "X = [[12,7,3],\n",
    "    [4 ,5,6],\n",
    "    [7 ,8,9]]\n",
    "# 3x4 matrix\n",
    "Y = [[5,8,1],\n",
    "    [6,7,3],\n",
    "    [4,5,9]]\n",
    "\n",
    "# Program to multiply two matrices using list comprehension\n",
    "# result = [[sum(a*b for a,b in zip(X_row,Y_col)) for Y_col in zip(*Y)] for X_row in X]\n",
    "\n",
    "# # result is 3x4\n",
    "# result = [[0,0,0,0],\n",
    "#          [0,0,0,0],\n",
    "#          [0,0,0,0]]\n",
    "\n",
    "# # Program to multiply two matrices using nested loops\n",
    "# # iterate through rows of X\n",
    "# for i in range(len(X)):\n",
    "#    # iterate through columns of Y\n",
    "#    for j in range(len(Y[0])):\n",
    "#        # iterate through rows of Y\n",
    "#        for k in range(len(Y)):\n",
    "#            result[i][j] += X[i][k] * Y[k][j]\n",
    "\n",
    "# result= np.dot(X,Y)\n",
    "\n",
    "# for r in result:\n",
    "#    print(r)"
   ]
  },
  {
   "cell_type": "markdown",
   "id": "1be15ffb",
   "metadata": {},
   "source": [
    "### 28:  Have you done any program in decorator, what is dacorator, where we use it and example.\n",
    "- Error hanadle with the help decorator \n",
    "- Decorators in Python are essentially functions that add functionality to an existing function in Python without changing the structure of the function itself. They are represented the @decorator_name in Python and are called in a bottom-up fashion."
   ]
  },
  {
   "cell_type": "code",
   "execution_count": 31,
   "id": "3b4369e4",
   "metadata": {},
   "outputs": [
    {
     "name": "stdout",
     "output_type": "stream",
     "text": [
      "4.5\n",
      "196\n",
      "0.5\n",
      "Square wrong data types. enter numeric\n",
      "Divide wrong data types. enter numeric\n",
      "Mean wrong data types. enter numeric\n"
     ]
    }
   ],
   "source": [
    "\n",
    "def Error_Handler(func):\n",
    "    def Inner_Function(*args, **kwargs):\n",
    "        try:\n",
    "            func(*args, **kwargs)\n",
    "        except TypeError:\n",
    "            print(f\"{func.__name__} wrong data types. enter numeric\")\n",
    "    return Inner_Function\n",
    "@Error_Handler\n",
    "def Mean(a,b):\n",
    "    print((a+b)/2)\n",
    "     \n",
    "@Error_Handler\n",
    "def Square(sq):\n",
    "    print(sq*sq)\n",
    "\n",
    "@Error_Handler\n",
    "def Divide(l,b):\n",
    "    print(b/l)\n",
    "     \n",
    "Mean(4,5)\n",
    "Square(14)\n",
    "Divide(8,4)\n",
    "Square(\"three\")\n",
    "Divide(\"two\",\"one\")\n",
    "Mean(\"six\",\"five\")"
   ]
  },
  {
   "cell_type": "markdown",
   "id": "7399800a",
   "metadata": {},
   "source": [
    "### 29: string to lowercase and uppercase using decorator"
   ]
  },
  {
   "cell_type": "code",
   "execution_count": 32,
   "id": "1c9dc4b3",
   "metadata": {},
   "outputs": [
    {
     "name": "stdout",
     "output_type": "stream",
     "text": [
      "terrier\n"
     ]
    }
   ],
   "source": [
    "def lower_output(func):\n",
    "    def wrapper(*args, **kwargs):\n",
    "        return func(*args, **kwargs).lower()\n",
    "    return wrapper\n",
    "\n",
    "@lower_output\n",
    "def get_breed(str):\n",
    "    return str\n",
    "\n",
    "print(get_breed('TeRrIer'))"
   ]
  },
  {
   "cell_type": "markdown",
   "id": "00286ba2",
   "metadata": {},
   "source": [
    "### 30: Diffrence between shallow copy and hard copy?\n",
    "- Deep copy is a process in which the copying process occurs recursively. It means first constructing a new collection object and then recursively populating it with copies of the child objects found in the original. In case of deep copy, a copy of object is copied in other object. It means that any changes made to a copy of object do not reflect in the original object. In python, this is implemented using “deepcopy()” function.\n",
    "- A shallow copy means constructing a new collection object and then populating it with references to the child objects found in the original. The copying process does not recurse and therefore won’t create copies of the child objects themselves. In case of shallow copy, a reference of object is copied in other object. It means that any changes made to a copy of object do reflect in the original object. In python, this is implemented using “copy()” function."
   ]
  },
  {
   "cell_type": "code",
   "execution_count": 33,
   "id": "144b2d60",
   "metadata": {},
   "outputs": [],
   "source": [
    "\n",
    "import copy\n",
    "li1 = [1, 2, 3,5, 4]\n",
    "li2 = copy.deepcopy(li1)\n",
    "li3 = copy.copy(li1)"
   ]
  },
  {
   "cell_type": "markdown",
   "id": "7a696641",
   "metadata": {},
   "source": [
    "### 31: is String palindrom or not"
   ]
  },
  {
   "cell_type": "code",
   "execution_count": 34,
   "id": "c5c37f03",
   "metadata": {},
   "outputs": [
    {
     "name": "stdout",
     "output_type": "stream",
     "text": [
      "Not a Palindrome\n"
     ]
    }
   ],
   "source": [
    "a='abcde'\n",
    "b=a[::-1]\n",
    "if a==b:\n",
    "  print(\"palindrome\")\n",
    "else:\n",
    "  print(\"Not a Palindrome\")"
   ]
  },
  {
   "cell_type": "markdown",
   "id": "746879ec",
   "metadata": {},
   "source": [
    "### 32: pick the random carater for the list from the given list"
   ]
  },
  {
   "cell_type": "code",
   "execution_count": 35,
   "id": "4eb584e5",
   "metadata": {},
   "outputs": [
    {
     "name": "stdout",
     "output_type": "stream",
     "text": [
      "[0, 3, 1, 4, 2]\n",
      "2\n",
      "20\n"
     ]
    }
   ],
   "source": [
    "import random\n",
    "\n",
    "l = [0, 1, 2, 3, 4]\n",
    "\n",
    "print(random.sample(l, 5))\n",
    "print(random.choice(l))\n",
    "print(random.randrange(20, 50, 3))"
   ]
  },
  {
   "cell_type": "markdown",
   "id": "5dd72e64",
   "metadata": {},
   "source": [
    "### 33: count the duplicate charecter from string print output in the form of kays and values"
   ]
  },
  {
   "cell_type": "code",
   "execution_count": 36,
   "id": "7dca0764",
   "metadata": {},
   "outputs": [
    {
     "name": "stdout",
     "output_type": "stream",
     "text": [
      "{'a': 4, 'M': 1, 'r': 1, 'y': 1, ' ': 4, 'h': 1, 'd': 1, 'l': 3, 'i': 1, 't': 2, 'e': 1, 'm': 1, 'b': 1}\n"
     ]
    }
   ],
   "source": [
    "# import collections\n",
    "# import pprint\n",
    "# with open(\"test.txt\", 'r') as data:\n",
    "#  count_data = collections.Counter(data.read().upper())\n",
    "#  count_value = pprint.pformat(count_data)\n",
    "# print(count_value)\n",
    "\n",
    "text = 'Mary had a little lamb'\n",
    "#chars = defaultdict(int)\n",
    "chars = {'a':0}\n",
    "\n",
    "for char in text:\n",
    "    if char in chars:\n",
    "        chars[char] += 1\n",
    "    else:\n",
    "        chars[char]=1\n",
    "    \n",
    "print(chars)"
   ]
  },
  {
   "cell_type": "markdown",
   "id": "075a12ab",
   "metadata": {},
   "source": [
    "### 34: What is slicing in Python?"
   ]
  },
  {
   "cell_type": "code",
   "execution_count": 37,
   "id": "9a5ff1a5",
   "metadata": {},
   "outputs": [
    {
     "name": "stdout",
     "output_type": "stream",
     "text": [
      "[2, 3, 4]\n"
     ]
    }
   ],
   "source": [
    "#Syntax for slicing is [start : stop : step]\n",
    "numbers = [0, 1, 2, 3, 4, 5, 6, 7, 8, 9, 10]\n",
    "print(numbers[2 : 5])\n",
    "# print(numbers[  : 3])\n",
    "# print(numbers[2 : ])\n",
    "# print(numbers[  : : 2])\n",
    "# print(numbers[1 : : 2])\n",
    "# print(numbers[  : : -1])\n",
    "# print(numbers[  : : -2])\n",
    "# print(numbers[1 :  : -2])\n",
    "# print(numbers[6 : 1 : -1])"
   ]
  },
  {
   "cell_type": "markdown",
   "id": "e6be681f",
   "metadata": {},
   "source": [
    "### 35 Write a program in Python to produce Star triangle."
   ]
  },
  {
   "cell_type": "code",
   "execution_count": 38,
   "id": "90c25fc6",
   "metadata": {
    "scrolled": true
   },
   "outputs": [
    {
     "name": "stdout",
     "output_type": "stream",
     "text": [
      "    *\n",
      "   ***\n",
      "  *****\n",
      " *******\n",
      "*********\n",
      "---------- 1 -----------\n",
      "\n",
      "*\n",
      "**\n",
      "***\n",
      "****\n",
      "---------- 2 -----------\n",
      "     \n",
      "     *\n",
      "    * *\n",
      "   * * *\n",
      "  * * * *\n",
      "---------- 3 -----------\n",
      "     \n",
      "     *\n",
      "    * *\n",
      "   * * *\n",
      "  * * * *\n",
      " * * * * *\n",
      "  * * * *\n",
      "   * * *\n",
      "    * *\n",
      "     *\n"
     ]
    }
   ],
   "source": [
    "def pyfunc(n):\n",
    "    for i in range(n):\n",
    "        print(' '*(n-i-1)+'*'*(2*i+1))    \n",
    "pyfunc(5)\n",
    "print('---------- 1 -----------')\n",
    "def pyfunc(n):\n",
    "    for i in range(n):\n",
    "        print('*'*i)  \n",
    "pyfunc(5)\n",
    "print('---------- 2 -----------')\n",
    "def pyfunc(n):\n",
    "    for i in range(n):\n",
    "        print(' '*(n-i)+' *'*i)  \n",
    "pyfunc(5)\n",
    "print('---------- 3 -----------')\n",
    "def pyfunc(n):\n",
    "    for x in range(r):\n",
    "        print(' '*(r-x)+' *'*x) \n",
    "    for x in range(r):\n",
    "        print(' '*x+' *'*(r-x))\n",
    "pyfunc(5)"
   ]
  },
  {
   "cell_type": "markdown",
   "id": "92d5dd3a",
   "metadata": {},
   "source": [
    "\n"
   ]
  },
  {
   "cell_type": "code",
   "execution_count": null,
   "id": "bd113a83",
   "metadata": {},
   "outputs": [],
   "source": []
  }
 ],
 "metadata": {
  "kernelspec": {
   "display_name": "Python 3 (ipykernel)",
   "language": "python",
   "name": "python3"
  },
  "language_info": {
   "codemirror_mode": {
    "name": "ipython",
    "version": 3
   },
   "file_extension": ".py",
   "mimetype": "text/x-python",
   "name": "python",
   "nbconvert_exporter": "python",
   "pygments_lexer": "ipython3",
   "version": "3.9.7"
  }
 },
 "nbformat": 4,
 "nbformat_minor": 5
}
