{
 "cells": [
  {
   "cell_type": "markdown",
   "id": "87d25869",
   "metadata": {},
   "source": [
    "1. In django how we configure database? if databse is not in same host?\n",
    "2. Diffrence between makemigration and migrate?\n",
    "3. what is admin panal in django?\n",
    "4. what is HTTP method? diffrence between put and post method.\n",
    "5. what is idempotent?\n",
    "6. Suppose a user enter data then how we can take that data into the view?\n",
    "7. have you done any validation?\n",
    "8. which framework django follows?"
   ]
  },
  {
   "cell_type": "code",
   "execution_count": null,
   "id": "00bf03c4",
   "metadata": {},
   "outputs": [],
   "source": []
  }
 ],
 "metadata": {
  "kernelspec": {
   "display_name": "Python 3 (ipykernel)",
   "language": "python",
   "name": "python3"
  },
  "language_info": {
   "codemirror_mode": {
    "name": "ipython",
    "version": 3
   },
   "file_extension": ".py",
   "mimetype": "text/x-python",
   "name": "python",
   "nbconvert_exporter": "python",
   "pygments_lexer": "ipython3",
   "version": "3.9.7"
  }
 },
 "nbformat": 4,
 "nbformat_minor": 5
}
